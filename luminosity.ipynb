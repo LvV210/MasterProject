{
 "cells": [
  {
   "cell_type": "markdown",
   "metadata": {},
   "source": [
    "## Luminosity comparison"
   ]
  },
  {
   "cell_type": "code",
   "execution_count": 1,
   "metadata": {},
   "outputs": [],
   "source": [
    "from import_data import HMXB_parameters_Kaper\n",
    "from import_data import HMXB_parameters\n",
    "from import_data import supergiant_stellar_parameters\n",
    "from import_data import falenga\n",
    "\n",
    "from astropy.constants import R_sun, L_sun\n",
    "\n",
    "import pandas as pd\n",
    "import numpy as np\n",
    "import matplotlib.pyplot as plt"
   ]
  },
  {
   "cell_type": "code",
   "execution_count": 2,
   "metadata": {},
   "outputs": [],
   "source": [
    "df_hmxb = HMXB_parameters()\n",
    "df_sg_params = supergiant_stellar_parameters()\n",
    "df_falenga = falenga()"
   ]
  },
  {
   "cell_type": "markdown",
   "metadata": {},
   "source": [
    "Calculate the luminosity from photometric data"
   ]
  },
  {
   "cell_type": "code",
   "execution_count": 3,
   "metadata": {},
   "outputs": [],
   "source": [
    "for i in range(df_hmxb.shape[0]):\n",
    "    # Calculate extinction\n",
    "    Av = 3.2 * (df_hmxb.loc[i, '(B-V)obs'] - df_hmxb.loc[i, '(B-V)0'])\n",
    "\n",
    "    # Calculate Absulute magnitude (visual)\n",
    "    Mv = df_hmxb.loc[i, 'mv'] - 5 * np.log10(df_hmxb.loc[i, 'distance'] * 1000) + 5 - Av\n",
    "\n",
    "    # Calculate bolomatric absolute magnitude\n",
    "    Mbol = Mv + df_hmxb.loc[i, 'BC']\n",
    "\n",
    "    # Calculate the luminosity in solar luminosities\n",
    "    L = 10**((Mbol - 4.74) / (-2.5))\n",
    "\n",
    "    # Put L in the dataframe\n",
    "    df_hmxb.loc[i, 'luminosity'] = L\n",
    "L_photometric = df_hmxb['luminosity']"
   ]
  },
  {
   "cell_type": "markdown",
   "metadata": {},
   "source": [
    "Caclulate the luminosity from the radius and temperature of the optical star"
   ]
  },
  {
   "cell_type": "code",
   "execution_count": 10,
   "metadata": {},
   "outputs": [],
   "source": [
    "L_bolometric = []\n",
    "\n",
    "for i in range(df_falenga.shape[0]):\n",
    "    # Orbital separation\n",
    "    a = df_falenga.loc[i, 'a'] * R_sun.value\n",
    "    # Inclination\n",
    "    inc = df_falenga.loc[i, 'i']\n",
    "    # Semi eclipse angle\n",
    "    theta_e = df_falenga.loc[i, 'semi_eclipse_angle']\n",
    "    \n",
    "    # Calculate Radius\n",
    "    R_sun = a * ((np.cos(np.deg2rad(inc)))**2 + (np.sin(np.deg2rad(inc)))**2 * (np.sin(np.deg2rad(theta_e)))**2)**(1/2)\n",
    "\n",
    "\n",
    "    L_bolometric.append(L)"
   ]
  },
  {
   "cell_type": "code",
   "execution_count": 11,
   "metadata": {},
   "outputs": [
    {
     "name": "stdout",
     "output_type": "stream",
     "text": [
      "[1.4494896592254104e-17, 2.1979615708422303e-17, 2.0445669770600976e-17, 4.2161039894758666e-17, 2.954107546063138e-17, 6.151347612096745e-17]\n",
      "0     4.920862e+04\n",
      "1     7.299019e+06\n",
      "2     3.765079e+06\n",
      "3     8.499952e+05\n",
      "4     1.126488e+07\n",
      "5     1.568789e+06\n",
      "6     5.231850e+05\n",
      "7     7.754523e+05\n",
      "8     1.742108e+06\n",
      "9     2.013044e+05\n",
      "10    4.963932e+05\n",
      "Name: luminosity, dtype: float64\n"
     ]
    }
   ],
   "source": [
    "print(L_bolometric)\n",
    "print(L_photometric)"
   ]
  },
  {
   "cell_type": "code",
   "execution_count": null,
   "metadata": {},
   "outputs": [],
   "source": []
  }
 ],
 "metadata": {
  "kernelspec": {
   "display_name": "Python 3",
   "language": "python",
   "name": "python3"
  },
  "language_info": {
   "codemirror_mode": {
    "name": "ipython",
    "version": 3
   },
   "file_extension": ".py",
   "mimetype": "text/x-python",
   "name": "python",
   "nbconvert_exporter": "python",
   "pygments_lexer": "ipython3",
   "version": "3.9.18"
  }
 },
 "nbformat": 4,
 "nbformat_minor": 2
}
