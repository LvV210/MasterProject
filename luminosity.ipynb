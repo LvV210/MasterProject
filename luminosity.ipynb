{
 "cells": [
  {
   "cell_type": "markdown",
   "metadata": {},
   "source": [
    "## Luminosity comparison"
   ]
  },
  {
   "cell_type": "code",
   "execution_count": 1,
   "metadata": {},
   "outputs": [],
   "source": [
    "from import_data import HMXB_parameters_Kaper\n",
    "from import_data import HMXB_parameters\n",
    "from import_data import supergiant_stellar_parameters\n",
    "from import_data import falenga\n",
    "from functions import scientific_notation\n",
    "from functions import display_df\n",
    "from import_data import stellar_params\n",
    "from import_data import photometric_params\n",
    "from import_data import BailerJones\n",
    "\n",
    "from astropy.constants import R_sun, L_sun, sigma_sb\n",
    "\n",
    "import pandas as pd\n",
    "import dataframe_image as dfi\n",
    "import numpy as np\n",
    "import matplotlib.pyplot as plt\n",
    "from IPython.display import Markdown as md\n",
    "from tabulate import tabulate"
   ]
  },
  {
   "cell_type": "markdown",
   "metadata": {},
   "source": [
    "Import data"
   ]
  },
  {
   "cell_type": "code",
   "execution_count": 2,
   "metadata": {},
   "outputs": [],
   "source": [
    "# Import data\n",
    "df_hmxb = HMXB_parameters()\n",
    "df_sg_params = supergiant_stellar_parameters()\n",
    "df_falenga = falenga()\n",
    "df_stellar_params = stellar_params()\n",
    "df_photometric_params = photometric_params()\n",
    "df_BJ = BailerJones()\n",
    "df_ID = pd.read_excel('tables/id_converter.xlsx')\n",
    "\n",
    "df_BJ['source_id'] = df_BJ[\"source_id\"].astype(np.int64)\n",
    "df_ID['source_id'] = df_ID[\"source_id\"].astype(np.int64)\n",
    "df_BJ = pd.merge(df_ID, df_BJ, on='source_id')\n",
    "df_BJ['source_id'] = df_BJ['source_id'].astype(str)"
   ]
  },
  {
   "cell_type": "markdown",
   "metadata": {},
   "source": [
    "Make dataframes needed"
   ]
  },
  {
   "cell_type": "code",
   "execution_count": 3,
   "metadata": {},
   "outputs": [],
   "source": [
    "df_L = pd.DataFrame({'id': df_hmxb['id'].copy(),\n",
    "                              \"L_true\": [None] * len(df_hmxb['id']),\n",
    "                              \"L_expected\": [None] * len(df_hmxb['id']),\n",
    "                              \"ST_short\": [None] * len(df_hmxb['id']),\n",
    "                              \"ST\": [None] * len(df_hmxb['id'])})"
   ]
  },
  {
   "cell_type": "markdown",
   "metadata": {},
   "source": [
    "### Calculate the luminosity from photometric data\n",
    "This is the luminosity we observe"
   ]
  },
  {
   "cell_type": "code",
   "execution_count": 4,
   "metadata": {},
   "outputs": [],
   "source": [
    "# for i in range(df_hmxb.shape[0]):\n",
    "#     # Spectral type of object\n",
    "#     spectral_type = df_hmxb.loc[i, \"ST_short\"]\n",
    "#     # Expected (B-V) of object based on spectral type\n",
    "#     BV0 = df_photometric_params[df_photometric_params['ST'] == spectral_type][\"(B-V)0\"].reset_index(drop=True).at[0]\n",
    "#     # Observed (B-V) of object based on simbad filters\n",
    "#     BVobs = df_hmxb.loc[i, '(B-V)obs']\n",
    "#     # Bolometric correction (BC)\n",
    "#     BCv = df_photometric_params[df_photometric_params['ST'] == spectral_type][\"BCv\"].reset_index(drop=True).at[0]\n",
    "\n",
    "#     # Calculate extinction\n",
    "#     Av = 3.2 * (BVobs - BV0)\n",
    "\n",
    "#     # Calculate Absulute magnitude (visual)\n",
    "#     Mv = df_hmxb.loc[i, 'mv'] - 5 * np.log10(df_hmxb.loc[i, 'distance']) + 5 - Av\n",
    "\n",
    "#     # Calculate bolomatric absolute magnitude\n",
    "#     Mbol = Mv + BCv\n",
    "\n",
    "#     # Calculate the luminosity in solar luminosities\n",
    "#     L = 10**((Mbol - 4.74) / (-2.5))\n",
    "\n",
    "#     # Put L in luminosity dataframe\n",
    "#     df_L.loc[df_L[\"id\"] == df_hmxb.loc[i, 'id'], \"L_true\"] = L\n",
    "#     # Put L in the dataframe\n",
    "#     df_hmxb.loc[i, 'luminosity'] = L"
   ]
  },
  {
   "cell_type": "markdown",
   "metadata": {},
   "source": [
    "<font color='red'>Using BJ distance</font>"
   ]
  },
  {
   "cell_type": "code",
   "execution_count": 5,
   "metadata": {},
   "outputs": [],
   "source": [
    "for i in range(df_hmxb.shape[0]):\n",
    "    # Object id\n",
    "    id = df_hmxb.loc[i, 'id']\n",
    "    # Spectral type of object\n",
    "    spectral_type = df_hmxb.loc[i, \"ST_short\"]\n",
    "    # Expected (B-V) of object based on spectral type\n",
    "    BV0 = df_photometric_params[df_photometric_params['ST'] == spectral_type][\"(B-V)0\"].reset_index(drop=True).at[0]\n",
    "    # Observed (B-V) of object based on simbad filters\n",
    "    BVobs = df_hmxb.loc[i, '(B-V)obs']\n",
    "    # Bolometric correction (BC)\n",
    "    BCv = df_photometric_params[df_photometric_params['ST'] == spectral_type][\"BCv\"].reset_index(drop=True).at[0]\n",
    "    # Distance\n",
    "    distance = df_BJ.loc[df_BJ['id'] == id, 'r_med_geo'].reset_index(drop=True).at[0]\n",
    "\n",
    "    # Calculate extinction\n",
    "    Av = 3.2 * (BVobs - BV0)\n",
    "\n",
    "    # Calculate Absulute magnitude (visual)\n",
    "    Mv = df_hmxb.loc[i, 'mv'] - 5 * np.log10(distance) + 5 - Av\n",
    "\n",
    "    # Calculate bolomatric absolute magnitude\n",
    "    Mbol = Mv + BCv\n",
    "\n",
    "    # Calculate the luminosity in solar luminosities\n",
    "    L = 10**((Mbol - 4.74) / (-2.5))\n",
    "\n",
    "    # Put L in luminosity dataframe\n",
    "    df_L.loc[df_L[\"id\"] == df_hmxb.loc[i, 'id'], \"L_true\"] = L\n",
    "    # Put L in the dataframe\n",
    "    df_hmxb.loc[i, 'luminosity'] = L"
   ]
  },
  {
   "cell_type": "markdown",
   "metadata": {},
   "source": [
    "### Caclulate the luminosity from the radius and temperature of the optical star\n",
    "This is the luminosity you would expect"
   ]
  },
  {
   "cell_type": "code",
   "execution_count": 6,
   "metadata": {},
   "outputs": [],
   "source": [
    "for i in range(df_falenga.shape[0]):\n",
    "    # Orbital separation\n",
    "    a = df_falenga.loc[i, 'a'] * R_sun.value\n",
    "    # Inclination\n",
    "    inc = df_falenga.loc[i, 'i']\n",
    "    # Semi eclipse angle\n",
    "    theta_e = df_falenga.loc[i, 'semi_eclipse_angle']\n",
    "\n",
    "    # Calculate Radius\n",
    "    Rob = a * ((np.cos(np.deg2rad(inc)))**2 + (np.sin(np.deg2rad(inc)))**2 * (np.sin(np.deg2rad(theta_e)))**2)**(1/2)\n",
    "\n",
    "    # Object id\n",
    "    id = df_falenga.loc[i, 'id']\n",
    "    # Spectral type\n",
    "    spectral_type = df_hmxb[df_hmxb[\"id\"] == str(id)][\"ST_short\"].reset_index(drop=True).at[0]\n",
    "    # Spectral temperature\n",
    "    Teff = df_stellar_params[df_stellar_params[\"ST\"] == spectral_type][\"Teff\"].reset_index(drop=True).at[0]\n",
    "\n",
    "    # Calculate Luminosity in solar luminosities\n",
    "    L = (4 * np.pi * Rob**2 * sigma_sb.value * Teff**4) / L_sun.value\n",
    "\n",
    "    # Put L in luminosity dataframe\n",
    "    df_L.loc[df_L[\"id\"] == id, \"L_expected\"] = L\n",
    "    df_L.loc[df_L[\"id\"] == id, \"ST_short\"] = spectral_type\n",
    "    df_L.loc[df_L[\"id\"] == id, \"ST\"] = df_hmxb.loc[df_hmxb[\"id\"] == id, \"ST\"]"
   ]
  },
  {
   "cell_type": "markdown",
   "metadata": {},
   "source": [
    "<font color='yellow' size=5> Comparison of $L_{true}$ and $L_{expected}$(bolometric). </font>\n",
    "- The $L_{expected}$ is calculated from $L = 4 \\pi R^{2} \\sigma T_{eff}^{4}$, where:\n",
    "    * $R$ is calculated from the semi-eclipse ange $\\theta_{e}$\n",
    "    * $T_{eff}$ is taken from the models of Martin et al. (2005a)\n",
    "- The $L_{true}$ is determined from photometric data from Simbad and $(B-V)_{0}$ is from martins et al. (2006)"
   ]
  },
  {
   "cell_type": "markdown",
   "metadata": {},
   "source": [
    "Calculate $\\frac{L_{true}}{L_{expected}}$ (all luminosities are in solar units)"
   ]
  },
  {
   "cell_type": "code",
   "execution_count": 7,
   "metadata": {},
   "outputs": [],
   "source": [
    "# Filter out all rows with None values\n",
    "df_L_filtered = df_L.copy().dropna()\n",
    "df_L_filtered.reset_index(drop=True)\n",
    "\n",
    "# Calculate fraction\n",
    "df_L_filtered[\"L_true/L_expected\"] = df_L_filtered[\"L_true\"] / df_L_filtered[\"L_expected\"]"
   ]
  },
  {
   "cell_type": "markdown",
   "metadata": {},
   "source": [
    "Result"
   ]
  },
  {
   "cell_type": "code",
   "execution_count": 8,
   "metadata": {},
   "outputs": [
    {
     "data": {
      "text/markdown": [
       "| id        | $L_{true}[L_{\\odot}]$   | $L_{expected}[L_{\\odot}]$   | Spec. Type (short)   | Spec. Type   | $\\frac{L_{true}}{L_{expected}}$   |\n",
       "|:----------|:------------------------|:----------------------------|:---------------------|:-------------|:----------------------------------|\n",
       "| SMC X-1   | 2.44E+04               | 2.30E+05                   | O9I                  | O9.7Ia+      | 1.06E-01                         |\n",
       "| LMC X-4   | 1.78E+04               | 7.62E+04                   | O8III                | O8III        | 2.33E-01                         |\n",
       "| Vela X-1  | 6.45E+05               | 7.88E+05                   | B0I                  | B0.5Ia       | 8.19E-01                         |\n",
       "| Cen X-3   | 7.84E+06               | 1.36E+05                   | O9III                | O9III        | 5.78E+01                         |\n",
       "| 4U1538-52 | 2.16E+05               | 8.70E+04                   | B0I                  | B0.2Ia       | 2.49E+00                         |\n",
       "| 4U1700-37 | 4.96E+05               | 8.89E+05                   | O6I                  | O6Iafcp      | 5.57E-01                         |"
      ],
      "text/plain": [
       "<IPython.core.display.Markdown object>"
      ]
     },
     "execution_count": 8,
     "metadata": {},
     "output_type": "execute_result"
    }
   ],
   "source": [
    "display_df(df_L_filtered)"
   ]
  },
  {
   "cell_type": "markdown",
   "metadata": {},
   "source": [
    "<font color='yellow' size=5>Comparison of $L_{true}$ and $L_{expected}$(model martins et. al (2005a)). </font>"
   ]
  },
  {
   "cell_type": "code",
   "execution_count": 9,
   "metadata": {},
   "outputs": [],
   "source": [
    "# Create new dataframe for the luminosities\n",
    "df_L_model = pd.DataFrame({'id': df_hmxb['id'].copy(),\n",
    "                              \"L_true\": df_L[\"L_true\"].copy(),\n",
    "                              \"L_expected\": [None] * len(df_hmxb['id']),\n",
    "                              \"ST_short\": [None] * len(df_hmxb['id']),\n",
    "                              \"ST\": [None] * len(df_hmxb['id'])})"
   ]
  },
  {
   "cell_type": "markdown",
   "metadata": {},
   "source": [
    "Get the luminosity for the object from the models of Martin et. al (2005a)"
   ]
  },
  {
   "cell_type": "code",
   "execution_count": 10,
   "metadata": {},
   "outputs": [],
   "source": [
    "for i in range(df_hmxb.shape[0]):\n",
    "    # Spectral type\n",
    "    spectral_type = df_hmxb.loc[i, 'ST_short']\n",
    "    # Luminosity from model\n",
    "    logL = df_stellar_params.loc[df_stellar_params[\"ST\"] == spectral_type, \"log(L/Lsun)\"].reset_index(drop=True).at[0]\n",
    "    L = 10**logL\n",
    "    # Save luminosity in dataframe\n",
    "    df_L_model.loc[i, \"L_expected\"] = L\n",
    "    df_L_model.loc[i, \"ST_short\"] = spectral_type\n",
    "    df_L_model.loc[i, \"ST\"] = df_hmxb.loc[i, \"ST\"]"
   ]
  },
  {
   "cell_type": "code",
   "execution_count": 11,
   "metadata": {},
   "outputs": [],
   "source": [
    "# Calculate fraction\n",
    "df_L_model[\"L_true/L_expected\"] = df_L_model[\"L_true\"] / df_L_model[\"L_expected\"]"
   ]
  },
  {
   "cell_type": "markdown",
   "metadata": {},
   "source": [
    "Result"
   ]
  },
  {
   "cell_type": "code",
   "execution_count": 12,
   "metadata": {},
   "outputs": [
    {
     "data": {
      "text/markdown": [
       "| id         | $L_{true}[L_{\\odot}]$   | $L_{expected}[L_{\\odot}]$   | Spec. Type (short)   | Spec. Type   | $\\frac{L_{true}}{L_{expected}}$   |\n",
       "|:-----------|:------------------------|:----------------------------|:---------------------|:-------------|:----------------------------------|\n",
       "| 2S0114+650 | 1.59E+05               | 2.95E+05                   | B1I                  | B1Iae        | 5.40E-01                         |\n",
       "| SMC X-1    | 2.44E+04               | 4.07E+05                   | O9I                  | O9.7Ia+      | 5.98E-02                         |\n",
       "| LMC X-4    | 1.78E+04               | 2.24E+05                   | O8III                | O8III        | 7.93E-02                         |\n",
       "| Vela X-1   | 6.45E+05               | 3.47E+05                   | B0I                  | B0.5Ia       | 1.86E+00                         |\n",
       "| Cen X-3    | 7.84E+06               | 1.62E+05                   | O9III                | O9III        | 4.83E+01                         |\n",
       "| GX301-2    | 5.37E+06               | 2.95E+05                   | B1I                  | B1.5Iaeq     | 1.82E+01                         |\n",
       "| 4U1538-52  | 2.16E+05               | 3.47E+05                   | B0I                  | B0.2Ia       | 6.24E-01                         |\n",
       "| 4U1700-37  | 4.96E+05               | 6.46E+05                   | O6I                  | O6Iafcp      | 7.68E-01                         |\n",
       "| 4U1907+09  | 9.12E+05               | 4.79E+05                   | O8I                  | O8.5Iab      | 1.91E+00                         |\n",
       "| LMC X-1    | 6.50E+04               | 4.79E+05                   | O8I                  | O8(f)p       | 1.36E-01                         |\n",
       "| Cyg X-1    | 3.41E+05               | 4.07E+05                   | O9I                  | O9.7Iabpvar  | 8.38E-01                         |"
      ],
      "text/plain": [
       "<IPython.core.display.Markdown object>"
      ]
     },
     "execution_count": 12,
     "metadata": {},
     "output_type": "execute_result"
    }
   ],
   "source": [
    "display_df(df_L_model)"
   ]
  },
  {
   "cell_type": "markdown",
   "metadata": {},
   "source": [
    "<font color='yellow' size=5> Comparison of $R_{true}$ and $R_{expected}$ </font> <br></br>\n",
    "where,\n",
    "1. $R_{true}$ is calculated from the semi-eclipse angle.\n",
    "2. $R_{expected}$ is based on the stellar parameters for the stars spectral type. Source Martin et. al (2005a). Get $L$ and $T_{eff}$ and calc R from $L = 4 \\pi R^{2} \\sigma T_{eff}^{4}$.\n",
    "\n",
    "Both are calc. in terms of $R_{\\odot}$"
   ]
  },
  {
   "cell_type": "code",
   "execution_count": 13,
   "metadata": {},
   "outputs": [],
   "source": [
    "# Make radius dataframe\n",
    "df_R = pd.DataFrame({'id': df_hmxb['id'].copy(),\n",
    "                              \"R_true\": [None] * len(df_hmxb['id']),\n",
    "                              \"R_expected\": [None] * len(df_hmxb['id']),\n",
    "                              \"ST_short\": [None] * len(df_hmxb['id']),\n",
    "                              \"ST\": [None] * len(df_hmxb['id'])})"
   ]
  },
  {
   "cell_type": "markdown",
   "metadata": {},
   "source": [
    "1. $R_{true}$"
   ]
  },
  {
   "cell_type": "code",
   "execution_count": 14,
   "metadata": {},
   "outputs": [],
   "source": [
    "for i in range(df_falenga.shape[0]):\n",
    "    # Orbital separation\n",
    "    a = df_falenga.loc[i, 'a']\n",
    "    # Inclination\n",
    "    inc = df_falenga.loc[i, 'i']\n",
    "    # Semi eclipse angle\n",
    "    theta_e = df_falenga.loc[i, 'semi_eclipse_angle']\n",
    "\n",
    "    # Calculate Radius\n",
    "    Rob = a * ((np.cos(np.deg2rad(inc)))**2 + (np.sin(np.deg2rad(inc)))**2 * (np.sin(np.deg2rad(theta_e)))**2)**(1/2)\n",
    "\n",
    "    # Object id\n",
    "    id = df_falenga.loc[i, 'id']\n",
    "    # Spectral type\n",
    "    spectral_type = df_hmxb[df_hmxb[\"id\"] == str(id)][\"ST_short\"].reset_index(drop=True).at[0]\n",
    "\n",
    "    # Put R in luminosity dataframe\n",
    "    df_R.loc[df_R[\"id\"] == id, \"R_true\"] = Rob\n",
    "    df_R.loc[df_R[\"id\"] == id, \"ST_short\"] = spectral_type\n",
    "    df_R.loc[df_R[\"id\"] == id, \"ST\"] = df_hmxb.loc[df_hmxb[\"id\"] == id, \"ST\"]"
   ]
  },
  {
   "cell_type": "markdown",
   "metadata": {},
   "source": [
    "2. $R_{expected}$"
   ]
  },
  {
   "cell_type": "code",
   "execution_count": 15,
   "metadata": {},
   "outputs": [],
   "source": [
    "for i in range(df_hmxb.shape[0]):\n",
    "    # Spectral type\n",
    "    spectral_type = df_hmxb.loc[i, 'ST_short']\n",
    "\n",
    "    # Luminosity from model\n",
    "    logL = df_stellar_params.loc[df_stellar_params[\"ST\"] == spectral_type, \"log(L/Lsun)\"].reset_index(drop=True).at[0]\n",
    "    L = 10**logL\n",
    "\n",
    "    # Effective temperature from model\n",
    "    Teff = df_stellar_params.loc[df_stellar_params[\"ST\"] == spectral_type, \"Teff\"].reset_index(drop=True).at[0]\n",
    "\n",
    "    # Calculate the radius\n",
    "    R = np.sqrt((L_sun.value / R_sun.value**2) * (L / (4 * np.pi * sigma_sb.value * Teff**4)))\n",
    "\n",
    "    # Save luminosity in dataframe\n",
    "    df_R.loc[i, \"R_expected\"] = R\n",
    "    df_R.loc[i, \"ST_short\"] = spectral_type\n",
    "    df_R.loc[i, \"ST\"] = df_hmxb.loc[i, \"ST\"]"
   ]
  },
  {
   "cell_type": "code",
   "execution_count": 16,
   "metadata": {},
   "outputs": [],
   "source": [
    "# Calculate ratio\n",
    "df_R[\"R_true/R_expected\"] = df_R[\"R_true\"] / df_R[\"R_expected\"]"
   ]
  },
  {
   "cell_type": "markdown",
   "metadata": {},
   "source": [
    "Result"
   ]
  },
  {
   "cell_type": "code",
   "execution_count": 17,
   "metadata": {},
   "outputs": [],
   "source": [
    "df_R_filtered = df_R.copy()\n",
    "df_R_filtered = df_R_filtered.dropna().reset_index(drop=True)"
   ]
  },
  {
   "cell_type": "code",
   "execution_count": 18,
   "metadata": {},
   "outputs": [
    {
     "data": {
      "text/markdown": [
       "| id        | $R_{true}[R_{\\odot}]$   | $R_{expected}[R_{\\odot}]$   | Spec. Type (short)   | Spec. Type   | $\\frac{R_{true}}{R_{expected}}$   |\n",
       "|:----------|:------------------------|:----------------------------|:---------------------|:-------------|:----------------------------------|\n",
       "| SMC X-1   | 1.63E+01               | 2.16E+01                   | O9I                  | O9.7Ia+      | 7.52E-01                         |\n",
       "| LMC X-4   | 7.98E+00               | 1.37E+01                   | O8III                | O8III        | 5.84E-01                         |\n",
       "| Vela X-1  | 3.38E+01               | 2.25E+01                   | B0I                  | B0.5Ia       | 1.51E+00                         |\n",
       "| Cen X-3   | 1.21E+01               | 1.32E+01                   | O9III                | O9III        | 9.14E-01                         |\n",
       "| 4U1538-52 | 1.12E+01               | 2.25E+01                   | B0I                  | B0.2Ia       | 5.01E-01                         |\n",
       "| 4U1700-37 | 2.32E+01               | 1.98E+01                   | O6I                  | O6Iafcp      | 1.17E+00                         |"
      ],
      "text/plain": [
       "<IPython.core.display.Markdown object>"
      ]
     },
     "execution_count": 18,
     "metadata": {},
     "output_type": "execute_result"
    }
   ],
   "source": [
    "display_df(df_R_filtered)"
   ]
  },
  {
   "cell_type": "markdown",
   "metadata": {},
   "source": [
    "<br></br>\n",
    "### Compare distance from Bailer Jones et. al (2021) to distances found from the parallax from GAIA ($\\frac{1}{p''}$)"
   ]
  },
  {
   "cell_type": "code",
   "execution_count": 19,
   "metadata": {},
   "outputs": [
    {
     "data": {
      "text/html": [
       "<div>\n",
       "<style scoped>\n",
       "    .dataframe tbody tr th:only-of-type {\n",
       "        vertical-align: middle;\n",
       "    }\n",
       "\n",
       "    .dataframe tbody tr th {\n",
       "        vertical-align: top;\n",
       "    }\n",
       "\n",
       "    .dataframe thead th {\n",
       "        text-align: right;\n",
       "    }\n",
       "</style>\n",
       "<table border=\"1\" class=\"dataframe\">\n",
       "  <thead>\n",
       "    <tr style=\"text-align: right;\">\n",
       "      <th></th>\n",
       "      <th>id</th>\n",
       "      <th>r_med_geo</th>\n",
       "      <th>r_med_photogeo</th>\n",
       "      <th>distance</th>\n",
       "    </tr>\n",
       "  </thead>\n",
       "  <tbody>\n",
       "    <tr>\n",
       "      <th>0</th>\n",
       "      <td>2S0114+650</td>\n",
       "      <td>4475.7110</td>\n",
       "      <td>4527.0576</td>\n",
       "      <td>5091.204930</td>\n",
       "    </tr>\n",
       "    <tr>\n",
       "      <th>1</th>\n",
       "      <td>SMC X-1</td>\n",
       "      <td>16637.6640</td>\n",
       "      <td>15366.1540</td>\n",
       "      <td>250514.135002</td>\n",
       "    </tr>\n",
       "    <tr>\n",
       "      <th>2</th>\n",
       "      <td>LMC X-4</td>\n",
       "      <td>17214.2770</td>\n",
       "      <td>15435.0890</td>\n",
       "      <td>225469.097455</td>\n",
       "    </tr>\n",
       "    <tr>\n",
       "      <th>3</th>\n",
       "      <td>Vela X-1</td>\n",
       "      <td>1960.9159</td>\n",
       "      <td>1969.4784</td>\n",
       "      <td>2015.153991</td>\n",
       "    </tr>\n",
       "    <tr>\n",
       "      <th>4</th>\n",
       "      <td>Cen X-3</td>\n",
       "      <td>6784.6416</td>\n",
       "      <td>6752.4946</td>\n",
       "      <td>7208.804902</td>\n",
       "    </tr>\n",
       "    <tr>\n",
       "      <th>5</th>\n",
       "      <td>GX301-2</td>\n",
       "      <td>3604.5767</td>\n",
       "      <td>3546.0981</td>\n",
       "      <td>3990.086209</td>\n",
       "    </tr>\n",
       "    <tr>\n",
       "      <th>6</th>\n",
       "      <td>4U1538-52</td>\n",
       "      <td>5614.2314</td>\n",
       "      <td>5535.3643</td>\n",
       "      <td>7814.975864</td>\n",
       "    </tr>\n",
       "    <tr>\n",
       "      <th>7</th>\n",
       "      <td>4U1700-37</td>\n",
       "      <td>1499.6696</td>\n",
       "      <td>1513.9932</td>\n",
       "      <td>1580.438316</td>\n",
       "    </tr>\n",
       "    <tr>\n",
       "      <th>8</th>\n",
       "      <td>4U1907+09</td>\n",
       "      <td>3571.8506</td>\n",
       "      <td>3170.2651</td>\n",
       "      <td>4298.703408</td>\n",
       "    </tr>\n",
       "    <tr>\n",
       "      <th>9</th>\n",
       "      <td>LMC X-1</td>\n",
       "      <td>23756.2090</td>\n",
       "      <td>21067.4060</td>\n",
       "      <td>36402.117341</td>\n",
       "    </tr>\n",
       "    <tr>\n",
       "      <th>10</th>\n",
       "      <td>Cyg X-1</td>\n",
       "      <td>2146.6218</td>\n",
       "      <td>2164.8872</td>\n",
       "      <td>2252.749641</td>\n",
       "    </tr>\n",
       "  </tbody>\n",
       "</table>\n",
       "</div>"
      ],
      "text/plain": [
       "            id   r_med_geo  r_med_photogeo       distance\n",
       "0   2S0114+650   4475.7110       4527.0576    5091.204930\n",
       "1      SMC X-1  16637.6640      15366.1540  250514.135002\n",
       "2      LMC X-4  17214.2770      15435.0890  225469.097455\n",
       "3     Vela X-1   1960.9159       1969.4784    2015.153991\n",
       "4      Cen X-3   6784.6416       6752.4946    7208.804902\n",
       "5      GX301-2   3604.5767       3546.0981    3990.086209\n",
       "6    4U1538-52   5614.2314       5535.3643    7814.975864\n",
       "7    4U1700-37   1499.6696       1513.9932    1580.438316\n",
       "8    4U1907+09   3571.8506       3170.2651    4298.703408\n",
       "9      LMC X-1  23756.2090      21067.4060   36402.117341\n",
       "10     Cyg X-1   2146.6218       2164.8872    2252.749641"
      ]
     },
     "execution_count": 19,
     "metadata": {},
     "output_type": "execute_result"
    }
   ],
   "source": [
    "pd.merge(df_hmxb, df_BJ, on='id')[['id', 'r_med_geo', 'r_med_photogeo', 'distance']]"
   ]
  }
 ],
 "metadata": {
  "kernelspec": {
   "display_name": "Python 3",
   "language": "python",
   "name": "python3"
  },
  "language_info": {
   "codemirror_mode": {
    "name": "ipython",
    "version": 3
   },
   "file_extension": ".py",
   "mimetype": "text/x-python",
   "name": "python",
   "nbconvert_exporter": "python",
   "pygments_lexer": "ipython3",
   "version": "3.9.18"
  }
 },
 "nbformat": 4,
 "nbformat_minor": 2
}
