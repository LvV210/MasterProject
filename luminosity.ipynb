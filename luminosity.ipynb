{
 "cells": [
  {
   "cell_type": "markdown",
   "metadata": {},
   "source": [
    "## Luminosity comparison"
   ]
  },
  {
   "cell_type": "code",
   "execution_count": 1,
   "metadata": {},
   "outputs": [],
   "source": [
    "# from import_data import HMXB_parameters_Kaper\n",
    "# from import_data import HMXB_parameters\n",
    "# from import_data import supergiant_stellar_parameters\n",
    "# from import_data import falenga\n",
    "# from functions import scientific_notation\n",
    "# from functions import display_df\n",
    "# from functions import decompose_spectral_type\n",
    "# from import_data import stellar_params\n",
    "# from import_data import photometric_params\n",
    "# from import_data import BailerJones\n",
    "from functions import *\n",
    "from import_data import *\n",
    "\n",
    "from astropy.constants import R_sun, L_sun, sigma_sb\n",
    "import re\n",
    "import pandas as pd\n",
    "import dataframe_image as dfi\n",
    "import numpy as np\n",
    "import matplotlib.pyplot as plt\n",
    "from IPython.display import Markdown as md"
   ]
  },
  {
   "cell_type": "markdown",
   "metadata": {},
   "source": [
    "Import data"
   ]
  },
  {
   "cell_type": "code",
   "execution_count": 2,
   "metadata": {},
   "outputs": [],
   "source": [
    "# Import data\n",
    "df_hmxb = HMXB_parameters()\n",
    "df_sg_params = supergiant_stellar_parameters()\n",
    "df_falenga = falenga()\n",
    "df_stellar_params = stellar_params()\n",
    "df_photometric_params = photometric_params()\n",
    "df_BJ = BailerJones()"
   ]
  },
  {
   "cell_type": "markdown",
   "metadata": {},
   "source": [
    "Make dataframes needed"
   ]
  },
  {
   "cell_type": "code",
   "execution_count": 3,
   "metadata": {},
   "outputs": [],
   "source": [
    "df_L = pd.DataFrame({'id': df_hmxb['id'].copy(),\n",
    "                              \"L_true\": [None] * len(df_hmxb['id']),\n",
    "                              \"L_expected\": [None] * len(df_hmxb['id']),\n",
    "                              \"ST_short\": [None] * len(df_hmxb['id']),\n",
    "                              \"ST\": [None] * len(df_hmxb['id']),\n",
    "                              \"logL_true/L_sun\": [None] * len(df_hmxb['id']),\n",
    "                              \"Teff\": [None] * len(df_hmxb['id'])})"
   ]
  },
  {
   "cell_type": "markdown",
   "metadata": {},
   "source": [
    "### Calculate the luminosity from photometric data\n",
    "This is the luminosity we observe"
   ]
  },
  {
   "cell_type": "code",
   "execution_count": 4,
   "metadata": {},
   "outputs": [],
   "source": [
    "# for i in range(df_hmxb.shape[0]):\n",
    "#     # Spectral type of object\n",
    "#     spectral_type = df_hmxb.loc[i, \"ST_short\"]\n",
    "#     # Expected (B-V) of object based on spectral type\n",
    "#     BV0 = df_photometric_params[df_photometric_params['ST'] == spectral_type][\"(B-V)0\"].reset_index(drop=True).at[0]\n",
    "#     # Observed (B-V) of object based on simbad filters\n",
    "#     BVobs = df_hmxb.loc[i, '(B-V)obs']\n",
    "#     # Bolometric correction (BC)\n",
    "#     BCv = df_photometric_params[df_photometric_params['ST'] == spectral_type][\"BCv\"].reset_index(drop=True).at[0]\n",
    "\n",
    "#     # Calculate extinction\n",
    "#     Av = 3.2 * (BVobs - BV0)\n",
    "\n",
    "#     # Calculate Absulute magnitude (visual)\n",
    "#     Mv = df_hmxb.loc[i, 'mv'] - 5 * np.log10(df_hmxb.loc[i, 'distance']) + 5 - Av\n",
    "\n",
    "#     # Calculate bolomatric absolute magnitude\n",
    "#     Mbol = Mv + BCv\n",
    "\n",
    "#     # Calculate the luminosity in solar luminosities\n",
    "#     L = 10**((Mbol - 4.74) / (-2.5))\n",
    "\n",
    "#     # Put L in luminosity dataframe\n",
    "#     df_L.loc[df_L[\"id\"] == df_hmxb.loc[i, 'id'], \"L_true\"] = L\n",
    "#     # Put L in the dataframe\n",
    "#     df_hmxb.loc[i, 'luminosity'] = L"
   ]
  },
  {
   "cell_type": "markdown",
   "metadata": {},
   "source": [
    "<font color='red'>Using BJ distance</font>"
   ]
  },
  {
   "cell_type": "code",
   "execution_count": 5,
   "metadata": {},
   "outputs": [],
   "source": [
    "for i in range(df_hmxb.shape[0]):\n",
    "    # Object id\n",
    "    id = df_hmxb.loc[i, 'id']\n",
    "    # Spectral type of object\n",
    "    spectral_type = df_hmxb.loc[i, \"ST_short\"]\n",
    "    # Expected (B-V) of object based on spectral type\n",
    "    BV0 = df_photometric_params[df_photometric_params['ST'] == spectral_type][\"(B-V)0\"].reset_index(drop=True).at[0]\n",
    "    # Observed (B-V) of object based on simbad filters\n",
    "    BVobs = df_hmxb.loc[i, '(B-V)obs']\n",
    "    # Bolometric correction (BC)\n",
    "    BCv = df_photometric_params[df_photometric_params['ST'] == spectral_type][\"BCv\"].reset_index(drop=True).at[0]\n",
    "    # Distance\n",
    "    distance = df_BJ.loc[df_BJ['id'] == id, 'r_med_geo'].reset_index(drop=True).at[0]\n",
    "\n",
    "    # Calculate extinction\n",
    "    Av = 3.2 * (BVobs - BV0)\n",
    "\n",
    "    # Calculate Absulute magnitude (visual)\n",
    "    Mv = df_hmxb.loc[i, 'mv'] - 5 * np.log10(distance) + 5 - Av\n",
    "\n",
    "    # Calculate bolomatric absolute magnitude\n",
    "    Mbol = Mv + BCv\n",
    "\n",
    "    # Calculate the luminosity in solar luminosities\n",
    "    L = 10**((Mbol - 4.74) / (-2.5))\n",
    "\n",
    "    # Put L in luminosity dataframe\n",
    "    df_L.loc[df_L[\"id\"] == df_hmxb.loc[i, 'id'], \"L_true\"] = L\n",
    "    df_L.loc[df_L[\"id\"] == df_hmxb.loc[i, 'id'], \"logL_true/L_sun\"] = np.log10(L)\n",
    "    df_L.loc[df_L[\"id\"] == df_hmxb.loc[i, 'id'], \"Teff\"] = df_stellar_params[df_stellar_params[\"ST\"] == spectral_type][\"Teff\"].reset_index(drop=True).at[0]\n",
    "    # Put L in the dataframe\n",
    "    df_hmxb.loc[i, 'luminosity'] = L"
   ]
  },
  {
   "cell_type": "markdown",
   "metadata": {},
   "source": [
    "### Caclulate the luminosity from the radius and temperature of the optical star\n",
    "This is the luminosity you would expect"
   ]
  },
  {
   "cell_type": "code",
   "execution_count": 6,
   "metadata": {},
   "outputs": [],
   "source": [
    "for i in range(df_falenga.shape[0]):\n",
    "    # Orbital separation\n",
    "    a = df_falenga.loc[i, 'a'] * R_sun.value\n",
    "    # Inclination\n",
    "    inc = df_falenga.loc[i, 'i']\n",
    "    # Semi eclipse angle\n",
    "    theta_e = df_falenga.loc[i, 'semi_eclipse_angle']\n",
    "\n",
    "    # Calculate Radius\n",
    "    Rob = a * ((np.cos(np.deg2rad(inc)))**2 + (np.sin(np.deg2rad(inc)))**2 * (np.sin(np.deg2rad(theta_e)))**2)**(1/2)\n",
    "\n",
    "    # Object id\n",
    "    id = df_falenga.loc[i, 'id']\n",
    "    # Spectral type\n",
    "    spectral_type = df_hmxb[df_hmxb[\"id\"] == str(id)][\"ST_short\"].reset_index(drop=True).at[0]\n",
    "    # Spectral temperature\n",
    "    Teff = df_stellar_params[df_stellar_params[\"ST\"] == spectral_type][\"Teff\"].reset_index(drop=True).at[0]\n",
    "\n",
    "    # Calculate Luminosity in solar luminosities\n",
    "    L = (4 * np.pi * Rob**2 * sigma_sb.value * Teff**4) / L_sun.value\n",
    "\n",
    "    # Put L in luminosity dataframe\n",
    "    df_L.loc[df_L[\"id\"] == id, \"L_expected\"] = L\n",
    "    df_L.loc[df_L[\"id\"] == id, \"ST_short\"] = spectral_type\n",
    "    df_L.loc[df_L[\"id\"] == id, \"ST\"] = df_hmxb.loc[df_hmxb[\"id\"] == id, \"ST\"]"
   ]
  },
  {
   "cell_type": "markdown",
   "metadata": {},
   "source": [
    "<font color='yellow' size=5> Comparison of $L_{true}$ and $L_{expected}$(bolometric). </font>\n",
    "- The $L_{expected}$ is calculated from $L = 4 \\pi R^{2} \\sigma T_{eff}^{4}$, where:\n",
    "    * $R$ is calculated from the semi-eclipse ange $\\theta_{e}$\n",
    "    * $T_{eff}$ is taken from the models of Martin et al. (2005a)\n",
    "- The $L_{true}$ is determined from photometric data from Simbad and $(B-V)_{0}$ is from martins et al. (2006)"
   ]
  },
  {
   "cell_type": "markdown",
   "metadata": {},
   "source": [
    "Calculate $\\frac{L_{true}}{L_{expected}}$ (all luminosities are in solar units)"
   ]
  },
  {
   "cell_type": "code",
   "execution_count": 7,
   "metadata": {},
   "outputs": [],
   "source": [
    "# Filter out all rows with None values\n",
    "df_L_filtered = df_L.copy().dropna()\n",
    "df_L_filtered.reset_index(drop=True)\n",
    "\n",
    "# Calculate fraction\n",
    "df_L_filtered[\"L_true/L_expected\"] = df_L_filtered[\"L_true\"] / df_L_filtered[\"L_expected\"]"
   ]
  },
  {
   "cell_type": "markdown",
   "metadata": {},
   "source": [
    "Result"
   ]
  },
  {
   "cell_type": "code",
   "execution_count": 8,
   "metadata": {},
   "outputs": [
    {
     "data": {
      "text/markdown": [
       "| id        | $L_{true}[L_{\\odot}]$   | $L_{expected}[L_{\\odot}]$   | Spec. Type (short)   | Spec. Type   | logL_true/L_sun   |   $T_{eff}[K]$ | $\\frac{L_{true}}{L_{expected}}$   |\n",
       "|:----------|:------------------------|:----------------------------|:---------------------|:-------------|:------------------|---------------:|:----------------------------------|\n",
       "| SMC X-1   | 3.61E+05               | 2.30E+05                   | O9I                  | O9.7Ia+      | 5.56E+00         |          31368 | 1.57E+00                         |\n",
       "| LMC X-4   | 1.50E+05               | 7.62E+04                   | O8III                | O8III        | 5.18E+00         |          33961 | 1.97E+00                         |\n",
       "| Vela X-1  | 6.45E+05               | 7.88E+05                   | B0I                  | B0.5Ia       | 5.81E+00         |          29558 | 8.19E-01                         |\n",
       "| Cen X-3   | 7.84E+06               | 1.36E+05                   | O9III                | O9III        | 6.89E+00         |          31846 | 5.78E+01                         |\n",
       "| 4U1538-52 | 2.16E+05               | 8.70E+04                   | B0I                  | B0.2Ia       | 5.34E+00         |          29558 | 2.49E+00                         |\n",
       "| 4U1700-37 | 4.96E+05               | 8.89E+05                   | O6I                  | O6Iafcp      | 5.70E+00         |          36801 | 5.57E-01                         |"
      ],
      "text/plain": [
       "<IPython.core.display.Markdown object>"
      ]
     },
     "execution_count": 8,
     "metadata": {},
     "output_type": "execute_result"
    }
   ],
   "source": [
    "display_df(df_L_filtered)"
   ]
  },
  {
   "cell_type": "markdown",
   "metadata": {},
   "source": [
    "<font color='yellow' size=5>Comparison of $L_{true}$ and $L_{expected}$(model martins et. al (2005a)). </font>"
   ]
  },
  {
   "cell_type": "code",
   "execution_count": 9,
   "metadata": {},
   "outputs": [],
   "source": [
    "# Create new dataframe for the luminosities\n",
    "df_L_model = pd.DataFrame({'id': df_hmxb['id'].copy(),\n",
    "                              \"L_true\": df_L[\"L_true\"].copy(),\n",
    "                              \"L_expected\": [None] * len(df_hmxb['id']),\n",
    "                              \"ST_short\": [None] * len(df_hmxb['id']),\n",
    "                              \"ST\": [None] * len(df_hmxb['id'])})"
   ]
  },
  {
   "cell_type": "markdown",
   "metadata": {},
   "source": [
    "Get the luminosity for the object from the models of Martin et. al (2005a)"
   ]
  },
  {
   "cell_type": "code",
   "execution_count": 10,
   "metadata": {},
   "outputs": [],
   "source": [
    "for i in range(df_hmxb.shape[0]):\n",
    "    # Spectral type\n",
    "    spectral_type = df_hmxb.loc[i, 'ST_short']\n",
    "    # Luminosity from model\n",
    "    logL = df_stellar_params.loc[df_stellar_params[\"ST\"] == spectral_type, \"log(L/Lsun)\"].reset_index(drop=True).at[0]\n",
    "    L = 10**logL\n",
    "    # Save luminosity in dataframe\n",
    "    df_L_model.loc[i, \"L_expected\"] = L\n",
    "    df_L_model.loc[i, \"ST_short\"] = spectral_type\n",
    "    df_L_model.loc[i, \"ST\"] = df_hmxb.loc[i, \"ST\"]"
   ]
  },
  {
   "cell_type": "code",
   "execution_count": 11,
   "metadata": {},
   "outputs": [],
   "source": [
    "# Calculate fraction\n",
    "df_L_model[\"L_true/L_expected\"] = df_L_model[\"L_true\"] / df_L_model[\"L_expected\"]"
   ]
  },
  {
   "cell_type": "markdown",
   "metadata": {},
   "source": [
    "Result"
   ]
  },
  {
   "cell_type": "code",
   "execution_count": 12,
   "metadata": {},
   "outputs": [
    {
     "data": {
      "text/markdown": [
       "| id         | $L_{true}[L_{\\odot}]$   | $L_{expected}[L_{\\odot}]$   | Spec. Type (short)   | Spec. Type   | $\\frac{L_{true}}{L_{expected}}$   |\n",
       "|:-----------|:------------------------|:----------------------------|:---------------------|:-------------|:----------------------------------|\n",
       "| 2S0114+650 | 1.59E+05               | 2.95E+05                   | B1I                  | B1Iae        | 5.40E-01                         |\n",
       "| SMC X-1    | 3.61E+05               | 4.07E+05                   | O9I                  | O9.7Ia+      | 8.85E-01                         |\n",
       "| LMC X-4    | 1.50E+05               | 2.24E+05                   | O8III                | O8III        | 6.69E-01                         |\n",
       "| Vela X-1   | 6.45E+05               | 3.47E+05                   | B0I                  | B0.5Ia       | 1.86E+00                         |\n",
       "| Cen X-3    | 7.84E+06               | 1.62E+05                   | O9III                | O9III        | 4.83E+01                         |\n",
       "| GX301-2    | 5.37E+06               | 2.95E+05                   | B1I                  | B1.5Iaeq     | 1.82E+01                         |\n",
       "| 4U1538-52  | 2.16E+05               | 3.47E+05                   | B0I                  | B0.2Ia       | 6.24E-01                         |\n",
       "| 4U1700-37  | 4.96E+05               | 6.46E+05                   | O6I                  | O6Iafcp      | 7.68E-01                         |\n",
       "| 4U1907+09  | 9.12E+05               | 4.79E+05                   | O8I                  | O8.5Iab      | 1.91E+00                         |\n",
       "| LMC X-1    | 2.88E+05               | 4.79E+05                   | O8I                  | O8(f)p       | 6.02E-01                         |\n",
       "| Cyg X-1    | 3.41E+05               | 4.07E+05                   | O9I                  | O9.7Iabpvar  | 8.38E-01                         |"
      ],
      "text/plain": [
       "<IPython.core.display.Markdown object>"
      ]
     },
     "execution_count": 12,
     "metadata": {},
     "output_type": "execute_result"
    }
   ],
   "source": [
    "display_df(df_L_model)"
   ]
  },
  {
   "cell_type": "markdown",
   "metadata": {},
   "source": [
    "<font color='yellow' size=5> Comparison of $R_{true}$ and $R_{expected}$ </font> <br></br>\n",
    "where,\n",
    "1. $R_{true}$ is calculated from the semi-eclipse angle.\n",
    "2. $R_{expected}$ is based on the stellar parameters for the stars spectral type. Source Martin et. al (2005a). Get $L$ and $T_{eff}$ and calc R from $L = 4 \\pi R^{2} \\sigma T_{eff}^{4}$.\n",
    "\n",
    "Both are calc. in terms of $R_{\\odot}$"
   ]
  },
  {
   "cell_type": "code",
   "execution_count": 13,
   "metadata": {},
   "outputs": [],
   "source": [
    "# Make radius dataframe\n",
    "df_R = pd.DataFrame({'id': df_hmxb['id'].copy(),\n",
    "                              \"R_true\": [None] * len(df_hmxb['id']),\n",
    "                              \"R_expected\": [None] * len(df_hmxb['id']),\n",
    "                              \"ST_short\": [None] * len(df_hmxb['id']),\n",
    "                              \"ST\": [None] * len(df_hmxb['id'])})"
   ]
  },
  {
   "cell_type": "markdown",
   "metadata": {},
   "source": [
    "1. $R_{true}$"
   ]
  },
  {
   "cell_type": "code",
   "execution_count": 14,
   "metadata": {},
   "outputs": [],
   "source": [
    "for i in range(df_falenga.shape[0]):\n",
    "    # Orbital separation\n",
    "    a = df_falenga.loc[i, 'a']\n",
    "    # Inclination\n",
    "    inc = df_falenga.loc[i, 'i']\n",
    "    # Semi eclipse angle\n",
    "    theta_e = df_falenga.loc[i, 'semi_eclipse_angle']\n",
    "\n",
    "    # Calculate Radius\n",
    "    Rob = a * ((np.cos(np.deg2rad(inc)))**2 + (np.sin(np.deg2rad(inc)))**2 * (np.sin(np.deg2rad(theta_e)))**2)**(1/2)\n",
    "\n",
    "    # Object id\n",
    "    id = df_falenga.loc[i, 'id']\n",
    "    # Spectral type\n",
    "    spectral_type = df_hmxb[df_hmxb[\"id\"] == str(id)][\"ST_short\"].reset_index(drop=True).at[0]\n",
    "\n",
    "    # Put R in luminosity dataframe\n",
    "    df_R.loc[df_R[\"id\"] == id, \"R_true\"] = Rob\n",
    "    df_R.loc[df_R[\"id\"] == id, \"ST_short\"] = spectral_type\n",
    "    df_R.loc[df_R[\"id\"] == id, \"ST\"] = df_hmxb.loc[df_hmxb[\"id\"] == id, \"ST\"]"
   ]
  },
  {
   "cell_type": "markdown",
   "metadata": {},
   "source": [
    "2. $R_{expected}$"
   ]
  },
  {
   "cell_type": "code",
   "execution_count": 15,
   "metadata": {},
   "outputs": [],
   "source": [
    "for i in range(df_hmxb.shape[0]):\n",
    "    # Spectral type\n",
    "    spectral_type = df_hmxb.loc[i, 'ST_short']\n",
    "    # id\n",
    "    id = df_hmxb.loc[i, 'id']\n",
    "\n",
    "    # Luminosity from model\n",
    "    # logL = df_stellar_params.loc[df_stellar_params[\"ST\"] == spectral_type, \"log(L/Lsun)\"].reset_index(drop=True).at[0]\n",
    "    # L = 10**logL\n",
    "\n",
    "    # True luminosity\n",
    "    L = df_L.loc[df_L[\"id\"] == id, \"L_true\"].reset_index(drop=True).at[0]\n",
    "\n",
    "\n",
    "    # Effective temperature from model\n",
    "    Teff = df_stellar_params.loc[df_stellar_params[\"ST\"] == spectral_type, \"Teff\"].reset_index(drop=True).at[0]\n",
    "\n",
    "    # Calculate the radius\n",
    "    R = np.sqrt((L_sun.value / R_sun.value**2) * (L / (4 * np.pi * sigma_sb.value * Teff**4)))\n",
    "\n",
    "    # Save luminosity in dataframe\n",
    "    df_R.loc[i, \"R_expected\"] = R\n",
    "    df_R.loc[i, \"ST_short\"] = spectral_type\n",
    "    df_R.loc[i, \"ST\"] = df_hmxb.loc[i, \"ST\"]"
   ]
  },
  {
   "cell_type": "code",
   "execution_count": 16,
   "metadata": {},
   "outputs": [
    {
     "data": {
      "text/html": [
       "<div>\n",
       "<style scoped>\n",
       "    .dataframe tbody tr th:only-of-type {\n",
       "        vertical-align: middle;\n",
       "    }\n",
       "\n",
       "    .dataframe tbody tr th {\n",
       "        vertical-align: top;\n",
       "    }\n",
       "\n",
       "    .dataframe thead th {\n",
       "        text-align: right;\n",
       "    }\n",
       "</style>\n",
       "<table border=\"1\" class=\"dataframe\">\n",
       "  <thead>\n",
       "    <tr style=\"text-align: right;\">\n",
       "      <th></th>\n",
       "      <th>id</th>\n",
       "      <th>L_true</th>\n",
       "      <th>L_expected</th>\n",
       "      <th>ST_short</th>\n",
       "      <th>ST</th>\n",
       "      <th>logL_true/L_sun</th>\n",
       "      <th>Teff</th>\n",
       "    </tr>\n",
       "  </thead>\n",
       "  <tbody>\n",
       "    <tr>\n",
       "      <th>0</th>\n",
       "      <td>2S0114+650</td>\n",
       "      <td>159413.123781</td>\n",
       "      <td>None</td>\n",
       "      <td>None</td>\n",
       "      <td>None</td>\n",
       "      <td>5.202524</td>\n",
       "      <td>28653</td>\n",
       "    </tr>\n",
       "    <tr>\n",
       "      <th>1</th>\n",
       "      <td>SMC X-1</td>\n",
       "      <td>360711.46636</td>\n",
       "      <td>230458.882136</td>\n",
       "      <td>O9I</td>\n",
       "      <td>O9.7Ia+</td>\n",
       "      <td>5.55716</td>\n",
       "      <td>31368</td>\n",
       "    </tr>\n",
       "    <tr>\n",
       "      <th>2</th>\n",
       "      <td>LMC X-4</td>\n",
       "      <td>149809.725646</td>\n",
       "      <td>76233.463559</td>\n",
       "      <td>O8III</td>\n",
       "      <td>O8III</td>\n",
       "      <td>5.17554</td>\n",
       "      <td>33961</td>\n",
       "    </tr>\n",
       "    <tr>\n",
       "      <th>3</th>\n",
       "      <td>Vela X-1</td>\n",
       "      <td>645235.027998</td>\n",
       "      <td>787833.145325</td>\n",
       "      <td>B0I</td>\n",
       "      <td>B0.5Ia</td>\n",
       "      <td>5.809718</td>\n",
       "      <td>29558</td>\n",
       "    </tr>\n",
       "    <tr>\n",
       "      <th>4</th>\n",
       "      <td>Cen X-3</td>\n",
       "      <td>7838876.49187</td>\n",
       "      <td>135535.568808</td>\n",
       "      <td>O9III</td>\n",
       "      <td>O9III</td>\n",
       "      <td>6.894254</td>\n",
       "      <td>31846</td>\n",
       "    </tr>\n",
       "    <tr>\n",
       "      <th>5</th>\n",
       "      <td>GX301-2</td>\n",
       "      <td>5366715.117978</td>\n",
       "      <td>None</td>\n",
       "      <td>None</td>\n",
       "      <td>None</td>\n",
       "      <td>6.729709</td>\n",
       "      <td>28653</td>\n",
       "    </tr>\n",
       "    <tr>\n",
       "      <th>6</th>\n",
       "      <td>4U1538-52</td>\n",
       "      <td>216461.477106</td>\n",
       "      <td>87035.492853</td>\n",
       "      <td>B0I</td>\n",
       "      <td>B0.2Ia</td>\n",
       "      <td>5.335381</td>\n",
       "      <td>29558</td>\n",
       "    </tr>\n",
       "    <tr>\n",
       "      <th>7</th>\n",
       "      <td>4U1700-37</td>\n",
       "      <td>495668.335316</td>\n",
       "      <td>889312.994102</td>\n",
       "      <td>O6I</td>\n",
       "      <td>O6Iafcp</td>\n",
       "      <td>5.695191</td>\n",
       "      <td>36801</td>\n",
       "    </tr>\n",
       "    <tr>\n",
       "      <th>8</th>\n",
       "      <td>4U1907+09</td>\n",
       "      <td>912402.718683</td>\n",
       "      <td>None</td>\n",
       "      <td>None</td>\n",
       "      <td>None</td>\n",
       "      <td>5.960187</td>\n",
       "      <td>33179</td>\n",
       "    </tr>\n",
       "    <tr>\n",
       "      <th>9</th>\n",
       "      <td>LMC X-1</td>\n",
       "      <td>288097.8443</td>\n",
       "      <td>None</td>\n",
       "      <td>None</td>\n",
       "      <td>None</td>\n",
       "      <td>5.45954</td>\n",
       "      <td>33179</td>\n",
       "    </tr>\n",
       "    <tr>\n",
       "      <th>10</th>\n",
       "      <td>Cyg X-1</td>\n",
       "      <td>341280.183048</td>\n",
       "      <td>None</td>\n",
       "      <td>None</td>\n",
       "      <td>None</td>\n",
       "      <td>5.533111</td>\n",
       "      <td>31368</td>\n",
       "    </tr>\n",
       "  </tbody>\n",
       "</table>\n",
       "</div>"
      ],
      "text/plain": [
       "            id          L_true     L_expected ST_short        ST  \\\n",
       "0   2S0114+650   159413.123781           None     None      None   \n",
       "1      SMC X-1    360711.46636  230458.882136      O9I  O9.7Ia+    \n",
       "2      LMC X-4   149809.725646   76233.463559    O8III     O8III   \n",
       "3     Vela X-1   645235.027998  787833.145325      B0I    B0.5Ia   \n",
       "4      Cen X-3   7838876.49187  135535.568808    O9III     O9III   \n",
       "5      GX301-2  5366715.117978           None     None      None   \n",
       "6    4U1538-52   216461.477106   87035.492853      B0I    B0.2Ia   \n",
       "7    4U1700-37   495668.335316  889312.994102      O6I  O6Iafcp    \n",
       "8    4U1907+09   912402.718683           None     None      None   \n",
       "9      LMC X-1     288097.8443           None     None      None   \n",
       "10     Cyg X-1   341280.183048           None     None      None   \n",
       "\n",
       "   logL_true/L_sun   Teff  \n",
       "0         5.202524  28653  \n",
       "1          5.55716  31368  \n",
       "2          5.17554  33961  \n",
       "3         5.809718  29558  \n",
       "4         6.894254  31846  \n",
       "5         6.729709  28653  \n",
       "6         5.335381  29558  \n",
       "7         5.695191  36801  \n",
       "8         5.960187  33179  \n",
       "9          5.45954  33179  \n",
       "10        5.533111  31368  "
      ]
     },
     "execution_count": 16,
     "metadata": {},
     "output_type": "execute_result"
    }
   ],
   "source": [
    "df_L"
   ]
  },
  {
   "cell_type": "code",
   "execution_count": 17,
   "metadata": {},
   "outputs": [],
   "source": [
    "# Calculate ratio\n",
    "df_R[\"R_expected/R_true\"] = df_R[\"R_expected\"] / df_R[\"R_true\"]"
   ]
  },
  {
   "cell_type": "markdown",
   "metadata": {},
   "source": [
    "Result"
   ]
  },
  {
   "cell_type": "code",
   "execution_count": 18,
   "metadata": {},
   "outputs": [],
   "source": [
    "df_R_filtered = df_R.copy()\n",
    "df_R_filtered = df_R_filtered.dropna().reset_index(drop=True)"
   ]
  },
  {
   "cell_type": "code",
   "execution_count": 19,
   "metadata": {},
   "outputs": [
    {
     "data": {
      "text/markdown": [
       "| id        | $R_{true}[R_{\\odot}]$   | $R_{expected}[R_{\\odot}]$   | Spec. Type (short)   | Spec. Type   | R_expected/R_true   |\n",
       "|:----------|:------------------------|:----------------------------|:---------------------|:-------------|:--------------------|\n",
       "| SMC X-1   | 1.63E+01               | 2.03E+01                   | O9I                  | O9.7Ia+      | 1.25E+00           |\n",
       "| LMC X-4   | 7.98E+00               | 1.12E+01                   | O8III                | O8III        | 1.40E+00           |\n",
       "| Vela X-1  | 3.38E+01               | 3.06E+01                   | B0I                  | B0.5Ia       | 9.05E-01           |\n",
       "| Cen X-3   | 1.21E+01               | 9.20E+01                   | O9III                | O9III        | 7.61E+00           |\n",
       "| 4U1538-52 | 1.12E+01               | 1.77E+01                   | B0I                  | B0.2Ia       | 1.58E+00           |\n",
       "| 4U1700-37 | 2.32E+01               | 1.73E+01                   | O6I                  | O6Iafcp      | 7.47E-01           |"
      ],
      "text/plain": [
       "<IPython.core.display.Markdown object>"
      ]
     },
     "execution_count": 19,
     "metadata": {},
     "output_type": "execute_result"
    }
   ],
   "source": [
    "display_df(df_R_filtered)"
   ]
  },
  {
   "cell_type": "code",
   "execution_count": 20,
   "metadata": {},
   "outputs": [
    {
     "data": {
      "text/html": [
       "<div>\n",
       "<style scoped>\n",
       "    .dataframe tbody tr th:only-of-type {\n",
       "        vertical-align: middle;\n",
       "    }\n",
       "\n",
       "    .dataframe tbody tr th {\n",
       "        vertical-align: top;\n",
       "    }\n",
       "\n",
       "    .dataframe thead th {\n",
       "        text-align: right;\n",
       "    }\n",
       "</style>\n",
       "<table border=\"1\" class=\"dataframe\">\n",
       "  <thead>\n",
       "    <tr style=\"text-align: right;\">\n",
       "      <th></th>\n",
       "      <th>id</th>\n",
       "      <th>R_true</th>\n",
       "      <th>R_expected</th>\n",
       "      <th>ST_short</th>\n",
       "      <th>ST</th>\n",
       "      <th>R_expected/R_true</th>\n",
       "    </tr>\n",
       "  </thead>\n",
       "  <tbody>\n",
       "    <tr>\n",
       "      <th>0</th>\n",
       "      <td>SMC X-1</td>\n",
       "      <td>16.254598</td>\n",
       "      <td>20.335716</td>\n",
       "      <td>O9I</td>\n",
       "      <td>O9.7Ia+</td>\n",
       "      <td>1.251075</td>\n",
       "    </tr>\n",
       "    <tr>\n",
       "      <th>1</th>\n",
       "      <td>LMC X-4</td>\n",
       "      <td>7.975631</td>\n",
       "      <td>11.180526</td>\n",
       "      <td>O8III</td>\n",
       "      <td>O8III</td>\n",
       "      <td>1.401836</td>\n",
       "    </tr>\n",
       "    <tr>\n",
       "      <th>2</th>\n",
       "      <td>Vela X-1</td>\n",
       "      <td>33.847001</td>\n",
       "      <td>30.631061</td>\n",
       "      <td>B0I</td>\n",
       "      <td>B0.5Ia</td>\n",
       "      <td>0.904986</td>\n",
       "    </tr>\n",
       "    <tr>\n",
       "      <th>3</th>\n",
       "      <td>Cen X-3</td>\n",
       "      <td>12.094002</td>\n",
       "      <td>91.975105</td>\n",
       "      <td>O9III</td>\n",
       "      <td>O9III</td>\n",
       "      <td>7.605018</td>\n",
       "    </tr>\n",
       "    <tr>\n",
       "      <th>4</th>\n",
       "      <td>4U1538-52</td>\n",
       "      <td>11.249967</td>\n",
       "      <td>17.741624</td>\n",
       "      <td>B0I</td>\n",
       "      <td>B0.2Ia</td>\n",
       "      <td>1.577038</td>\n",
       "    </tr>\n",
       "    <tr>\n",
       "      <th>5</th>\n",
       "      <td>4U1700-37</td>\n",
       "      <td>23.198571</td>\n",
       "      <td>17.319267</td>\n",
       "      <td>O6I</td>\n",
       "      <td>O6Iafcp</td>\n",
       "      <td>0.746566</td>\n",
       "    </tr>\n",
       "  </tbody>\n",
       "</table>\n",
       "</div>"
      ],
      "text/plain": [
       "          id     R_true R_expected ST_short        ST R_expected/R_true\n",
       "0    SMC X-1  16.254598  20.335716      O9I  O9.7Ia+           1.251075\n",
       "1    LMC X-4   7.975631  11.180526    O8III     O8III          1.401836\n",
       "2   Vela X-1  33.847001  30.631061      B0I    B0.5Ia          0.904986\n",
       "3    Cen X-3  12.094002  91.975105    O9III     O9III          7.605018\n",
       "4  4U1538-52  11.249967  17.741624      B0I    B0.2Ia          1.577038\n",
       "5  4U1700-37  23.198571  17.319267      O6I  O6Iafcp           0.746566"
      ]
     },
     "execution_count": 20,
     "metadata": {},
     "output_type": "execute_result"
    }
   ],
   "source": [
    "df_R_filtered"
   ]
  },
  {
   "cell_type": "markdown",
   "metadata": {},
   "source": [
    "<br></br>\n",
    "### Compare distance from Bailer Jones et. al (2021) to distances found from the parallax from GAIA ($\\frac{1}{p''}$)"
   ]
  },
  {
   "cell_type": "code",
   "execution_count": 21,
   "metadata": {},
   "outputs": [
    {
     "data": {
      "text/html": [
       "<div>\n",
       "<style scoped>\n",
       "    .dataframe tbody tr th:only-of-type {\n",
       "        vertical-align: middle;\n",
       "    }\n",
       "\n",
       "    .dataframe tbody tr th {\n",
       "        vertical-align: top;\n",
       "    }\n",
       "\n",
       "    .dataframe thead th {\n",
       "        text-align: right;\n",
       "    }\n",
       "</style>\n",
       "<table border=\"1\" class=\"dataframe\">\n",
       "  <thead>\n",
       "    <tr style=\"text-align: right;\">\n",
       "      <th></th>\n",
       "      <th>id</th>\n",
       "      <th>r_med_geo</th>\n",
       "      <th>r_med_photogeo</th>\n",
       "      <th>distance</th>\n",
       "    </tr>\n",
       "  </thead>\n",
       "  <tbody>\n",
       "    <tr>\n",
       "      <th>0</th>\n",
       "      <td>2S0114+650</td>\n",
       "      <td>4475.7</td>\n",
       "      <td>4527.1</td>\n",
       "      <td>5091.2</td>\n",
       "    </tr>\n",
       "    <tr>\n",
       "      <th>1</th>\n",
       "      <td>SMC X-1</td>\n",
       "      <td>64000.0</td>\n",
       "      <td>64000.0</td>\n",
       "      <td>250514.1</td>\n",
       "    </tr>\n",
       "    <tr>\n",
       "      <th>2</th>\n",
       "      <td>LMC X-4</td>\n",
       "      <td>50000.0</td>\n",
       "      <td>50000.0</td>\n",
       "      <td>225469.1</td>\n",
       "    </tr>\n",
       "    <tr>\n",
       "      <th>3</th>\n",
       "      <td>Vela X-1</td>\n",
       "      <td>1960.9</td>\n",
       "      <td>1969.5</td>\n",
       "      <td>2015.2</td>\n",
       "    </tr>\n",
       "    <tr>\n",
       "      <th>4</th>\n",
       "      <td>Cen X-3</td>\n",
       "      <td>6784.6</td>\n",
       "      <td>6752.5</td>\n",
       "      <td>7208.8</td>\n",
       "    </tr>\n",
       "    <tr>\n",
       "      <th>5</th>\n",
       "      <td>GX301-2</td>\n",
       "      <td>3604.6</td>\n",
       "      <td>3546.1</td>\n",
       "      <td>3990.1</td>\n",
       "    </tr>\n",
       "    <tr>\n",
       "      <th>6</th>\n",
       "      <td>4U1538-52</td>\n",
       "      <td>5614.2</td>\n",
       "      <td>5535.4</td>\n",
       "      <td>7815.0</td>\n",
       "    </tr>\n",
       "    <tr>\n",
       "      <th>7</th>\n",
       "      <td>4U1700-37</td>\n",
       "      <td>1499.7</td>\n",
       "      <td>1514.0</td>\n",
       "      <td>1580.4</td>\n",
       "    </tr>\n",
       "    <tr>\n",
       "      <th>8</th>\n",
       "      <td>4U1907+09</td>\n",
       "      <td>3571.9</td>\n",
       "      <td>3170.3</td>\n",
       "      <td>4298.7</td>\n",
       "    </tr>\n",
       "    <tr>\n",
       "      <th>9</th>\n",
       "      <td>LMC X-1</td>\n",
       "      <td>50000.0</td>\n",
       "      <td>50000.0</td>\n",
       "      <td>36402.1</td>\n",
       "    </tr>\n",
       "    <tr>\n",
       "      <th>10</th>\n",
       "      <td>Cyg X-1</td>\n",
       "      <td>2146.6</td>\n",
       "      <td>2164.9</td>\n",
       "      <td>2252.7</td>\n",
       "    </tr>\n",
       "  </tbody>\n",
       "</table>\n",
       "</div>"
      ],
      "text/plain": [
       "            id  r_med_geo  r_med_photogeo  distance\n",
       "0   2S0114+650     4475.7          4527.1    5091.2\n",
       "1      SMC X-1    64000.0         64000.0  250514.1\n",
       "2      LMC X-4    50000.0         50000.0  225469.1\n",
       "3     Vela X-1     1960.9          1969.5    2015.2\n",
       "4      Cen X-3     6784.6          6752.5    7208.8\n",
       "5      GX301-2     3604.6          3546.1    3990.1\n",
       "6    4U1538-52     5614.2          5535.4    7815.0\n",
       "7    4U1700-37     1499.7          1514.0    1580.4\n",
       "8    4U1907+09     3571.9          3170.3    4298.7\n",
       "9      LMC X-1    50000.0         50000.0   36402.1\n",
       "10     Cyg X-1     2146.6          2164.9    2252.7"
      ]
     },
     "execution_count": 21,
     "metadata": {},
     "output_type": "execute_result"
    }
   ],
   "source": [
    "compare_distance = pd.merge(df_hmxb, df_BJ, on='id')[['id', 'r_med_geo', 'r_med_photogeo', 'distance']]\n",
    "compare_distance.applymap(lambda x: round(x, 1) if isinstance(x, (int, float, np.floating)) else x)"
   ]
  },
  {
   "cell_type": "code",
   "execution_count": 29,
   "metadata": {},
   "outputs": [
    {
     "name": "stdout",
     "output_type": "stream",
     "text": [
      "Spectral Type: O6.4\n",
      "Luminosity Class: Ia+\n",
      "Spectral Type: O3\n",
      "Luminosity Class: V\n",
      "Spectral Type: O4\n",
      "Luminosity Class: V\n",
      "Spectral Type: O5\n",
      "Luminosity Class: V\n",
      "Spectral Type: O5.5\n",
      "Luminosity Class: V\n",
      "Spectral Type: O6\n",
      "Luminosity Class: V\n",
      "Spectral Type: O6.5\n",
      "Luminosity Class: V\n",
      "Spectral Type: O7\n",
      "Luminosity Class: V\n",
      "Spectral Type: O7.5\n",
      "Luminosity Class: V\n",
      "Spectral Type: O8\n",
      "Luminosity Class: V\n",
      "Spectral Type: O8.5\n",
      "Luminosity Class: V\n",
      "Spectral Type: O9\n",
      "Luminosity Class: V\n",
      "Spectral Type: O9.5\n",
      "Luminosity Class: V\n",
      "Spectral Type: O3\n",
      "Luminosity Class: III\n",
      "Spectral Type: O4\n",
      "Luminosity Class: III\n",
      "Spectral Type: O5\n",
      "Luminosity Class: III\n",
      "Spectral Type: O5.5\n",
      "Luminosity Class: III\n",
      "Spectral Type: O6\n",
      "Luminosity Class: III\n",
      "Spectral Type: O6.5\n",
      "Luminosity Class: III\n",
      "Spectral Type: O7\n",
      "Luminosity Class: III\n",
      "Spectral Type: O7.5\n",
      "Luminosity Class: III\n",
      "Spectral Type: O8\n",
      "Luminosity Class: III\n",
      "Spectral Type: O8.5\n",
      "Luminosity Class: III\n",
      "Spectral Type: O9\n",
      "Luminosity Class: III\n",
      "Spectral Type: O9.5\n",
      "Luminosity Class: III\n",
      "Spectral Type: O3\n",
      "Luminosity Class: I\n",
      "Spectral Type: O4\n",
      "Luminosity Class: I\n",
      "Spectral Type: O5\n",
      "Luminosity Class: I\n",
      "Spectral Type: O5.5\n",
      "Luminosity Class: I\n",
      "Spectral Type: O6\n",
      "Luminosity Class: I\n",
      "Spectral Type: O6.5\n",
      "Luminosity Class: I\n",
      "Spectral Type: O7\n",
      "Luminosity Class: I\n",
      "Spectral Type: O7.5\n",
      "Luminosity Class: I\n",
      "Spectral Type: O8\n",
      "Luminosity Class: I\n",
      "Spectral Type: O8.5\n",
      "Luminosity Class: I\n",
      "Spectral Type: O9\n",
      "Luminosity Class: I\n",
      "Spectral Type: O9.5\n",
      "Luminosity Class: I\n",
      "Spectral Type: B0\n",
      "Luminosity Class: I\n",
      "Spectral Type: B1\n",
      "Luminosity Class: I\n",
      "Spectral Type: B0\n",
      "Luminosity Class: III\n",
      "Spectral Type: B1\n",
      "Luminosity Class: III\n",
      "Spectral Type: B0\n",
      "Luminosity Class: V\n",
      "Spectral Type: B1\n",
      "Luminosity Class: V\n",
      "36076.2\n"
     ]
    }
   ],
   "source": [
    "value = interpolate(df_stellar_params, 'O6.4Ia+', quantity='Teff')\n",
    "print(value)"
   ]
  },
  {
   "cell_type": "markdown",
   "metadata": {},
   "source": [
    "<font color='yellow' size=5> Comparison of $M_{true}$ and $M_{expected}$ </font> <br></br>"
   ]
  },
  {
   "cell_type": "code",
   "execution_count": 23,
   "metadata": {},
   "outputs": [],
   "source": [
    "df_M = pd.read_excel(\"tables/M_expBONNSAI.xlsx\")\n",
    "df_M = pd.merge(df_M, df_falenga, on='id')[[\"id\", \"M_exp\", \"M_opt\"]]\n",
    "df_M[\"M_opt/M_exp\"] = df_M[\"M_opt\"] / df_M[\"M_exp\"]"
   ]
  },
  {
   "cell_type": "code",
   "execution_count": 24,
   "metadata": {},
   "outputs": [
    {
     "data": {
      "image/png": "[encoded data removed]",
      "text/plain": [
       "<Figure size 640x480 with 1 Axes>"
      ]
     },
     "metadata": {},
     "output_type": "display_data"
    }
   ],
   "source": [
    "plt.scatter(df_M[\"M_opt/M_exp\"], df_R_filtered[\"R_expected/R_true\"])\n",
    "plt.ylim(0,2)\n",
    "plt.xlim(0,1)\n",
    "plt.grid(True)\n",
    "plt.xlabel(r\"$\\frac{M_{obs}}{M_{BONNSAI}}$\", fontsize=15)\n",
    "plt.ylabel(r\"$\\frac{R_{eff}}{R_{obs}}$\", fontsize=15)\n",
    "plt.show()"
   ]
  }
 ],
 "metadata": {
  "kernelspec": {
   "display_name": "Python 3",
   "language": "python",
   "name": "python3"
  },
  "language_info": {
   "codemirror_mode": {
    "name": "ipython",
    "version": 3
   },
   "file_extension": ".py",
   "mimetype": "text/x-python",
   "name": "python",
   "nbconvert_exporter": "python",
   "pygments_lexer": "ipython3",
   "version": "3.9.18"
  }
 },
 "nbformat": 4,
 "nbformat_minor": 2
}
