{
 "cells": [
  {
   "cell_type": "markdown",
   "metadata": {},
   "source": [
    "## Luminosity comparison"
   ]
  },
  {
   "cell_type": "code",
   "execution_count": 43,
   "metadata": {},
   "outputs": [],
   "source": [
    "from import_data import HMXB_parameters_Kaper\n",
    "from import_data import HMXB_parameters\n",
    "from import_data import supergiant_stellar_parameters\n",
    "from import_data import falenga\n",
    "from functions import scientific_notation\n",
    "from import_data import stellar_params\n",
    "from import_data import photometric_params\n",
    "\n",
    "from astropy.constants import R_sun, L_sun, sigma_sb\n",
    "\n",
    "import pandas as pd\n",
    "import dataframe_image as dfi\n",
    "import numpy as np\n",
    "import matplotlib.pyplot as plt\n",
    "\n",
    "pd.set_option('display.float_format', lambda x: '%.2E' % x)"
   ]
  },
  {
   "cell_type": "code",
   "execution_count": 44,
   "metadata": {},
   "outputs": [],
   "source": [
    "# Import data\n",
    "df_hmxb = HMXB_parameters()\n",
    "df_sg_params = supergiant_stellar_parameters()\n",
    "df_falenga = falenga()\n",
    "df_stellar_params = stellar_params()\n",
    "df_photometric_params = photometric_params()\n",
    "\n",
    "df_L = pd.DataFrame({'id': df_hmxb['id'].copy(),\n",
    "                              \"L_true\": [None] * len(df_hmxb['id']),\n",
    "                              \"L_expected\": [None] * len(df_hmxb['id']),\n",
    "                              \"ST_short\": [None] * len(df_hmxb['id']),\n",
    "                              \"ST\": [None] * len(df_hmxb['id'])})"
   ]
  },
  {
   "cell_type": "markdown",
   "metadata": {},
   "source": [
    "### Calculate the luminosity from photometric data\n",
    "This is the luminosity we observe"
   ]
  },
  {
   "cell_type": "code",
   "execution_count": 45,
   "metadata": {},
   "outputs": [],
   "source": [
    "for i in range(df_hmxb.shape[0]):\n",
    "    # Spectral type of object\n",
    "    spectral_type = df_hmxb.loc[i, \"spectraltype(short)\"]\n",
    "    # Expected (B-V) of object based on spectral type\n",
    "    BV0 = df_photometric_params[df_photometric_params['ST'] == spectral_type][\"(B-V)0\"].reset_index(drop=True).at[0]\n",
    "    # Observed (B-V) of object based on simbad filters\n",
    "    BVobs = df_hmxb.loc[i, '(B-V)obs']\n",
    "    # Bolometric correction (BC)\n",
    "    BCv = df_photometric_params[df_photometric_params['ST'] == spectral_type][\"BCv\"].reset_index(drop=True).at[0]\n",
    "\n",
    "    # Calculate extinction\n",
    "    Av = 3.2 * (BVobs - BV0)\n",
    "\n",
    "    # Calculate Absulute magnitude (visual)\n",
    "    Mv = df_hmxb.loc[i, 'mv'] - 5 * np.log10(df_hmxb.loc[i, 'distance'] * 1000) + 5 - Av\n",
    "\n",
    "    # Calculate bolomatric absolute magnitude\n",
    "    Mbol = Mv + BCv\n",
    "\n",
    "    # Calculate the luminosity in solar luminosities\n",
    "    L = 10**((Mbol - 4.74) / (-2.5))\n",
    "\n",
    "    # Put L in luminosity dataframe\n",
    "    df_L.loc[df_L[\"id\"] == df_hmxb.loc[i, 'id'], \"L_true\"] = L\n",
    "    # Put L in the dataframe\n",
    "    df_hmxb.loc[i, 'luminosity'] = L\n"
   ]
  },
  {
   "cell_type": "markdown",
   "metadata": {},
   "source": [
    "### Caclulate the luminosity from the radius and temperature of the optical star\n",
    "This is the luminosity you would expect"
   ]
  },
  {
   "cell_type": "code",
   "execution_count": 46,
   "metadata": {},
   "outputs": [],
   "source": [
    "for i in range(df_falenga.shape[0]):\n",
    "    # Orbital separation\n",
    "    a = df_falenga.loc[i, 'a'] * R_sun.value\n",
    "    # Inclination\n",
    "    inc = df_falenga.loc[i, 'i']\n",
    "    # Semi eclipse angle\n",
    "    theta_e = df_falenga.loc[i, 'semi_eclipse_angle']\n",
    "\n",
    "    # Calculate Radius\n",
    "    Rob = a * ((np.cos(np.deg2rad(inc)))**2 + (np.sin(np.deg2rad(inc)))**2 * (np.sin(np.deg2rad(theta_e)))**2)**(1/2)\n",
    "\n",
    "    # Object id\n",
    "    id = df_falenga.loc[i, 'id']\n",
    "    # Spectral type\n",
    "    spectral_type = df_hmxb[df_hmxb[\"id\"] == str(id)][\"spectraltype(short)\"].reset_index(drop=True).at[0]\n",
    "    # Spectral temperature\n",
    "    Teff = df_stellar_params[df_stellar_params[\"ST\"] == spectral_type][\"Teff\"].reset_index(drop=True).at[0]\n",
    "\n",
    "    # Calculate Luminosity in solar luminosities\n",
    "    L = (4 * np.pi * Rob**2 * sigma_sb.value * Teff**4) / L_sun.value\n",
    "\n",
    "    # Put L in luminosity dataframe\n",
    "    df_L.loc[df_L[\"id\"] == id, \"L_expected\"] = L\n",
    "    df_L.loc[df_L[\"id\"] == id, \"ST_short\"] = spectral_type\n",
    "    df_L.loc[df_L[\"id\"] == id, \"ST\"] = df_hmxb.loc[df_hmxb[\"id\"] == id, \"spectraltype\"]"
   ]
  },
  {
   "cell_type": "markdown",
   "metadata": {},
   "source": [
    "### Comparison of $L_{true}$ and $L_{expected}$(bolometric).\n",
    "- The $L_{expected}$ is calculated from $L = 4 \\pi R^{2} \\sigma T_{eff}^{4}$, where:\n",
    "    * $R$ is calculated from the semi-eclipse ange $\\theta_{e}$\n",
    "    * $T_{eff}$ is taken from the models of Martin et al. (2005a)\n",
    "- The $L_{true}$ is determined from photometric data from Simbad and $(B-V)_{0}$ is from martins et al. (2006)"
   ]
  },
  {
   "cell_type": "markdown",
   "metadata": {},
   "source": [
    "Calculate $\\frac{L_{true}}{L_{expected}}$ (all luminosities are in solar units)"
   ]
  },
  {
   "cell_type": "code",
   "execution_count": 47,
   "metadata": {},
   "outputs": [],
   "source": [
    "# Filter out all rows with none values\n",
    "df_L_filtered = df_L.copy().dropna()\n",
    "df_L_filtered.reset_index(drop=True)\n",
    "\n",
    "# Calculate fraction\n",
    "df_L_filtered[\"L_true/L_expected\"] = df_L_filtered[\"L_true\"] / df_L_filtered[\"L_expected\"]"
   ]
  },
  {
   "cell_type": "markdown",
   "metadata": {},
   "source": [
    "Result"
   ]
  },
  {
   "cell_type": "code",
   "execution_count": 48,
   "metadata": {},
   "outputs": [
    {
     "data": {
      "text/html": [
       "<div>\n",
       "<style scoped>\n",
       "    .dataframe tbody tr th:only-of-type {\n",
       "        vertical-align: middle;\n",
       "    }\n",
       "\n",
       "    .dataframe tbody tr th {\n",
       "        vertical-align: top;\n",
       "    }\n",
       "\n",
       "    .dataframe thead th {\n",
       "        text-align: right;\n",
       "    }\n",
       "</style>\n",
       "<table border=\"1\" class=\"dataframe\">\n",
       "  <thead>\n",
       "    <tr style=\"text-align: right;\">\n",
       "      <th></th>\n",
       "      <th>id</th>\n",
       "      <th>L_true</th>\n",
       "      <th>L_expected</th>\n",
       "      <th>ST_short</th>\n",
       "      <th>ST</th>\n",
       "      <th>L_true/L_expected</th>\n",
       "    </tr>\n",
       "  </thead>\n",
       "  <tbody>\n",
       "    <tr>\n",
       "      <th>1</th>\n",
       "      <td>SMC X-1</td>\n",
       "      <td>5.53E+06</td>\n",
       "      <td>2.30E+05</td>\n",
       "      <td>O9I</td>\n",
       "      <td>O9.7Ia+</td>\n",
       "      <td>2.40E+01</td>\n",
       "    </tr>\n",
       "    <tr>\n",
       "      <th>2</th>\n",
       "      <td>LMC X-4</td>\n",
       "      <td>3.05E+06</td>\n",
       "      <td>7.62E+04</td>\n",
       "      <td>O8III</td>\n",
       "      <td>O8III</td>\n",
       "      <td>4.00E+01</td>\n",
       "    </tr>\n",
       "    <tr>\n",
       "      <th>3</th>\n",
       "      <td>Vela X-1</td>\n",
       "      <td>6.81E+05</td>\n",
       "      <td>7.88E+05</td>\n",
       "      <td>B0I</td>\n",
       "      <td>B0.5Ia</td>\n",
       "      <td>8.65E-01</td>\n",
       "    </tr>\n",
       "    <tr>\n",
       "      <th>4</th>\n",
       "      <td>Cen X-3</td>\n",
       "      <td>8.85E+06</td>\n",
       "      <td>1.36E+05</td>\n",
       "      <td>O9III</td>\n",
       "      <td>O9III</td>\n",
       "      <td>6.53E+01</td>\n",
       "    </tr>\n",
       "    <tr>\n",
       "      <th>6</th>\n",
       "      <td>4U1538-52</td>\n",
       "      <td>4.19E+05</td>\n",
       "      <td>8.70E+04</td>\n",
       "      <td>B0I</td>\n",
       "      <td>B0.2Ia</td>\n",
       "      <td>4.82E+00</td>\n",
       "    </tr>\n",
       "    <tr>\n",
       "      <th>7</th>\n",
       "      <td>4U1700-37</td>\n",
       "      <td>5.50E+05</td>\n",
       "      <td>8.89E+05</td>\n",
       "      <td>O6I</td>\n",
       "      <td>O6Iafcp</td>\n",
       "      <td>6.19E-01</td>\n",
       "    </tr>\n",
       "  </tbody>\n",
       "</table>\n",
       "</div>"
      ],
      "text/plain": [
       "          id   L_true L_expected ST_short        ST L_true/L_expected\n",
       "1    SMC X-1 5.53E+06   2.30E+05      O9I  O9.7Ia+           2.40E+01\n",
       "2    LMC X-4 3.05E+06   7.62E+04    O8III     O8III          4.00E+01\n",
       "3   Vela X-1 6.81E+05   7.88E+05      B0I    B0.5Ia          8.65E-01\n",
       "4    Cen X-3 8.85E+06   1.36E+05    O9III     O9III          6.53E+01\n",
       "6  4U1538-52 4.19E+05   8.70E+04      B0I    B0.2Ia          4.82E+00\n",
       "7  4U1700-37 5.50E+05   8.89E+05      O6I  O6Iafcp           6.19E-01"
      ]
     },
     "execution_count": 48,
     "metadata": {},
     "output_type": "execute_result"
    }
   ],
   "source": [
    "df_L_filtered"
   ]
  },
  {
   "cell_type": "markdown",
   "metadata": {},
   "source": [
    "### Comparison of $L_{true}$ and $L_{expected}$(model martins et. al (2005a))."
   ]
  },
  {
   "cell_type": "code",
   "execution_count": 49,
   "metadata": {},
   "outputs": [],
   "source": [
    "# Create new dataframe for the luminosities\n",
    "df_L_model = pd.DataFrame({'id': df_hmxb['id'].copy(),\n",
    "                              \"L_true\": df_L[\"L_true\"].copy(),\n",
    "                              \"L_expected\": [None] * len(df_hmxb['id']),\n",
    "                              \"ST_short\": [None] * len(df_hmxb['id']),\n",
    "                              \"ST\": [None] * len(df_hmxb['id'])})"
   ]
  },
  {
   "cell_type": "markdown",
   "metadata": {},
   "source": [
    "Get the luminosity for the object from the models of Martin et. al (2005a)"
   ]
  },
  {
   "cell_type": "code",
   "execution_count": 50,
   "metadata": {},
   "outputs": [],
   "source": [
    "for i in range(df_hmxb.shape[0]):\n",
    "    # Spectral type\n",
    "    spectral_type = df_hmxb.loc[i, 'spectraltype(short)']\n",
    "    # Luminosity from model\n",
    "    logL = df_stellar_params.loc[df_stellar_params[\"ST\"] == spectral_type, \"log(L/Lsun)\"].reset_index(drop=True).at[0]\n",
    "    L = 10**logL\n",
    "    # Save luminosity in dataframe\n",
    "    df_L_model.loc[i, \"L_expected\"] = L\n",
    "    df_L_model.loc[i, \"ST_short\"] = spectral_type\n",
    "    df_L_model.loc[i, \"ST\"] = df_hmxb.loc[i, \"spectraltype\"]"
   ]
  },
  {
   "cell_type": "code",
   "execution_count": 51,
   "metadata": {},
   "outputs": [],
   "source": [
    "# Calculate fraction\n",
    "df_L_model[\"L_true/L_expected\"] = df_L_model[\"L_true\"] / df_L_model[\"L_expected\"]"
   ]
  },
  {
   "cell_type": "markdown",
   "metadata": {},
   "source": [
    "Result"
   ]
  },
  {
   "cell_type": "code",
   "execution_count": 58,
   "metadata": {},
   "outputs": [
    {
     "data": {
      "text/html": [
       "<div>\n",
       "<style scoped>\n",
       "    .dataframe tbody tr th:only-of-type {\n",
       "        vertical-align: middle;\n",
       "    }\n",
       "\n",
       "    .dataframe tbody tr th {\n",
       "        vertical-align: top;\n",
       "    }\n",
       "\n",
       "    .dataframe thead th {\n",
       "        text-align: right;\n",
       "    }\n",
       "</style>\n",
       "<table border=\"1\" class=\"dataframe\">\n",
       "  <thead>\n",
       "    <tr style=\"text-align: right;\">\n",
       "      <th></th>\n",
       "      <th>id</th>\n",
       "      <th>L_true</th>\n",
       "      <th>L_expected</th>\n",
       "      <th>ST_short</th>\n",
       "      <th>ST</th>\n",
       "      <th>L_true/L_expected</th>\n",
       "    </tr>\n",
       "  </thead>\n",
       "  <tbody>\n",
       "    <tr>\n",
       "      <th>0</th>\n",
       "      <td>2S0114+650</td>\n",
       "      <td>2.06E+05</td>\n",
       "      <td>2.95E+05</td>\n",
       "      <td>B1I</td>\n",
       "      <td>B1Iae</td>\n",
       "      <td>6.99E-01</td>\n",
       "    </tr>\n",
       "    <tr>\n",
       "      <th>1</th>\n",
       "      <td>SMC X-1</td>\n",
       "      <td>5.53E+06</td>\n",
       "      <td>4.07E+05</td>\n",
       "      <td>O9I</td>\n",
       "      <td>O9.7Ia+</td>\n",
       "      <td>1.36E+01</td>\n",
       "    </tr>\n",
       "    <tr>\n",
       "      <th>2</th>\n",
       "      <td>LMC X-4</td>\n",
       "      <td>3.05E+06</td>\n",
       "      <td>2.24E+05</td>\n",
       "      <td>O8III</td>\n",
       "      <td>O8III</td>\n",
       "      <td>1.36E+01</td>\n",
       "    </tr>\n",
       "    <tr>\n",
       "      <th>3</th>\n",
       "      <td>Vela X-1</td>\n",
       "      <td>6.81E+05</td>\n",
       "      <td>3.47E+05</td>\n",
       "      <td>B0I</td>\n",
       "      <td>B0.5Ia</td>\n",
       "      <td>1.97E+00</td>\n",
       "    </tr>\n",
       "    <tr>\n",
       "      <th>4</th>\n",
       "      <td>Cen X-3</td>\n",
       "      <td>8.85E+06</td>\n",
       "      <td>1.62E+05</td>\n",
       "      <td>O9III</td>\n",
       "      <td>O9III</td>\n",
       "      <td>5.46E+01</td>\n",
       "    </tr>\n",
       "    <tr>\n",
       "      <th>5</th>\n",
       "      <td>GX301-2</td>\n",
       "      <td>6.58E+06</td>\n",
       "      <td>2.95E+05</td>\n",
       "      <td>B1I</td>\n",
       "      <td>B1.5Iaeq</td>\n",
       "      <td>2.23E+01</td>\n",
       "    </tr>\n",
       "    <tr>\n",
       "      <th>6</th>\n",
       "      <td>4U1538-52</td>\n",
       "      <td>4.19E+05</td>\n",
       "      <td>3.47E+05</td>\n",
       "      <td>B0I</td>\n",
       "      <td>B0.2Ia</td>\n",
       "      <td>1.21E+00</td>\n",
       "    </tr>\n",
       "    <tr>\n",
       "      <th>7</th>\n",
       "      <td>4U1700-37</td>\n",
       "      <td>5.50E+05</td>\n",
       "      <td>6.46E+05</td>\n",
       "      <td>O6I</td>\n",
       "      <td>O6Iafcp</td>\n",
       "      <td>8.53E-01</td>\n",
       "    </tr>\n",
       "    <tr>\n",
       "      <th>8</th>\n",
       "      <td>4U1907+09</td>\n",
       "      <td>1.32E+06</td>\n",
       "      <td>4.79E+05</td>\n",
       "      <td>O8I</td>\n",
       "      <td>O8.5Iab</td>\n",
       "      <td>2.76E+00</td>\n",
       "    </tr>\n",
       "    <tr>\n",
       "      <th>9</th>\n",
       "      <td>LMC X-1</td>\n",
       "      <td>1.53E+05</td>\n",
       "      <td>4.79E+05</td>\n",
       "      <td>O8I</td>\n",
       "      <td>O8(f)p</td>\n",
       "      <td>3.19E-01</td>\n",
       "    </tr>\n",
       "    <tr>\n",
       "      <th>10</th>\n",
       "      <td>Cyg X-1</td>\n",
       "      <td>3.76E+05</td>\n",
       "      <td>4.07E+05</td>\n",
       "      <td>O9I</td>\n",
       "      <td>O9.7Iabpvar</td>\n",
       "      <td>9.23E-01</td>\n",
       "    </tr>\n",
       "  </tbody>\n",
       "</table>\n",
       "</div>"
      ],
      "text/plain": [
       "            id   L_true L_expected ST_short            ST L_true/L_expected\n",
       "0   2S0114+650 2.06E+05   2.95E+05      B1I        B1Iae           6.99E-01\n",
       "1      SMC X-1 5.53E+06   4.07E+05      O9I      O9.7Ia+           1.36E+01\n",
       "2      LMC X-4 3.05E+06   2.24E+05    O8III         O8III          1.36E+01\n",
       "3     Vela X-1 6.81E+05   3.47E+05      B0I        B0.5Ia          1.97E+00\n",
       "4      Cen X-3 8.85E+06   1.62E+05    O9III         O9III          5.46E+01\n",
       "5      GX301-2 6.58E+06   2.95E+05      B1I     B1.5Iaeq           2.23E+01\n",
       "6    4U1538-52 4.19E+05   3.47E+05      B0I        B0.2Ia          1.21E+00\n",
       "7    4U1700-37 5.50E+05   6.46E+05      O6I      O6Iafcp           8.53E-01\n",
       "8    4U1907+09 1.32E+06   4.79E+05      O8I      O8.5Iab           2.76E+00\n",
       "9      LMC X-1 1.53E+05   4.79E+05      O8I        O8(f)p          3.19E-01\n",
       "10     Cyg X-1 3.76E+05   4.07E+05      O9I  O9.7Iabpvar           9.23E-01"
      ]
     },
     "execution_count": 58,
     "metadata": {},
     "output_type": "execute_result"
    }
   ],
   "source": [
    "df_L_model"
   ]
  },
  {
   "cell_type": "markdown",
   "metadata": {},
   "source": [
    "### Comparison of $R_{true}$ and $R_{expected}$\n",
    "where,\n",
    "1. $R_{true}$ is calculated from the semi-eclipse angle.\n",
    "2. $R_{expected}$ is based on the stellar parameters for the stars spectral type. Source Martin et. al (2005a). Get $L$ and $T_{eff}$ and calc R from $L = 4 \\pi R^{2} \\sigma T_{eff}^{4}$.\n",
    "\n",
    "Both are calc. in terms of $R_{\\odot}$"
   ]
  },
  {
   "cell_type": "code",
   "execution_count": 53,
   "metadata": {},
   "outputs": [],
   "source": [
    "# Make radius dataframe\n",
    "df_R = pd.DataFrame({'id': df_hmxb['id'].copy(),\n",
    "                              \"R_true\": [None] * len(df_hmxb['id']),\n",
    "                              \"R_expected\": [None] * len(df_hmxb['id']),\n",
    "                              \"ST_short\": [None] * len(df_hmxb['id']),\n",
    "                              \"ST\": [None] * len(df_hmxb['id'])})"
   ]
  },
  {
   "cell_type": "markdown",
   "metadata": {},
   "source": [
    "1. $R_{true}$"
   ]
  },
  {
   "cell_type": "code",
   "execution_count": 54,
   "metadata": {},
   "outputs": [],
   "source": [
    "for i in range(df_falenga.shape[0]):\n",
    "    # Orbital separation\n",
    "    a = df_falenga.loc[i, 'a'] * R_sun.value\n",
    "    # Inclination\n",
    "    inc = df_falenga.loc[i, 'i']\n",
    "    # Semi eclipse angle\n",
    "    theta_e = df_falenga.loc[i, 'semi_eclipse_angle']\n",
    "\n",
    "    # Calculate Radius\n",
    "    Rob = a * ((np.cos(np.deg2rad(inc)))**2 + (np.sin(np.deg2rad(inc)))**2 * (np.sin(np.deg2rad(theta_e)))**2)**(1/2)\n",
    "\n",
    "    # Object id\n",
    "    id = df_falenga.loc[i, 'id']\n",
    "    # Spectral type\n",
    "    spectral_type = df_hmxb[df_hmxb[\"id\"] == str(id)][\"spectraltype(short)\"].reset_index(drop=True).at[0]\n",
    "\n",
    "    # Put R in luminosity dataframe\n",
    "    df_R.loc[df_R[\"id\"] == id, \"R_true\"] = Rob / R_sun.value\n",
    "    df_R.loc[df_R[\"id\"] == id, \"ST_short\"] = spectral_type\n",
    "    df_R.loc[df_R[\"id\"] == id, \"ST\"] = df_hmxb.loc[df_hmxb[\"id\"] == id, \"spectraltype\"]"
   ]
  },
  {
   "cell_type": "markdown",
   "metadata": {},
   "source": [
    "2. $R_{expected}$"
   ]
  },
  {
   "cell_type": "code",
   "execution_count": 55,
   "metadata": {},
   "outputs": [],
   "source": [
    "for i in range(df_hmxb.shape[0]):\n",
    "    # Spectral type\n",
    "    spectral_type = df_hmxb.loc[i, 'spectraltype(short)']\n",
    "\n",
    "    # Luminosity from model\n",
    "    logL = df_stellar_params.loc[df_stellar_params[\"ST\"] == spectral_type, \"log(L/Lsun)\"].reset_index(drop=True).at[0]\n",
    "    L = 10**logL\n",
    "\n",
    "    # Effective temperature from model\n",
    "    Teff = df_stellar_params.loc[df_stellar_params[\"ST\"] == spectral_type, \"Teff\"].reset_index(drop=True).at[0]\n",
    "\n",
    "    # Calculate the radius\n",
    "    R = np.sqrt((L_sun.value / R_sun.value**2) * (L / (4 * np.pi * sigma_sb.value * Teff**4)))\n",
    "\n",
    "    # Save luminosity in dataframe\n",
    "    df_R.loc[i, \"R_expected\"] = R\n",
    "    df_R.loc[i, \"ST_short\"] = spectral_type\n",
    "    df_R.loc[i, \"ST\"] = df_hmxb.loc[i, \"spectraltype\"]"
   ]
  },
  {
   "cell_type": "markdown",
   "metadata": {},
   "source": [
    "Result"
   ]
  },
  {
   "cell_type": "code",
   "execution_count": 59,
   "metadata": {},
   "outputs": [
    {
     "data": {
      "text/html": [
       "<div>\n",
       "<style scoped>\n",
       "    .dataframe tbody tr th:only-of-type {\n",
       "        vertical-align: middle;\n",
       "    }\n",
       "\n",
       "    .dataframe tbody tr th {\n",
       "        vertical-align: top;\n",
       "    }\n",
       "\n",
       "    .dataframe thead th {\n",
       "        text-align: right;\n",
       "    }\n",
       "</style>\n",
       "<table border=\"1\" class=\"dataframe\">\n",
       "  <thead>\n",
       "    <tr style=\"text-align: right;\">\n",
       "      <th></th>\n",
       "      <th>id</th>\n",
       "      <th>R_true</th>\n",
       "      <th>R_expected</th>\n",
       "      <th>ST_short</th>\n",
       "      <th>ST</th>\n",
       "    </tr>\n",
       "  </thead>\n",
       "  <tbody>\n",
       "    <tr>\n",
       "      <th>0</th>\n",
       "      <td>SMC X-1</td>\n",
       "      <td>1.63E+01</td>\n",
       "      <td>2.16E+01</td>\n",
       "      <td>O9I</td>\n",
       "      <td>O9.7Ia+</td>\n",
       "    </tr>\n",
       "    <tr>\n",
       "      <th>1</th>\n",
       "      <td>LMC X-4</td>\n",
       "      <td>7.98E+00</td>\n",
       "      <td>1.37E+01</td>\n",
       "      <td>O8III</td>\n",
       "      <td>O8III</td>\n",
       "    </tr>\n",
       "    <tr>\n",
       "      <th>2</th>\n",
       "      <td>Vela X-1</td>\n",
       "      <td>3.38E+01</td>\n",
       "      <td>2.25E+01</td>\n",
       "      <td>B0I</td>\n",
       "      <td>B0.5Ia</td>\n",
       "    </tr>\n",
       "    <tr>\n",
       "      <th>3</th>\n",
       "      <td>Cen X-3</td>\n",
       "      <td>1.21E+01</td>\n",
       "      <td>1.32E+01</td>\n",
       "      <td>O9III</td>\n",
       "      <td>O9III</td>\n",
       "    </tr>\n",
       "    <tr>\n",
       "      <th>4</th>\n",
       "      <td>4U1538-52</td>\n",
       "      <td>1.12E+01</td>\n",
       "      <td>2.25E+01</td>\n",
       "      <td>B0I</td>\n",
       "      <td>B0.2Ia</td>\n",
       "    </tr>\n",
       "    <tr>\n",
       "      <th>5</th>\n",
       "      <td>4U1700-37</td>\n",
       "      <td>2.32E+01</td>\n",
       "      <td>1.98E+01</td>\n",
       "      <td>O6I</td>\n",
       "      <td>O6Iafcp</td>\n",
       "    </tr>\n",
       "  </tbody>\n",
       "</table>\n",
       "</div>"
      ],
      "text/plain": [
       "          id   R_true R_expected ST_short        ST\n",
       "0    SMC X-1 1.63E+01   2.16E+01      O9I  O9.7Ia+ \n",
       "1    LMC X-4 7.98E+00   1.37E+01    O8III     O8III\n",
       "2   Vela X-1 3.38E+01   2.25E+01      B0I    B0.5Ia\n",
       "3    Cen X-3 1.21E+01   1.32E+01    O9III     O9III\n",
       "4  4U1538-52 1.12E+01   2.25E+01      B0I    B0.2Ia\n",
       "5  4U1700-37 2.32E+01   1.98E+01      O6I  O6Iafcp "
      ]
     },
     "execution_count": 59,
     "metadata": {},
     "output_type": "execute_result"
    }
   ],
   "source": [
    "df_R_filtered = df_R.copy()\n",
    "df_R_filtered = df_R_filtered.dropna().reset_index(drop=True)\n",
    "\n",
    "df_R_filtered"
   ]
  },
  {
   "cell_type": "code",
   "execution_count": null,
   "metadata": {},
   "outputs": [],
   "source": []
  }
 ],
 "metadata": {
  "kernelspec": {
   "display_name": "Python 3",
   "language": "python",
   "name": "python3"
  },
  "language_info": {
   "codemirror_mode": {
    "name": "ipython",
    "version": 3
   },
   "file_extension": ".py",
   "mimetype": "text/x-python",
   "name": "python",
   "nbconvert_exporter": "python",
   "pygments_lexer": "ipython3",
   "version": "3.9.18"
  }
 },
 "nbformat": 4,
 "nbformat_minor": 2
}
