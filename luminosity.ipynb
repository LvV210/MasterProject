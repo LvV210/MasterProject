{
 "cells": [
  {
   "cell_type": "code",
   "execution_count": 1,
   "metadata": {},
   "outputs": [],
   "source": [
    "from functions import *\n",
    "from import_data import *\n",
    "\n",
    "from astropy.constants import R_sun, L_sun, sigma_sb\n",
    "import re\n",
    "import math\n",
    "import pandas as pd\n",
    "import numpy as np\n",
    "import matplotlib.pyplot as plt\n",
    "from IPython.display import Markdown as md"
   ]
  },
  {
   "cell_type": "code",
   "execution_count": 2,
   "metadata": {},
   "outputs": [],
   "source": [
    "# Import data\n",
    "df_hmxb = HMXB_parameters()\n",
    "df_falenga = falenga()\n",
    "df_stellar_params = stellar_params()\n",
    "df_photometric_params = photometric_params()\n",
    "df_BJ = BailerJones()"
   ]
  },
  {
   "cell_type": "markdown",
   "metadata": {},
   "source": [
    "<font color='yellow' size=5> Calculate observed luminosity from photometric filters </font>\n"
   ]
  },
  {
   "cell_type": "code",
   "execution_count": 3,
   "metadata": {},
   "outputs": [],
   "source": [
    "df_L = pd.DataFrame({'id': df_hmxb['id'].copy(),\n",
    "                              \"L_true\": [None] * len(df_hmxb['id']),\n",
    "                              \"L_true_err\": [None] * len(df_hmxb['id']),\n",
    "                              \"ST\": [None] * len(df_hmxb['id']),\n",
    "                              \"logL_true/L_sun\": [None] * len(df_hmxb['id']),\n",
    "                              \"logL_true/L_sun_err\": [None] * len(df_hmxb[\"id\"]),\n",
    "                              \"Teff\": [None] * len(df_hmxb['id']),\n",
    "                              \"Teff_err\": [None] * len(df_hmxb['id']),\n",
    "                              \"logTeff\": [None] * len(df_hmxb['id']),\n",
    "                              \"logTeff_err\": [None] * len(df_hmxb['id'])})"
   ]
  },
  {
   "cell_type": "code",
   "execution_count": 4,
   "metadata": {},
   "outputs": [],
   "source": [
    "for i in range(df_hmxb.shape[0]):\n",
    "    # Object id\n",
    "    id = df_hmxb.loc[i, 'id']\n",
    "\n",
    "    # Spectral type of object\n",
    "    spectral_type = df_hmxb.loc[i, \"ST\"]\n",
    "\n",
    "    # Effective temperature based on spectral type\n",
    "    Teff = interpolate(df2=df_stellar_params, spectral_type=spectral_type, quantity='Teff')\n",
    "    Teff_err = Teff_error(spectral_type)\n",
    "    df_L.loc[df_L[\"id\"] == df_hmxb.loc[i, 'id'], \"Teff\"] = Teff\n",
    "    df_L.loc[df_L[\"id\"] == df_hmxb.loc[i, 'id'], \"Teff_err\"] = Teff_err\n",
    "    df_L.loc[df_L[\"id\"] == df_hmxb.loc[i, 'id'], \"logTeff\"] = np.log10(Teff)\n",
    "    df_L.loc[df_L[\"id\"] == df_hmxb.loc[i, 'id'], \"logTeff_err\"] = Teff_err / (np.log(10) * Teff)\n",
    "\n",
    "    if math.isnan(df_hmxb.loc[i, 'J']) == False and math.isnan(df_hmxb.loc[i, 'H']) == False and id in df_BJ['id'].tolist():\n",
    "        # Expected (B-V)0 of object based on spectral type\n",
    "        JH0 = interpolate(df2=df_photometric_params, spectral_type=spectral_type, quantity='(J-H)0')\n",
    "        JH0_err = 0\n",
    "\n",
    "        # Observed (B-V) of object based on simbad filters\n",
    "        JHobs = df_hmxb.loc[i, 'J'] - df_hmxb.loc[i, 'H']\n",
    "        JHobs_err = np.sqrt(0.03**2 + 0.03**2)\n",
    "\n",
    "        # Bolometric correction (BC)\n",
    "        BCh = interpolate(df2=df_photometric_params, spectral_type=spectral_type, quantity='BCh')\n",
    "\n",
    "        # Distance\n",
    "        distance = df_BJ.loc[df_BJ['id'] == id, 'r_med_photogeo'].reset_index(drop=True).at[0]\n",
    "        distance_low = df_BJ.loc[df_BJ['id'] == id, 'r_lo_photogeo'].reset_index(drop=True).at[0]\n",
    "        distance_high = df_BJ.loc[df_BJ['id'] == id, 'r_hi_photogeo'].reset_index(drop=True).at[0]\n",
    "        d_err = ((distance - distance_low) + (distance_high - distance)) / 2\n",
    "\n",
    "        # Calculate extinction\n",
    "        Ah, Ah_err = extinction_and_error(0.46, 0.01, JHobs, JHobs_err, JH0, JH0_err)\n",
    "\n",
    "        # Visual magnitude\n",
    "        mh = df_hmxb.loc[i, 'H']\n",
    "\n",
    "        # Calculate Absulute magnitude (visual)\n",
    "        Mh = mh - 5 * np.log10(distance) + 5 - Ah\n",
    "\n",
    "        # Calculate bolomatric absolute magnitude\n",
    "        Mbol = Mh + BCh\n",
    "\n",
    "        # Calculate the luminosity in solar luminosities\n",
    "        L = 10**((Mbol - 4.74) / (-2.5))\n",
    "\n",
    "        # Calculate the error on the luminosity\n",
    "        L_err = luminosity_error(BCh, 0.1, mh, 0.03, distance, d_err, Ah, Ah_err)\n",
    "\n",
    "        # Put L in luminosity dataframe\n",
    "        df_L.loc[df_L[\"id\"] == df_hmxb.loc[i, 'id'], \"L_true\"] = L\n",
    "        df_L.loc[df_L[\"id\"] == df_hmxb.loc[i, 'id'], \"L_true_err\"] = L_err\n",
    "        df_L.loc[df_L[\"id\"] == df_hmxb.loc[i, 'id'], \"logL_true/L_sun\"] = math.log10(L)\n",
    "        df_L.loc[df_L[\"id\"] == df_hmxb.loc[i, 'id'], \"logL_true/L_sun_err\"] = L_err / (np.log(10) * L)\n",
    "        df_L.loc[df_L[\"id\"] == df_hmxb.loc[i, 'id'], \"ST\"] = spectral_type\n",
    "\n",
    "\n",
    "\n",
    "    if id == 'Cen X-3':\n",
    "        # Bolometric correction (BC)\n",
    "        BCv = interpolate(df2=df_photometric_params, spectral_type=spectral_type, quantity='BCv')\n",
    "\n",
    "        # Distance\n",
    "        distance = df_BJ.loc[df_BJ['id'] == id, 'r_med_photogeo'].reset_index(drop=True).at[0]\n",
    "        distance_low = df_BJ.loc[df_BJ['id'] == id, 'r_lo_photogeo'].reset_index(drop=True).at[0]\n",
    "        distance_high = df_BJ.loc[df_BJ['id'] == id, 'r_hi_photogeo'].reset_index(drop=True).at[0]\n",
    "        d_err = ((distance - distance_low) + (distance_high - distance)) / 2\n",
    "\n",
    "        # Calculate extinction\n",
    "        Av = 3.2 * 1.4\n",
    "\n",
    "        # Calculate Absulute magnitude (visual)\n",
    "        # V=12.27 From INTEGRAL V band\n",
    "        Mv = 12.27 - 5 * np.log10(distance) + 5 - Av\n",
    "\n",
    "        # Calculate bolomatric absolute magnitude\n",
    "        Mbol = Mv + BCv\n",
    "\n",
    "        # Calculate the luminosity in solar luminosities\n",
    "        L = 10**((Mbol - 4.74) / (-2.5))\n",
    "\n",
    "        # Calculate error on luminosity\n",
    "        L_err = luminosity_error(BCv, 0.1, 12.27, 0.03, distance, d_err, Av, 0.02)\n",
    "\n",
    "        # Put L in luminosity dataframe\n",
    "        df_L.loc[df_L[\"id\"] == df_hmxb.loc[i, 'id'], \"L_true\"] = L\n",
    "        df_L.loc[df_L[\"id\"] == df_hmxb.loc[i, 'id'], \"L_true_err\"] = L_err\n",
    "        df_L.loc[df_L[\"id\"] == df_hmxb.loc[i, 'id'], \"logL_true/L_sun\"] = math.log10(L)\n",
    "        df_L.loc[df_L[\"id\"] == df_hmxb.loc[i, 'id'], \"logL_true/L_sun_err\"] = L_err / (np.log(10) * L)\n",
    "        df_L.loc[df_L[\"id\"] == df_hmxb.loc[i, 'id'], \"ST\"] = spectral_type\n",
    "\n",
    "df_L = df_L.dropna(subset=['L_true']).reset_index(drop=True)"
   ]
  },
  {
   "cell_type": "markdown",
   "metadata": {},
   "source": [
    "<font color='yellow' size=5>Calculate observed radius from observed luminosity and Teff from the models of Martins et al. (2005a) </font>"
   ]
  },
  {
   "cell_type": "code",
   "execution_count": 5,
   "metadata": {},
   "outputs": [],
   "source": [
    "# Make radius dataframe\n",
    "df_R = pd.DataFrame({'id': df_hmxb['id'].copy(),\n",
    "                              \"R_true\": [None] * len(df_hmxb['id']),\n",
    "                              \"R_true_err\": [None] * len(df_hmxb['id']),\n",
    "                              \"R_expected\": [None] * len(df_hmxb['id']),\n",
    "                              \"R_expected_err\": [None] * len(df_hmxb['id']),\n",
    "                              \"ST\": [None] * len(df_hmxb['id'])})"
   ]
  },
  {
   "cell_type": "code",
   "execution_count": 6,
   "metadata": {},
   "outputs": [],
   "source": [
    "for i in range(df_L.shape[0]):\n",
    "    # id\n",
    "    id = df_L.loc[i, 'id']\n",
    "\n",
    "    # Spectral type\n",
    "    spectral_type = df_L.loc[i, 'ST']\n",
    "\n",
    "    # True luminosity\n",
    "    L = df_L.loc[df_L[\"id\"] == id, \"L_true\"].reset_index(drop=True).at[0]\n",
    "    L_err = df_L.loc[df_L[\"id\"] == id, \"L_true_err\"].reset_index(drop=True).at[0]\n",
    "    \n",
    "    # Effective temperature from model\n",
    "    Teff = df_L.loc[df_L[\"id\"] == id, \"Teff\"].reset_index(drop=True).at[0]\n",
    "    Teff_err = df_L.loc[df_L[\"id\"] == id, \"Teff_err\"].reset_index(drop=True).at[0]\n",
    "\n",
    "    # Calculate the radius\n",
    "    R, R_err = expected_radius_error(L, L_err, Teff, Teff_err)\n",
    "    # R = math.sqrt((L_sun.value / R_sun.value**2) * (L / (4 * np.pi * sigma_sb.value * Teff**4)))\n",
    "    # C = (4 * np.pi * sigma_sb.value * L_sun.value / R_sun.value**2)**(1/2)\n",
    "    # R_err = ((C / ( 2 * L**(1/2) * Teff**2))**2 * L_err**2 + (2 * C * L**(1/2) / Teff**3)**2 * Teff_err**2)**(1/2)\n",
    "\n",
    "    # Save luminosity in dataframe\n",
    "    df_R.loc[df_R['id'] == id, \"R_expected\"] = R\n",
    "    df_R.loc[df_R['id'] == id, \"R_expected_err\"] = R_err\n",
    "    df_R.loc[df_R['id'] == id, \"ST\"] = spectral_type"
   ]
  },
  {
   "cell_type": "markdown",
   "metadata": {},
   "source": [
    "<font color='yellow' size=5>Observed radius from Falenga et al. (2015) </font>"
   ]
  },
  {
   "cell_type": "code",
   "execution_count": 7,
   "metadata": {},
   "outputs": [],
   "source": [
    "for i in range(df_falenga.shape[0]):\n",
    "    # Object id\n",
    "    id = df_falenga.loc[i, 'id']\n",
    "    # Spectral type\n",
    "    spectral_type = df_hmxb[df_hmxb[\"id\"] == str(id)][\"ST\"].reset_index(drop=True).at[0]\n",
    "\n",
    "    # Put R in luminosity dataframe\n",
    "    df_R.loc[df_R[\"id\"] == id, \"R_true\"] = df_falenga['R_opt'][i]\n",
    "    df_R.loc[df_R[\"id\"] == id, \"R_true_err\"] = df_falenga[\"R_opt_err\"][i]\n",
    "    df_R.loc[df_R[\"id\"] == id, \"ST\"] = spectral_type"
   ]
  },
  {
   "cell_type": "code",
   "execution_count": 8,
   "metadata": {},
   "outputs": [],
   "source": [
    "# Calculate ratio\n",
    "df_R[\"R_expected/R_true\"] = df_R[\"R_expected\"] / df_R[\"R_true\"]"
   ]
  },
  {
   "cell_type": "code",
   "execution_count": 9,
   "metadata": {},
   "outputs": [],
   "source": [
    "df_R = df_R.dropna(subset=['R_true', 'R_expected']).reset_index(drop=True)"
   ]
  },
  {
   "cell_type": "markdown",
   "metadata": {},
   "source": [
    "<font color='yellow' size=5>Mass </font>\n",
    "- M_HRD is determined from the position in the HRD as shown below in the code\n",
    "- M_opt is the determined mass from Falenga et al. (2015) based on the orbital parameters"
   ]
  },
  {
   "cell_type": "code",
   "execution_count": 10,
   "metadata": {},
   "outputs": [],
   "source": [
    "df_M = pd.read_excel(\"tables/M_expBONNSAI.xlsx\")\n",
    "df_M = pd.merge(df_M, df_falenga, on='id')[[\"id\", \"M_HRD\", \"M_opt\", \"M_opt_err\", \"M_exp\", \"M_exp_err\"]]\n",
    "df_M[\"M_opt/M_exp\"] = df_M[\"M_opt\"] / df_M[\"M_exp\"]"
   ]
  },
  {
   "cell_type": "markdown",
   "metadata": {},
   "source": [
    "<font color='yellow' size=5>All parameters</font>"
   ]
  },
  {
   "cell_type": "code",
   "execution_count": 11,
   "metadata": {},
   "outputs": [],
   "source": [
    "df_MRL = pd.merge(df_M, pd.merge(df_R, df_L, on='id'), on='id').drop(columns=['ST_y']).rename(columns={\"ST_x\": 'ST'})\n",
    "df_MRL = df_MRL.drop(df_MRL.loc[df_MRL['id'] == 'OAO 1657-415'].index)"
   ]
  },
  {
   "cell_type": "markdown",
   "metadata": {},
   "source": [
    "Calculate errors on M/M and R/R"
   ]
  },
  {
   "cell_type": "code",
   "execution_count": 12,
   "metadata": {},
   "outputs": [],
   "source": [
    "df_MRL[\"M_opt/M_exp_err\"] = ( (df_MRL[\"M_opt_err\"] / df_MRL[\"M_opt\"])**2 + (df_MRL[\"M_opt\"] / (df_MRL[\"M_exp\"])**2 * df_MRL[\"M_exp_err\"] )**2 )**(1/2)\n",
    "df_MRL[\"R_expected/R_true_err\"] = ( (df_MRL[\"R_expected_err\"] / df_MRL[\"R_expected\"])**2 + (df_MRL[\"R_expected\"] / (df_MRL[\"R_true\"])**2 * df_MRL[\"R_true_err\"])**2 )**(1/2)"
   ]
  },
  {
   "cell_type": "code",
   "execution_count": 13,
   "metadata": {},
   "outputs": [],
   "source": [
    "df_MRL.to_csv('tables/results/MassRadiusLuminosity.csv', index=False)"
   ]
  },
  {
   "cell_type": "code",
   "execution_count": 14,
   "metadata": {},
   "outputs": [
    {
     "data": {
      "text/html": [
       "<div>\n",
       "<style scoped>\n",
       "    .dataframe tbody tr th:only-of-type {\n",
       "        vertical-align: middle;\n",
       "    }\n",
       "\n",
       "    .dataframe tbody tr th {\n",
       "        vertical-align: top;\n",
       "    }\n",
       "\n",
       "    .dataframe thead th {\n",
       "        text-align: right;\n",
       "    }\n",
       "</style>\n",
       "<table border=\"1\" class=\"dataframe\">\n",
       "  <thead>\n",
       "    <tr style=\"text-align: right;\">\n",
       "      <th></th>\n",
       "      <th>id</th>\n",
       "      <th>logL_true/L_sun</th>\n",
       "      <th>Teff</th>\n",
       "      <th>R_expected</th>\n",
       "    </tr>\n",
       "  </thead>\n",
       "  <tbody>\n",
       "    <tr>\n",
       "      <th>0</th>\n",
       "      <td>SMC X-1</td>\n",
       "      <td>5.498888</td>\n",
       "      <td>29558.0</td>\n",
       "      <td>21.4164283825713</td>\n",
       "    </tr>\n",
       "    <tr>\n",
       "      <th>1</th>\n",
       "      <td>Vela X-1</td>\n",
       "      <td>5.598494</td>\n",
       "      <td>28653.0</td>\n",
       "      <td>25.5599607980095</td>\n",
       "    </tr>\n",
       "    <tr>\n",
       "      <th>2</th>\n",
       "      <td>LMC X-4</td>\n",
       "      <td>4.898484</td>\n",
       "      <td>33179.0</td>\n",
       "      <td>8.51468489012221</td>\n",
       "    </tr>\n",
       "    <tr>\n",
       "      <th>3</th>\n",
       "      <td>4U1700-37</td>\n",
       "      <td>5.700208</td>\n",
       "      <td>36801.0</td>\n",
       "      <td>17.4195866514551</td>\n",
       "    </tr>\n",
       "    <tr>\n",
       "      <th>4</th>\n",
       "      <td>4U1538-52</td>\n",
       "      <td>4.908964</td>\n",
       "      <td>29558.0</td>\n",
       "      <td>10.8588861484444</td>\n",
       "    </tr>\n",
       "    <tr>\n",
       "      <th>5</th>\n",
       "      <td>Cen X-3</td>\n",
       "      <td>5.766928</td>\n",
       "      <td>35895.0</td>\n",
       "      <td>19.7719494330861</td>\n",
       "    </tr>\n",
       "    <tr>\n",
       "      <th>6</th>\n",
       "      <td>XTE J1855-026</td>\n",
       "      <td>5.092961</td>\n",
       "      <td>29558.0</td>\n",
       "      <td>13.4209601267453</td>\n",
       "    </tr>\n",
       "  </tbody>\n",
       "</table>\n",
       "</div>"
      ],
      "text/plain": [
       "              id logL_true/L_sun     Teff        R_expected\n",
       "0        SMC X-1        5.498888  29558.0  21.4164283825713\n",
       "1       Vela X-1        5.598494  28653.0  25.5599607980095\n",
       "2        LMC X-4        4.898484  33179.0  8.51468489012221\n",
       "3      4U1700-37        5.700208  36801.0  17.4195866514551\n",
       "4      4U1538-52        4.908964  29558.0  10.8588861484444\n",
       "5        Cen X-3        5.766928  35895.0  19.7719494330861\n",
       "6  XTE J1855-026        5.092961  29558.0  13.4209601267453"
      ]
     },
     "execution_count": 14,
     "metadata": {},
     "output_type": "execute_result"
    }
   ],
   "source": [
    "df_MRL[[\"id\", \"logL_true/L_sun\", \"Teff\", \"R_expected\"]]"
   ]
  }
 ],
 "metadata": {
  "kernelspec": {
   "display_name": "Python 3",
   "language": "python",
   "name": "python3"
  },
  "language_info": {
   "codemirror_mode": {
    "name": "ipython",
    "version": 3
   },
   "file_extension": ".py",
   "mimetype": "text/x-python",
   "name": "python",
   "nbconvert_exporter": "python",
   "pygments_lexer": "ipython3",
   "version": "3.9.18"
  }
 },
 "nbformat": 4,
 "nbformat_minor": 2
}
