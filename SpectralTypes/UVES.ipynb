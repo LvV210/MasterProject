{
 "cells": [
  {
   "cell_type": "code",
   "execution_count": 2,
   "metadata": {},
   "outputs": [],
   "source": [
    "%matplotlib qt"
   ]
  },
  {
   "cell_type": "code",
   "execution_count": 3,
   "metadata": {},
   "outputs": [],
   "source": [
    "import matplotlib.pyplot as plt\n",
    "from matplotlib import cm\n",
    "from astropy.io import fits\n",
    "import os\n",
    "import numpy as np\n",
    "from scipy.interpolate import CubicSpline"
   ]
  },
  {
   "cell_type": "code",
   "execution_count": 4,
   "metadata": {},
   "outputs": [],
   "source": [
    "def extract_spectrum_within_range(wavelengths, flux, start_wavelength, end_wavelength):\n",
    "    \"\"\"\n",
    "    Extract wavelength and flux values within a given range.\n",
    "\n",
    "    Parameters:\n",
    "    - wavelengths: List or array of wavelength values.\n",
    "    - flux: List or array of flux values.\n",
    "    - start_wavelength: Lower bound of the wavelength range.\n",
    "    - end_wavelength: Upper bound of the wavelength range.\n",
    "\n",
    "    Returns:\n",
    "    - extracted_wavelengths: Wavelength values within the specified range.\n",
    "    - extracted_flux: Flux values corresponding to the selected wavelengths.\n",
    "    \"\"\"\n",
    "\n",
    "    # Find indices corresponding to the specified wavelength range\n",
    "    indices = np.where((wavelengths >= start_wavelength) & (wavelengths <= end_wavelength))[0]\n",
    "\n",
    "    # Extract wavelength and flux values within the range\n",
    "    extracted_wavelengths = wavelengths[indices]\n",
    "    extracted_flux = flux[indices]\n",
    "\n",
    "    return extracted_wavelengths, extracted_flux"
   ]
  },
  {
   "cell_type": "code",
   "execution_count": 5,
   "metadata": {},
   "outputs": [],
   "source": [
    "def divide_colormap(num_parts, colormap_name='rainbow'):\n",
    "    cmap = plt.get_cmap(colormap_name)\n",
    "    num_colors = cmap.N\n",
    "    colors = [cmap(i / num_colors) for i in range(0, num_colors, num_colors // num_parts)]\n",
    "    return colors\n",
    "\n",
    "\n",
    "\n",
    "def import_spectra(object: str):\n",
    "\n",
    "    # Path to root folder\n",
    "    folder_path = f\"../Spectra/{object}/\"\n",
    "\n",
    "    # Get a list of all files in the folder\n",
    "    all_files = os.listdir(folder_path)\n",
    "\n",
    "    # Filter files that start with \"ADP\"\n",
    "    adp_files = [file for file in all_files if file.startswith(\"ADP\")]\n",
    "\n",
    "    # Gather the spectra\n",
    "    spectra = []\n",
    "    for file in adp_files:\n",
    "        data = fits.getdata(folder_path + file)\n",
    "        wavelength = data['WAVE'][0]\n",
    "        flux = data['FLUX'][0]\n",
    "        spectra.append((wavelength, flux))\n",
    "\n",
    "    return spectra\n",
    "\n",
    "\n",
    "\n",
    "def plot_spectrum(object: str):\n",
    "\n",
    "    # Import spectra\n",
    "    spectra = import_spectra(object)\n",
    "\n",
    "    # Spectral lines and wavelengths in angstrom\n",
    "    spectral_lines = [\n",
    "        (4026, \"HeI+II 4026\"),\n",
    "        (4200, \"HeII 4200\"),\n",
    "        (4686, \"HeII 4686\"),\n",
    "        (4634, \"NIII 4634-40-42 (emission)\"),\n",
    "        (4144, \"HeI 4144\"),\n",
    "        (4388, \"HeI 4388\"),\n",
    "        (4542, \"HeII 4542\"),\n",
    "        (4552, \"SiII 4552\"),\n",
    "        (4686, \"HeII 4686\"),\n",
    "        (4861, \"Hb 4861\"),\n",
    "        (5016, \"HeI 5016\"),\n",
    "        (5876, \"HeI 5876\"),\n",
    "        (5890, \"NaI 5890\"),\n",
    "        (5896, \"NaI 5896\"),\n",
    "        (6527, \"HeII 6527\"),\n",
    "        (6563, \"Ha 6563\")\n",
    "    ]\n",
    "\n",
    "    spectral_lines = [\n",
    "        (4026, \"He I + II 4026\"),\n",
    "        (4200, \"He II 4200\"),\n",
    "        (4634, \"N III 4634-40-42 (emission)\"),\n",
    "        (4686, \"He II 4686\"),\n",
    "        (4144, \"He I 4144\"),\n",
    "        (4388, \"He I 4388\"),\n",
    "        (4541, \"He II 4541\"),\n",
    "        (4552, \"Si II 4552\"),\n",
    "        (4686, \"He II 4686\"),\n",
    "        (4861, \"Hb 4861\"),\n",
    "        (5016, \"He I 5016\"),\n",
    "        (5876, \"He I 5876\"),\n",
    "        (5890, \"Na I 5890\"),\n",
    "        (5896, \"Na I 5896\"),\n",
    "        (6527, \"He II 6527\"),\n",
    "        (6563, \"Ha 6563\"),\n",
    "        (4471, \"He I 4471\"),\n",
    "        (4058, \"N IV 4058\"),\n",
    "        (4116, \"Si IV 4116\"),\n",
    "        (4097, \"N III 4097\"),\n",
    "        (4504, \"Si IV 4686-4504\"),\n",
    "        (4713, \"He I 4713\"),\n",
    "        (4187, \"C III 4187\"),\n",
    "        (4121, \"He I 4121\"),\n",
    "        (3995, \"N II 3995\"),\n",
    "        (4350, \"O II 4350\"),\n",
    "        (4128, \"Si I 4128-30\"),\n",
    "        (4481, \"Mg II 4481\"),\n",
    "        (4233, \"Fe II 4233\"),\n",
    "    ]\n",
    "\n",
    "    colors = divide_colormap(len(spectral_lines))\n",
    "\n",
    "    # Plot the spectrum\n",
    "    plt.figure(figsize=(10, 5))\n",
    "    for spectrum in spectra:\n",
    "        plt.plot(spectrum[0], spectrum[1])\n",
    "\n",
    "    # Plot wavelengths of spectral lines\n",
    "    for wavelength, label in spectral_lines:\n",
    "        plt.vlines(wavelength, -1000, 1000, label=label, color=colors[spectral_lines.index((wavelength, label))])\n",
    "\n",
    "    plt.xlabel('Wavelength (Angstroms)')\n",
    "    plt.ylabel('Flux')\n",
    "    plt.title(f'Spectrum {object}')\n",
    "    # plt.ylim(0, 1.2)\n",
    "    plt.legend()\n",
    "    plt.show()\n",
    "\n",
    "    return\n",
    "\n",
    "# Example\n",
    "plot_spectrum('4U1538_52')"
   ]
  },
  {
   "cell_type": "code",
   "execution_count": 6,
   "metadata": {},
   "outputs": [],
   "source": [
    "spectra = import_spectra('4U1700_37')\n",
    "line_wav, line_flux = extract_spectrum_within_range(spectra[3][0], spectra[3][1], 4021.8, 4027.8)\n",
    "\n",
    "# Only background\n",
    "bg1_wav, bg1_flux =  extract_spectrum_within_range(spectra[3][0], spectra[3][1], 4010, 4020)\n",
    "bg2_wav, bg2_flux =  extract_spectrum_within_range(spectra[3][0], spectra[3][1], 4030, 4040)\n",
    "bg_wav = np.concatenate([bg1_wav, bg2_wav])\n",
    "bg_flux = np.concatenate([bg1_flux, bg2_flux])\n",
    "\n",
    "plt.plot(line_wav, line_flux)\n",
    "plt.plot(bg_wav, bg_flux)\n",
    "\n",
    "# Fit a 2nd degree polynomial\n",
    "coefficients = np.polyfit(bg_wav, bg_flux, 2)\n",
    "polynomial = np.poly1d(coefficients)\n",
    "\n",
    "# Generate points for the fitted polynomial curve\n",
    "bg_wav_fit = np.linspace(min(bg_wav), max(bg_wav), 100)\n",
    "bg_flux_fit = polynomial(bg_wav_fit)\n",
    "\n",
    "# Plot the original data points and the fitted polynomial curve\n",
    "plt.scatter(bg_wav, bg_flux, label='Original Data')\n",
    "plt.plot(bg_wav_fit, bg_flux_fit, label='Fitted Polynomial (2nd degree)', color='red')\n",
    "\n",
    "# Add labels and legend\n",
    "plt.xlabel('bg_wav')\n",
    "plt.ylabel('bg_flux')\n",
    "plt.legend()\n",
    "\n",
    "# Show the plot\n",
    "plt.show()"
   ]
  },
  {
   "cell_type": "code",
   "execution_count": 7,
   "metadata": {},
   "outputs": [
    {
     "name": "stdout",
     "output_type": "stream",
     "text": [
      "0.4049989533042062\n"
     ]
    }
   ],
   "source": [
    "# Calculate EW\n",
    "continuum = polynomial(line_wav)\n",
    "dlambda = line_wav[1] - line_wav[0]\n",
    "EW = 0\n",
    "area = 0\n",
    "for Fc, Fs in zip(continuum, line_flux):\n",
    "    EW += (1 - Fs / Fc) * dlambda\n",
    "print(EW)"
   ]
  },
  {
   "cell_type": "code",
   "execution_count": 8,
   "metadata": {},
   "outputs": [],
   "source": [
    "import numpy as np\n",
    "import matplotlib.pyplot as plt\n",
    "from scipy.optimize import curve_fit\n",
    "\n",
    "# Generate example data (replace this with your own spectrum data)\n",
    "wavelength = spectra[0][0]\n",
    "flux = spectra[0][1]  # Replace with your actual flux data\n",
    "\n",
    "# Define a function for the polynomial fit (adjust the degree as needed)\n",
    "def continuum_fit(x, *params):\n",
    "    return np.polyval(params, x)\n",
    "\n",
    "# Initial guess for polynomial coefficients\n",
    "initial_guess = np.ones(2)\n",
    "\n",
    "# Perform the fit using curve_fit from scipy\n",
    "fit_params, covariance = curve_fit(continuum_fit, wavelength, flux, p0=initial_guess)\n",
    "\n",
    "# Generate the continuum using the fitted parameters\n",
    "continuum = continuum_fit(wavelength, *fit_params)\n",
    "\n",
    "# Plot the original spectrum and the fitted continuum\n",
    "plt.plot(wavelength, flux, label='Original Spectrum')\n",
    "plt.plot(wavelength, continuum, label='Fitted Continuum', linestyle='--', color='red')\n",
    "plt.legend()\n",
    "plt.xlabel('Wavelength')\n",
    "plt.ylabel('Flux')\n",
    "plt.title('Continuum Fitting Example')\n",
    "plt.show()\n"
   ]
  },
  {
   "cell_type": "code",
   "execution_count": 9,
   "metadata": {},
   "outputs": [],
   "source": [
    "import numpy as np\n",
    "import matplotlib.pyplot as plt\n",
    "from scipy.signal import savgol_filter\n",
    "\n",
    "# Generate example data (replace this with your own spectrum data)\n",
    "wavelength = spectra[0][0]\n",
    "flux = spectra[0][1]  # Replace with your actual flux data\n",
    "\n",
    "# Choose the window size and polynomial order for Savitzky-Golay filter\n",
    "window_size = 15\n",
    "poly_order = 2\n",
    "\n",
    "# Apply Savitzky-Golay filtering to the flux data\n",
    "smoothed_flux = savgol_filter(flux, window_size, poly_order)\n",
    "\n",
    "# Plot the original spectrum and the filtered spectrum\n",
    "plt.plot(wavelength, flux, label='Original Spectrum')\n",
    "plt.plot(wavelength, smoothed_flux, label='Filtered Spectrum', linestyle='--', color='red')\n",
    "plt.legend()\n",
    "plt.xlabel('Wavelength')\n",
    "plt.ylabel('Flux')\n",
    "plt.title('Spectral Line Filtering Example (Savitzky-Golay)')\n",
    "plt.show()\n"
   ]
  },
  {
   "cell_type": "code",
   "execution_count": 10,
   "metadata": {},
   "outputs": [],
   "source": [
    "import numpy as np\n",
    "import matplotlib.pyplot as plt\n",
    "\n",
    "# Assuming you have your spectrum data in arrays x and y\n",
    "# and you have already fitted a linear model (e.g., using np.polyfit)\n",
    "\n",
    "# Example spectrum data\n",
    "x = spectra[3][0]\n",
    "y = spectra[3][1]\n",
    "\n",
    "# Fit a linear model (in this case, a first-degree polynomial)\n",
    "coefficients = np.polyfit(x, y, 1)\n",
    "linear_fit = np.polyval(coefficients, x)\n",
    "\n",
    "# Calculate the difference between actual data and linear fit\n",
    "residuals = y - linear_fit\n",
    "\n",
    "# Create a mask for points under the linear fit\n",
    "mask_under_fit = residuals < 0\n",
    "\n",
    "# Apply the mask to your data\n",
    "masked_x = x[mask_under_fit]\n",
    "masked_y = y[mask_under_fit]\n",
    "\n",
    "# Plotting for visualization\n",
    "plt.scatter(x, y, label='Actual Data')\n",
    "plt.plot(x, linear_fit, label='Linear Fit', color='red')\n",
    "plt.scatter(masked_x, masked_y, label='Points under Linear Fit', color='green')\n",
    "plt.legend()\n",
    "plt.show()\n"
   ]
  },
  {
   "cell_type": "code",
   "execution_count": 11,
   "metadata": {},
   "outputs": [
    {
     "data": {
      "text/plain": [
       "[<matplotlib.lines.Line2D at 0x7fbd1c8604f0>]"
      ]
     },
     "execution_count": 11,
     "metadata": {},
     "output_type": "execute_result"
    }
   ],
   "source": [
    "mask_above_fit = residuals > 0\n",
    "filtered_spectrum_wav = x[mask_above_fit]\n",
    "filtered_spectrum_flux = y[mask_above_fit]\n",
    "# plt.plot(filtered_spectrum_wav, filtered_spectrum_flux)\n",
    "\n",
    "# Choose the window size and polynomial order for Savitzky-Golay filter\n",
    "window_size = 1000\n",
    "poly_order = 0\n",
    "\n",
    "smoothed_flux = savgol_filter(filtered_spectrum_flux, window_size, poly_order)\n",
    "plt.plot(spectra[3][0], spectra[3][1])\n",
    "plt.plot(filtered_spectrum_wav, smoothed_flux, label='Filtered Spectrum', linestyle='--', color='red')"
   ]
  },
  {
   "cell_type": "code",
   "execution_count": 12,
   "metadata": {},
   "outputs": [
    {
     "data": {
      "text/plain": [
       "[<matplotlib.lines.Line2D at 0x7fbd2fd36d00>]"
      ]
     },
     "execution_count": 12,
     "metadata": {},
     "output_type": "execute_result"
    }
   ],
   "source": [
    "# Fit a linear model (in this case, a first-degree polynomial)\n",
    "coefficients = np.polyfit(filtered_spectrum_wav, smoothed_flux, 3)\n",
    "linear_fit = np.polyval(coefficients, filtered_spectrum_wav)\n",
    "plt.plot(spectra[3][0], spectra[3][1])\n",
    "plt.plot(filtered_spectrum_wav, linear_fit)\n"
   ]
  },
  {
   "cell_type": "code",
   "execution_count": 17,
   "metadata": {},
   "outputs": [],
   "source": [
    "# Path to root folder\n",
    "folder_path = f\"../Spectra/{'4U1538_52'}/\"\n",
    "\n",
    "# Get a list of all files in the folder\n",
    "all_files = os.listdir(folder_path)\n",
    "\n",
    "# Filter files that start with \"ADP\"\n",
    "adp_files = [file for file in all_files if file.startswith(\"ADP\")]\n",
    "\n",
    "data = fits.getdata(folder_path + adp_files[0])"
   ]
  },
  {
   "cell_type": "code",
   "execution_count": 32,
   "metadata": {},
   "outputs": [
    {
     "data": {
      "text/plain": [
       "(-50.0, 50.0)"
      ]
     },
     "execution_count": 32,
     "metadata": {},
     "output_type": "execute_result"
    }
   ],
   "source": [
    "plt.plot(data['WAVE'][0], data['FLUX'][0])\n",
    "plt.ylim(-50, 50)"
   ]
  }
 ],
 "metadata": {
  "kernelspec": {
   "display_name": "Python 3",
   "language": "python",
   "name": "python3"
  },
  "language_info": {
   "codemirror_mode": {
    "name": "ipython",
    "version": 3
   },
   "file_extension": ".py",
   "mimetype": "text/x-python",
   "name": "python",
   "nbconvert_exporter": "python",
   "pygments_lexer": "ipython3",
   "version": "3.9.18"
  }
 },
 "nbformat": 4,
 "nbformat_minor": 2
}
