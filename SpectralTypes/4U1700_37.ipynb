{
 "cells": [
  {
   "cell_type": "code",
   "execution_count": 2,
   "metadata": {},
   "outputs": [],
   "source": [
    "%matplotlib qt\n"
   ]
  },
  {
   "cell_type": "code",
   "execution_count": 3,
   "metadata": {},
   "outputs": [],
   "source": [
    "import sys\n",
    "sys.path.append('/mnt/c/Users/luukv/Documenten/NatuurSterrkenkundeMasterProject/CodeMP/MasterProject')\n",
    "from functions import *\n",
    "import matplotlib.pyplot as plt\n",
    "from matplotlib import cm\n",
    "from astropy.io import fits\n",
    "import os\n",
    "import numpy as np\n",
    "from scipy.interpolate import CubicSpline\n"
   ]
  },
  {
   "cell_type": "code",
   "execution_count": 21,
   "metadata": {},
   "outputs": [
    {
     "name": "stdout",
     "output_type": "stream",
     "text": [
      "The wavelength range goes from 6650 to 10426\n",
      "The wavelength range goes from 4583 to 6686\n",
      "The wavelength range goes from 3044 to 3917\n",
      "The wavelength range goes from 3732 to 5000\n"
     ]
    }
   ],
   "source": [
    "spectra = import_spectra('4U1700_37')\n",
    "for spectrum in spectra:\n",
    "    print(f\"The wavelength range goes from {round(min(spectrum[0]))} to {round(max(spectrum[0]))}\")\n",
    "plot_spectrum('4U1700_37')"
   ]
  },
  {
   "cell_type": "markdown",
   "metadata": {},
   "source": [
    "#### EW for HeI 4471"
   ]
  },
  {
   "cell_type": "code",
   "execution_count": 13,
   "metadata": {},
   "outputs": [
    {
     "name": "stdout",
     "output_type": "stream",
     "text": [
      "0.2810302141785736\n"
     ]
    }
   ],
   "source": [
    "spectra = import_spectra('4U1700_37')\n",
    "line_wav, line_flux = extract_spectrum_within_range(spectra[3][0], spectra[3][1], 4468, 4473)\n",
    "\n",
    "# Only background\n",
    "bg1_wav, bg1_flux =  extract_spectrum_within_range(spectra[3][0], spectra[3][1], 4465, 4466)\n",
    "bg2_wav, bg2_flux =  extract_spectrum_within_range(spectra[3][0], spectra[3][1], 4473, 4474)\n",
    "bg_wav = np.concatenate([bg1_wav, bg2_wav])\n",
    "bg_flux = np.concatenate([bg1_flux, bg2_flux])\n",
    "\n",
    "plt.plot(line_wav, line_flux)\n",
    "plt.plot(bg_wav, bg_flux)\n",
    "\n",
    "# Fit a 2nd degree polynomial\n",
    "coefficients = np.polyfit(bg_wav, bg_flux, 2)\n",
    "polynomial = np.poly1d(coefficients)\n",
    "\n",
    "# Generate points for the fitted polynomial curve\n",
    "bg_wav_fit = np.linspace(min(bg_wav), max(bg_wav), 100)\n",
    "bg_flux_fit = polynomial(bg_wav_fit)\n",
    "\n",
    "# Plot the original data points and the fitted polynomial curve\n",
    "plt.scatter(bg_wav, bg_flux, label='Original Data')\n",
    "plt.plot(bg_wav_fit, bg_flux_fit, label='Fitted Polynomial (2nd degree)', color='red')\n",
    "\n",
    "# Add labels and legend\n",
    "plt.xlabel('bg_wav')\n",
    "plt.ylabel('bg_flux')\n",
    "plt.legend()\n",
    "\n",
    "# Show the plot\n",
    "plt.show()\n",
    "\n",
    "# Calculate EW\n",
    "continuum = polynomial(line_wav)\n",
    "dlambda = line_wav[1] - line_wav[0]\n",
    "EW = 0\n",
    "area = 0\n",
    "for Fc, Fs in zip(continuum, line_flux):\n",
    "    EW += (1 - Fs / Fc) * dlambda\n",
    "print(EW)"
   ]
  },
  {
   "cell_type": "markdown",
   "metadata": {},
   "source": [
    "#### EW for HeII 4542"
   ]
  },
  {
   "cell_type": "code",
   "execution_count": 16,
   "metadata": {},
   "outputs": [
    {
     "name": "stdout",
     "output_type": "stream",
     "text": [
      "0.7083326153717695\n"
     ]
    }
   ],
   "source": [
    "spectra = import_spectra('4U1700_37')\n",
    "line_wav, line_flux = extract_spectrum_within_range(spectra[3][0], spectra[3][1], 4536, 4544)\n",
    "\n",
    "# Only background\n",
    "bg1_wav, bg1_flux =  extract_spectrum_within_range(spectra[3][0], spectra[3][1], 4529, 4535)\n",
    "bg2_wav, bg2_flux =  extract_spectrum_within_range(spectra[3][0], spectra[3][1], 4548, 4554)\n",
    "bg_wav = np.concatenate([bg1_wav, bg2_wav])\n",
    "bg_flux = np.concatenate([bg1_flux, bg2_flux])\n",
    "\n",
    "plt.plot(line_wav, line_flux)\n",
    "plt.plot(bg_wav, bg_flux)\n",
    "\n",
    "# Fit a 2nd degree polynomial\n",
    "coefficients = np.polyfit(bg_wav, bg_flux, 2)\n",
    "polynomial = np.poly1d(coefficients)\n",
    "\n",
    "# Generate points for the fitted polynomial curve\n",
    "bg_wav_fit = np.linspace(min(bg_wav), max(bg_wav), 100)\n",
    "bg_flux_fit = polynomial(bg_wav_fit)\n",
    "\n",
    "# Plot the original data points and the fitted polynomial curve\n",
    "plt.scatter(bg_wav, bg_flux, label='Original Data')\n",
    "plt.plot(bg_wav_fit, bg_flux_fit, label='Fitted Polynomial (2nd degree)', color='red')\n",
    "\n",
    "# Add labels and legend\n",
    "plt.xlabel('bg_wav')\n",
    "plt.ylabel('bg_flux')\n",
    "plt.legend()\n",
    "\n",
    "# Show the plot\n",
    "plt.show()\n",
    "\n",
    "# Calculate EW\n",
    "continuum = polynomial(line_wav)\n",
    "dlambda = line_wav[1] - line_wav[0]\n",
    "EW = 0\n",
    "area = 0\n",
    "for Fc, Fs in zip(continuum, line_flux):\n",
    "    EW += (1 - Fs / Fc) * dlambda\n",
    "print(EW)"
   ]
  },
  {
   "cell_type": "markdown",
   "metadata": {},
   "source": [
    "#### EW HeII 4686"
   ]
  },
  {
   "cell_type": "code",
   "execution_count": 24,
   "metadata": {},
   "outputs": [
    {
     "name": "stdout",
     "output_type": "stream",
     "text": [
      "-2.5182038467321695\n"
     ]
    }
   ],
   "source": [
    "spectra = import_spectra('4U1700_37')\n",
    "line_wav, line_flux = extract_spectrum_within_range(spectra[3][0], spectra[3][1], 4680, 4692)\n",
    "\n",
    "# Only background\n",
    "bg1_wav, bg1_flux =  extract_spectrum_within_range(spectra[3][0], spectra[3][1], 4672, 4680)\n",
    "bg2_wav, bg2_flux =  extract_spectrum_within_range(spectra[3][0], spectra[3][1], 4698, 4702)\n",
    "bg_wav = np.concatenate([bg1_wav, bg2_wav])\n",
    "bg_flux = np.concatenate([bg1_flux, bg2_flux])\n",
    "\n",
    "plt.plot(line_wav, line_flux)\n",
    "plt.plot(bg_wav, bg_flux)\n",
    "\n",
    "# Fit a 2nd degree polynomial\n",
    "coefficients = np.polyfit(bg_wav, bg_flux, 2)\n",
    "polynomial = np.poly1d(coefficients)\n",
    "\n",
    "# Generate points for the fitted polynomial curve\n",
    "bg_wav_fit = np.linspace(min(bg_wav), max(bg_wav), 100)\n",
    "bg_flux_fit = polynomial(bg_wav_fit)\n",
    "\n",
    "# Plot the original data points and the fitted polynomial curve\n",
    "plt.scatter(bg_wav, bg_flux, label='Original Data')\n",
    "plt.plot(bg_wav_fit, bg_flux_fit, label='Fitted Polynomial (2nd degree)', color='red')\n",
    "\n",
    "# Add labels and legend\n",
    "plt.xlabel('bg_wav')\n",
    "plt.ylabel('bg_flux')\n",
    "plt.legend()\n",
    "\n",
    "# Show the plot\n",
    "plt.show()\n",
    "\n",
    "# Calculate EW\n",
    "continuum = polynomial(line_wav)\n",
    "dlambda = line_wav[1] - line_wav[0]\n",
    "EW = 0\n",
    "area = 0\n",
    "for Fc, Fs in zip(continuum, line_flux):\n",
    "    EW += (1 - Fs / Fc) * dlambda\n",
    "print(EW)"
   ]
  }
 ],
 "metadata": {
  "kernelspec": {
   "display_name": "Python 3",
   "language": "python",
   "name": "python3"
  },
  "language_info": {
   "codemirror_mode": {
    "name": "ipython",
    "version": 3
   },
   "file_extension": ".py",
   "mimetype": "text/x-python",
   "name": "python",
   "nbconvert_exporter": "python",
   "pygments_lexer": "ipython3",
   "version": "3.9.18"
  }
 },
 "nbformat": 4,
 "nbformat_minor": 2
}
