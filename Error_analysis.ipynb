{
 "cells": [
  {
   "cell_type": "code",
   "execution_count": 1,
   "metadata": {},
   "outputs": [],
   "source": [
    "from functions import *\n",
    "from import_data import *\n",
    "\n",
    "from astropy.constants import R_sun, L_sun, sigma_sb\n",
    "import re\n",
    "import math\n",
    "import pandas as pd\n",
    "import numpy as np\n",
    "import matplotlib.pyplot as plt\n",
    "from IPython.display import Markdown as md\n",
    "\n",
    "import sympy as sp"
   ]
  },
  {
   "cell_type": "code",
   "execution_count": 2,
   "metadata": {},
   "outputs": [
    {
     "name": "stdout",
     "output_type": "stream",
     "text": [
      "2.0*sqrt(0.04*10**(-0.8*BCh + 0.8*Rh*(-JH0 + JHobs) - 0.8*mh + 4.0*log(d)/log(10) - 0.208)*Rh**4*yourSigmaJH0**2*log(10)**2 + 0.04*10**(-0.8*BCh + 0.8*Rh*(-JH0 + JHobs) - 0.8*mh + 4.0*log(d)/log(10) - 0.208)*Rh**4*yourSigmaJHobs**2*log(10)**2 + 0.04*10**(-0.8*BCh + 0.8*Rh*(-JH0 + JHobs) - 0.8*mh + 4.0*log(d)/log(10) - 0.208)*Rh**2*yourSigmaRh**2*(-JH0 + JHobs)**2*log(10)**2 + 0.04*10**(-0.8*BCh + 0.8*Rh*(-JH0 + JHobs) - 0.8*mh + 4.0*log(d)/log(10) - 0.208)*yourSigmaBCh**2*log(10)**2 + 0.04*10**(-0.8*BCh + 0.8*Rh*(-JH0 + JHobs) - 0.8*mh + 4.0*log(d)/log(10) - 0.208)*yourSigmamh**2*log(10)**2 + 10**(-0.8*BCh + 0.8*Rh*(-JH0 + JHobs) - 0.8*mh + 4.0*log(d)/log(10) - 0.208)*yourSigmad**2/d**4)\n"
     ]
    }
   ],
   "source": [
    "\n",
    "\n",
    "# Define the symbols\n",
    "BCh, mh, d, Rh, JHobs, JH0, yourSigmaBCh, yourSigmad, yourSigmaJH0, yourSigmaJHobs, yourSigmamh, yourSigmaRh = sp.symbols(\n",
    "    'BCh mh d Rh JHobs JH0 yourSigmaBCh yourSigmad yourSigmaJH0 yourSigmaJHobs yourSigmamh yourSigmaRh'\n",
    ")\n",
    "\n",
    "# Define the function L\n",
    "L = 10**(-0.4*(-4.74 + BCh + mh - (-JH0 + JHobs)*Rh - (5*sp.log(d))/sp.log(10) + 5))\n",
    "\n",
    "# Calculate the partial derivatives\n",
    "partial_derivative_BCh = sp.diff(L, BCh)\n",
    "partial_derivative_mh = sp.diff(L, mh)\n",
    "partial_derivative_d = sp.diff(L, d)\n",
    "partial_derivative_Rh = sp.diff(L, Rh)\n",
    "partial_derivative_JHobs = sp.diff(L, JHobs)\n",
    "partial_derivative_JH0 = sp.diff(L, JH0)\n",
    "\n",
    "# Calculate the error expression\n",
    "error_L = sp.sqrt(\n",
    "    (partial_derivative_BCh * yourSigmaBCh)**2 +\n",
    "    (partial_derivative_mh * yourSigmamh)**2 +\n",
    "    (partial_derivative_d * yourSigmad / d)**2 +\n",
    "    (partial_derivative_Rh * Rh * yourSigmaRh)**2 +\n",
    "    (partial_derivative_JHobs * Rh * yourSigmaJHobs)**2 +\n",
    "    (partial_derivative_JH0 * Rh * yourSigmaJH0)**2\n",
    ")\n",
    "\n",
    "# Print the result\n",
    "print(error_L)\n"
   ]
  },
  {
   "cell_type": "code",
   "execution_count": 3,
   "metadata": {},
   "outputs": [
    {
     "name": "stdout",
     "output_type": "stream",
     "text": [
      "L = 81078 +- 7826 Lsun\n"
     ]
    }
   ],
   "source": [
    "# Substitute values\n",
    "values = {\n",
    "    BCh: -3.47,\n",
    "    mh: 9.910,\n",
    "    d: 5535,\n",
    "    Rh: 0.46,\n",
    "    JHobs: 0.448,\n",
    "    JH0: -0.11,\n",
    "    yourSigmaBCh: 0.1,\n",
    "    yourSigmad: 400,\n",
    "    yourSigmaJH0: 0,\n",
    "    yourSigmaJHobs: 0.042,\n",
    "    yourSigmamh: 0.03,\n",
    "    yourSigmaRh: 0.01,\n",
    "}\n",
    "\n",
    "# Calculate the error expression with values substituted\n",
    "error_L_with_values = error_L.subs(values)\n",
    "L_with_values = L.subs(values)\n",
    "\n",
    "# Calculate the numerical value\n",
    "numerical_value_error_L = error_L_with_values.evalf()\n",
    "numerical_value_L = L_with_values.evalf()\n",
    "\n",
    "# Print the result\n",
    "print(f\"L = {int(numerical_value_L)}\", \"+-\", f\"{int(numerical_value_error_L)}\", \"Lsun\")\n"
   ]
  }
 ],
 "metadata": {
  "kernelspec": {
   "display_name": "Python 3",
   "language": "python",
   "name": "python3"
  },
  "language_info": {
   "codemirror_mode": {
    "name": "ipython",
    "version": 3
   },
   "file_extension": ".py",
   "mimetype": "text/x-python",
   "name": "python",
   "nbconvert_exporter": "python",
   "pygments_lexer": "ipython3",
   "version": "3.9.18"
  }
 },
 "nbformat": 4,
 "nbformat_minor": 2
}
