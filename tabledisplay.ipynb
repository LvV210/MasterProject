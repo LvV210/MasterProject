{
 "cells": [
  {
   "cell_type": "code",
   "execution_count": 1,
   "metadata": {},
   "outputs": [],
   "source": [
    "import pandas as pd\n",
    "import numpy as np\n",
    "from functions import display_df"
   ]
  },
  {
   "cell_type": "code",
   "execution_count": 2,
   "metadata": {},
   "outputs": [],
   "source": [
    "file_path = 'HMXBparameters.xlsx'  # Replace with the path to your XLSX file\n",
    "\n",
    "# Read the XLSX file into a DataFrame, setting empty cells to None\n",
    "df_hmxb = pd.read_excel('tables/HMXBparameters.xlsx', header=0, na_values=None)\n",
    "df_kaper = pd.read_excel('tables/HMXBkaper.xlsx', header=0, na_values=None)\n",
    "df_stellar_params = pd.read_excel('tables/StellarParam.xlsx', header=0, na_values=None)\n",
    "df_photometric_params = pd.read_excel('tables/PhotometricParam.xlsx', header=0, na_values=None)\n"
   ]
  },
  {
   "cell_type": "code",
   "execution_count": 3,
   "metadata": {},
   "outputs": [
    {
     "data": {
      "text/markdown": [
       "| id         | Spec. Type   | Spec. Type (short)   | ruwe      | $P[days]$   | $P_{spin}[s]$   | eclipseduration[units]   | $v_{rad}[km s^{-1}]$   | $M_{ob}[M_{\\odot}]$   | $R_{ob}[R_{\\odot}]$   | $M_{x} [M_{\\odot}]$   | $p'' ['']$   | $\\delta p''['']$   | $d[kpc]$   | $d_{BJ}[kpc]$   | $L_{ob}[L_{\\odot}]$   | $(B-V)_{obs}$   | B         | V         | $(B-V)_{0}$   | $BC_{v}$   | $m_{v}$   | $T_{eff}[K]$   |\n",
       "|:-----------|:-------------|:---------------------|:----------|:------------|:----------------|:-------------------------|:-----------------------|:----------------------|:----------------------|:----------------------|:-------------|:-------------------|:-----------|:----------------|:----------------------|:----------------|:----------|:----------|:--------------|:-----------|:----------|:---------------|\n",
       "| 2S0114+650 | B1Iae        | B1I                  | 9.45E-01 | 1.57E+01   | 1.00E+04       | NAN                     | -8.00E+01             | 1.60E+01             | NAN                  | NAN                  | 1.96E-01    | 1.13E-02          | 5.09E+00  | NAN            | NAN                  | 8.50E-01       | 1.20E+01 | 1.11E+01 | -2.80E-01    | -9.80E-01 | 1.11E+01 | 2.51E+04      |\n",
       "| SMC X-1    | O9.7Ia+      | O9I                  | 1.00E+00 | NAN        | NAN            | NAN                     | NAN                   | NAN                  | NAN                  | NAN                  | 3.99E-03    | 2.48E-02          | 2.51E+02  | NAN            | NAN                  | -1.50E-01      | 1.30E+01 | 1.32E+01 | -3.20E-01    | -3.03E+00 | 1.32E+01 | 3.22E+04      |\n",
       "| LMC X-4    | O8III        | O8III                | 1.01E+00 | 1.40E+00   | 1.35E+01       | NAN                     | NAN                   | NAN                  | NAN                  | NAN                  | 4.44E-03    | 2.18E-02          | 2.25E+02  | NAN            | NAN                  | -1.00E-01      | 1.39E+01 | 1.40E+01 | -3.20E-01    | -3.23E+00 | 1.40E+01 | 3.40E+04      |\n",
       "| Vela X-1   | B0.5Ia       | B0I                  | 8.80E-01 | 8.96E-04   | 2.83E+02       | NAN                     | -3.20E+00             | 2.60E+01             | NAN                  | NAN                  | 4.96E-01    | 1.52E-02          | 2.02E+00  | NAN            | NAN                  | 5.00E-01       | 7.37E+00 | 6.87E+00 | -3.10E-01    | -2.84E+00 | 6.87E+00 | 2.95E+04      |\n",
       "| Cen X-3    | O9III        | O9III                | 1.02E+00 | 2.03E+00   | 4.80E-05       | NAN                     | 3.20E+01              | 2.02E+01             | NAN                  | NAN                  | 1.39E-01    | 1.37E-02          | 7.21E+00  | NAN            | NAN                  | 2.13E+00       | 1.44E+01 | 1.23E+01 | -3.20E-01    | -3.03E+00 | 1.23E+01 | 3.22E+04      |\n",
       "| GX301-2    | B1.5Iaeq     | B1I                  | 9.09E-01 | 4.15E-02   | 6.80E+02       | NAN                     | 4.10E+00              | 4.30E+01             | NAN                  | NAN                  | 2.51E-01    | 1.60E-02          | 3.99E+00  | NAN            | NAN                  | 2.04E+00       | 1.27E+01 | 1.07E+01 | -2.80E-01    | -9.80E-01 | 1.07E+01 | 2.51E+04      |\n",
       "| 4U1538-52  | B0.2Ia       | B0I                  | 9.86E-01 | 3.73E-05   | 5.26E+02       | NAN                     | -1.58E+02             | 2.00E+01             | NAN                  | NAN                  | 1.28E-01    | 1.53E-02          | 7.81E+00  | NAN            | NAN                  | 1.80E+00       | 1.63E+01 | 1.45E+01 | -3.10E-01    | -2.84E+00 | 1.45E+01 | 2.95E+04      |\n",
       "| 4U1700-37  | O6Iafcp      | O6I                  | 8.08E-01 | 3.41E-06   | NAN            | NAN                     | -6.00E+01             | 4.60E+01             | NAN                  | NAN                  | 6.33E-01    | 2.59E-02          | 1.58E+00  | NAN            | NAN                  | 2.70E-01       | 6.78E+00 | 6.51E+00 | -3.30E-01    | -3.58E+00 | 6.51E+00 | 3.83E+04      |\n",
       "| 4U1907+09  | O8.5Iab      | O8I                  | 8.84E-01 | 8.38E-04   | 4.38E+02       | NAN                     | NAN                   | 2.78E+01             | NAN                  | NAN                  | 2.33E-01    | 7.31E-02          | 4.30E+00  | NAN            | NAN                  | 3.06E+00       | 1.94E+01 | 1.64E+01 | -3.20E-01    | -3.23E+00 | 1.64E+01 | 3.40E+04      |\n",
       "| LMC X-1    | O8(f)p       | O8I                  | 9.96E-01 | 3.91E+00   | NAN            | NAN                     | NAN                   | 3.18E+01             | NAN                  | NAN                  | 2.75E-02    | 1.77E-02          | 3.64E+01  | NAN            | NAN                  | 3.00E-01       | 1.48E+01 | 1.45E+01 | -3.20E-01    | -3.23E+00 | 1.45E+01 | 3.40E+04      |\n",
       "| Cyg X-1    | O9.7Iabpvar  | O9I                  | 9.67E-01 | 5.60E-04   | NAN            | NAN                     | -7.00E+00             | 4.06E+01             | NAN                  | NAN                  | 4.44E-01    | 1.49E-02          | 2.25E+00  | NAN            | NAN                  | 8.10E-01       | 9.72E+00 | 8.91E+00 | -3.20E-01    | -3.03E+00 | 8.91E+00 | 3.22E+04      |"
      ],
      "text/plain": [
       "<IPython.core.display.Markdown object>"
      ]
     },
     "execution_count": 3,
     "metadata": {},
     "output_type": "execute_result"
    }
   ],
   "source": [
    "display_df(df_hmxb)"
   ]
  },
  {
   "cell_type": "code",
   "execution_count": 4,
   "metadata": {},
   "outputs": [],
   "source": [
    "# Concatenate the dataframes along the rows (vertically)\n",
    "compare = pd.concat([df_hmxb, df_kaper], ignore_index=True)\n",
    "\n",
    "# Sort the dataframe by the 'id' column\n",
    "compare = compare.sort_values(by='id')\n",
    "\n",
    "# Reset the index to have a continuous index\n",
    "compare = compare.reset_index(drop=True)\n",
    "\n",
    "# Sort alphabetically on 'id'\n",
    "compare = compare.sort_values(by='id')"
   ]
  },
  {
   "cell_type": "code",
   "execution_count": 5,
   "metadata": {},
   "outputs": [
    {
     "data": {
      "text/markdown": [
       "| id            | Spec. Type   | Spec. Type (short)   | ruwe      | $P[days]$   | $P_{spin}[s]$   | eclipseduration[units]   | $v_{rad}[km s^{-1}]$   | $M_{ob}[M_{\\odot}]$   | $R_{ob}[R_{\\odot}]$   | $M_{x} [M_{\\odot}]$   | $p'' ['']$   | $\\delta p''['']$   | $d[kpc]$   | $d_{BJ}[kpc]$   | $L_{ob}[L_{\\odot}]$   | $(B-V)_{obs}$   | B         | V         | $(B-V)_{0}$   | $BC_{v}$   | $m_{v}$   | $T_{eff}[K]$   | spectraltype   |\n",
       "|:--------------|:-------------|:---------------------|:----------|:------------|:----------------|:-------------------------|:-----------------------|:----------------------|:----------------------|:----------------------|:-------------|:-------------------|:-----------|:----------------|:----------------------|:----------------|:----------|:----------|:--------------|:-----------|:----------|:---------------|:---------------|\n",
       "| 2S0114+650    | B1Iae        | B1I                  | 9.45E-01 | 1.57E+01   | 1.00E+04       | NAN                     | -8.00E+01             | 1.60E+01             | NAN                  | NAN                  | 1.96E-01    | 1.13E-02          | 5.09E+00  | NAN            | NAN                  | 8.50E-01       | 1.20E+01 | 1.11E+01 | -2.80E-01    | -9.80E-01 | 1.11E+01 | 2.51E+04      | NAN           |\n",
       "| 2S0114+650(K) | NAN         | NAN                 | NAN      | NAN        | 8.60E+02       | NAN                     | 3.20E+01              | 1.60E+01             | NAN                  | 1.70E+00             | NAN         | NAN               | NAN       | NAN            | NAN                  | NAN            | NAN      | NAN      | NAN          | NAN       | NAN      | NAN           | B1 Ia          |\n",
       "| 4U1538-52     | B0.2Ia       | B0I                  | 9.86E-01 | 3.73E-05   | 5.26E+02       | NAN                     | -1.58E+02             | 2.00E+01             | NAN                  | NAN                  | 1.28E-01    | 1.53E-02          | 7.81E+00  | NAN            | NAN                  | 1.80E+00       | 1.63E+01 | 1.45E+01 | -3.10E-01    | -2.84E+00 | 1.45E+01 | 2.95E+04      | NAN           |\n",
       "| 4U1538-52(K)  | NAN         | NAN                 | NAN      | NAN        | 5.29E+02       | NAN                     | 8.50E+01              | 1.64E+01             | 1.50E+01             | 1.10E+00             | NAN         | NAN               | NAN       | NAN            | NAN                  | NAN            | NAN      | NAN      | NAN          | NAN       | NAN      | NAN           | B0 Iab         |\n",
       "| 4U1700-37     | O6Iafcp      | O6I                  | 8.08E-01 | 3.41E-06   | NAN            | NAN                     | -6.00E+01             | 4.60E+01             | NAN                  | NAN                  | 6.33E-01    | 2.59E-02          | 1.58E+00  | NAN            | NAN                  | 2.70E-01       | 6.78E+00 | 6.51E+00 | -3.30E-01    | -3.58E+00 | 6.51E+00 | 3.83E+04      | NAN           |\n",
       "| 4U1700-37(K)  | NAN         | NAN                 | NAN      | NAN        | NAN            | NAN                     | 7.60E+01              | 5.20E+01             | 2.20E+01             | 1.80E+00             | NAN         | NAN               | NAN       | NAN            | NAN                  | NAN            | NAN      | NAN      | NAN          | NAN       | NAN      | NAN           | O6.5 Iaf+      |\n",
       "| 4U1907+09     | O8.5Iab      | O8I                  | 8.84E-01 | 8.38E-04   | 4.38E+02       | NAN                     | NAN                   | 2.78E+01             | NAN                  | NAN                  | 2.33E-01    | 7.31E-02          | 4.30E+00  | NAN            | NAN                  | 3.06E+00       | 1.94E+01 | 1.64E+01 | -3.20E-01    | -3.23E+00 | 1.64E+01 | 3.40E+04      | NAN           |\n",
       "| 4U1907+09(K)  | NAN         | NAN                 | NAN      | NAN        | 4.38E+02       | NAN                     | NAN                   | 9.00E+00             | NAN                  | 7.00E-01             | NAN         | NAN               | NAN       | NAN            | NAN                  | NAN            | NAN      | NAN      | NAN          | NAN       | NAN      | NAN           | early B I      |\n",
       "| Cen X-3       | O9III        | O9III                | 1.02E+00 | 2.03E+00   | 4.80E-05       | NAN                     | 3.20E+01              | 2.02E+01             | NAN                  | NAN                  | 1.39E-01    | 1.37E-02          | 7.21E+00  | NAN            | NAN                  | 2.13E+00       | 1.44E+01 | 1.23E+01 | -3.20E-01    | -3.03E+00 | 1.23E+01 | 3.22E+04      | NAN           |\n",
       "| Cen X-3(K)    | NAN         | NAN                 | NAN      | NAN        | 4.84E+00       | NAN                     | 4.20E+01              | 1.84E+01             | 1.10E+01             | 1.10E+00             | NAN         | NAN               | NAN       | NAN            | NAN                  | NAN            | NAN      | NAN      | NAN          | NAN       | NAN      | NAN           | O6.5 II-III    |\n",
       "| Cyg X-1       | O9.7Iabpvar  | O9I                  | 9.67E-01 | 5.60E-04   | NAN            | NAN                     | -7.00E+00             | 4.06E+01             | NAN                  | NAN                  | 4.44E-01    | 1.49E-02          | 2.25E+00  | NAN            | NAN                  | 8.10E-01       | 9.72E+00 | 8.91E+00 | -3.20E-01    | -3.03E+00 | 8.91E+00 | 3.22E+04      | NAN           |\n",
       "| Cyg X-1(K)    | NAN         | NAN                 | NAN      | NAN        | NAN            | NAN                     | 2.00E+01              | 1.78E+01             | NAN                  | 1.00E+01             | NAN         | NAN               | NAN       | NAN            | NAN                  | NAN            | NAN      | NAN      | NAN          | NAN       | NAN      | NAN           | O9.7 Iab       |\n",
       "| GX301-2       | B1.5Iaeq     | B1I                  | 9.09E-01 | 4.15E-02   | 6.80E+02       | NAN                     | 4.10E+00              | 4.30E+01             | NAN                  | NAN                  | 2.51E-01    | 1.60E-02          | 3.99E+00  | NAN            | NAN                  | 2.04E+00       | 1.27E+01 | 1.07E+01 | -2.80E-01    | -9.80E-01 | 1.07E+01 | 2.51E+04      | NAN           |\n",
       "| GX301-2(K)    | NAN         | NAN                 | NAN      | NAN        | 6.96E+02       | NAN                     | 5.00E+00              | 4.00E+01             | NAN                  | 1.30E+00             | NAN         | NAN               | NAN       | NAN            | NAN                  | NAN            | NAN      | NAN      | NAN          | NAN       | NAN      | NAN           | B1.5 Ia+       |\n",
       "| LMC X-1       | O8(f)p       | O8I                  | 9.96E-01 | 3.91E+00   | NAN            | NAN                     | NAN                   | 3.18E+01             | NAN                  | NAN                  | 2.75E-02    | 1.77E-02          | 3.64E+01  | NAN            | NAN                  | 3.00E-01       | 1.48E+01 | 1.45E+01 | -3.20E-01    | -3.23E+00 | 1.45E+01 | 3.40E+04      | NAN           |\n",
       "| LMC X-1(K)    | NAN         | NAN                 | NAN      | NAN        | NAN            | NAN                     | NAN                   | NAN                  | NAN                  | 7.00E+00             | NAN         | NAN               | NAN       | NAN            | NAN                  | NAN            | NAN      | NAN      | NAN          | NAN       | NAN      | NAN           | O7-9 III       |\n",
       "| LMC X-4       | O8III        | O8III                | 1.01E+00 | 1.40E+00   | 1.35E+01       | NAN                     | NAN                   | NAN                  | NAN                  | NAN                  | 4.44E-03    | 2.18E-02          | 2.25E+02  | NAN            | NAN                  | -1.00E-01      | 1.39E+01 | 1.40E+01 | -3.20E-01    | -3.23E+00 | 1.40E+01 | 3.40E+04      | NAN           |\n",
       "| LMC X-4(K)    | NAN         | NAN                 | NAN      | NAN        | 1.35E+01       | NAN                     | NAN                   | 1.58E+01             | 8.00E+00             | 1.50E+00             | NAN         | NAN               | NAN       | NAN            | NAN                  | NAN            | NAN      | NAN      | NAN          | NAN       | NAN      | NAN           | O7 III-IV      |\n",
       "| SMC X-1       | O9.7Ia+      | O9I                  | 1.00E+00 | NAN        | NAN            | NAN                     | NAN                   | NAN                  | NAN                  | NAN                  | 3.99E-03    | 2.48E-02          | 2.51E+02  | NAN            | NAN                  | -1.50E-01      | 1.30E+01 | 1.32E+01 | -3.20E-01    | -3.03E+00 | 1.32E+01 | 3.22E+04      | NAN           |\n",
       "| SMC X-1(K)    | NAN         | NAN                 | NAN      | NAN        | 7.10E-01       | NAN                     | NAN                   | 1.72E+01             | 1.50E+01             | 1.60E+00             | NAN         | NAN               | NAN       | NAN            | NAN                  | NAN            | NAN      | NAN      | NAN          | NAN       | NAN      | NAN           | B0 Ib          |\n",
       "| Vela X-1      | B0.5Ia       | B0I                  | 8.80E-01 | 8.96E-04   | 2.83E+02       | NAN                     | -3.20E+00             | 2.60E+01             | NAN                  | NAN                  | 4.96E-01    | 1.52E-02          | 2.02E+00  | NAN            | NAN                  | 5.00E-01       | 7.37E+00 | 6.87E+00 | -3.10E-01    | -2.84E+00 | 6.87E+00 | 2.95E+04      | NAN           |\n",
       "| Vela X-1(K)   | NAN         | NAN                 | NAN      | NAN        | 2.83E+02       | NAN                     | 3.50E+01              | 2.39E+01             | 3.00E+01             | 1.90E+00             | NAN         | NAN               | NAN       | NAN            | NAN                  | NAN            | NAN      | NAN      | NAN          | NAN       | NAN      | NAN           | B0.5 Ib        |"
      ],
      "text/plain": [
       "<IPython.core.display.Markdown object>"
      ]
     },
     "execution_count": 5,
     "metadata": {},
     "output_type": "execute_result"
    }
   ],
   "source": [
    "display_df(compare)"
   ]
  },
  {
   "cell_type": "markdown",
   "metadata": {},
   "source": [
    "### Stellar params"
   ]
  },
  {
   "cell_type": "code",
   "execution_count": 6,
   "metadata": {},
   "outputs": [
    {
     "data": {
      "text/markdown": [
       "| Spec. Type   |   $T_{eff}[K]$ |   log(g_spec) |     Mv |   $BC_{v}$ |   log(L/Lsun) |      R |   M_spec |   logq0 |   logq1 |   logQ0 |   logQ1 |\n",
       "|:-------------|---------------:|--------------:|-------:|-----------:|--------------:|-------:|---------:|--------:|--------:|--------:|--------:|\n",
       "| O3V          |          44852 |          3.92 |  -5.79 |      -4.05 |          5.84 |  13.8  |    57.95 |   24.57 |   23.98 |   49.64 |   49.04 |\n",
       "| O4V          |          42857 |          3.92 |  -5.5  |      -3.91 |          5.67 |  12.42 |    46.94 |   24.47 |   23.82 |   49.44 |   48.79 |\n",
       "| O5V          |          40862 |          3.92 |  -5.21 |      -3.77 |          5.49 |  11.2  |    38.08 |   24.34 |   23.66 |   49.22 |   48.54 |\n",
       "| O5.5V        |          39865 |          3.92 |  -5.07 |      -3.7  |          5.41 |  10.64 |    34.39 |   24.27 |   23.57 |   49.1  |   48.41 |\n",
       "| O6V          |          38867 |          3.92 |  -4.92 |      -3.62 |          5.32 |  10.11 |    30.98 |   24.2  |   23.46 |   48.99 |   48.26 |\n",
       "| O6.5V        |          37870 |          3.92 |  -4.77 |      -3.55 |          5.23 |   9.61 |    28    |   24.13 |   23.34 |   48.88 |   48.09 |\n",
       "| O7V          |          36872 |          3.92 |  -4.63 |      -3.47 |          5.14 |   9.15 |    25.29 |   24.04 |   23.17 |   48.75 |   47.88 |\n",
       "| O7.5V        |          35874 |          3.92 |  -4.48 |      -3.39 |          5.05 |   8.7  |    22.9  |   23.94 |   22.98 |   48.61 |   47.64 |\n",
       "| O8V          |          34877 |          3.92 |  -4.34 |      -3.3  |          4.96 |   8.29 |    20.76 |   23.82 |   22.68 |   48.44 |   47.3  |\n",
       "| O8.5V        |          33879 |          3.92 |  -4.19 |      -3.22 |          4.86 |   7.9  |    18.8  |   23.69 |   22.23 |   48.27 |   46.81 |\n",
       "| O9V          |          32882 |          3.92 |  -4.05 |      -3.13 |          4.77 |   7.53 |    17.08 |   23.52 |   21.69 |   48.06 |   46.22 |\n",
       "| O9.5V        |          31884 |          3.92 |  -3.9  |      -3.04 |          4.68 |   7.18 |    15.55 |   23.39 |   21.31 |   47.88 |   45.8  |\n",
       "| O3III        |          44537 |          3.77 |  -6.13 |      -4.03 |          5.96 |  16.19 |    55.95 |   24.57 |   23.94 |   49.77 |   49.14 |\n",
       "| O4III        |          42422 |          3.73 |  -5.98 |      -3.88 |          5.85 |  15.61 |    47.43 |   24.47 |   23.78 |   49.64 |   48.95 |\n",
       "| O5III        |          40307 |          3.69 |  -5.84 |      -3.73 |          5.73 |  15.07 |    40.43 |   24.34 |   23.61 |   49.48 |   48.75 |\n",
       "| O5.5III      |          39249 |          3.67 |  -5.76 |      -3.65 |          5.67 |  14.82 |    37.35 |   24.28 |   23.51 |   49.4  |   48.63 |\n",
       "| O6III        |          38192 |          3.65 |  -5.69 |      -3.57 |          5.61 |  14.58 |    34.53 |   24.21 |   23.41 |   49.32 |   48.52 |\n",
       "| O6.5III      |          37134 |          3.63 |  -5.62 |      -3.49 |          5.54 |  14.36 |    31.96 |   24.13 |   23.28 |   49.23 |   48.38 |\n",
       "| O7III        |          36077 |          3.61 |  -5.54 |      -3.4  |          5.48 |  14.14 |    29.59 |   24.04 |   23.16 |   49.13 |   48.24 |\n",
       "| O7.5III      |          35019 |          3.59 |  -5.47 |      -3.32 |          5.42 |  13.93 |    27.45 |   23.94 |   22.96 |   49.01 |   48.03 |\n",
       "| O8III        |          33961 |          3.57 |  -5.4  |      -3.23 |          5.35 |  13.74 |    25.49 |   23.82 |   22.68 |   48.88 |   47.74 |\n",
       "| O8.5III      |          32904 |          3.55 |  -5.32 |      -3.13 |          5.28 |  13.55 |    23.68 |   23.7  |   22.32 |   48.75 |   47.37 |\n",
       "| O9III        |          31846 |          3.53 |  -5.25 |      -3.04 |          5.21 |  13.38 |    22.04 |   23.61 |   22.02 |   48.65 |   47.06 |\n",
       "| O9.5III      |          30789 |          3.51 |  -5.18 |      -2.94 |          5.15 |  13.22 |    20.55 |   23.39 |   21.5  |   48.42 |   46.53 |\n",
       "| O3I          |          42233 |          3.73 |  -6.35 |      -3.87 |          5.99 |  18.56 |    67.53 |   24.46 |   23.77 |   49.78 |   49.09 |\n",
       "| O4I          |          40422 |          3.65 |  -6.34 |      -3.74 |          5.93 |  18.99 |    58.54 |   24.36 |   23.62 |   49.7  |   48.96 |\n",
       "| O5I          |          38612 |          3.57 |  -6.33 |      -3.61 |          5.87 |  19.45 |    50.72 |   24.25 |   23.46 |   49.62 |   48.82 |\n",
       "| O5.5I        |          37706 |          3.52 |  -6.33 |      -3.54 |          5.84 |  19.7  |    47.25 |   24.2  |   23.38 |   49.58 |   48.76 |\n",
       "| O6I          |          36801 |          3.48 |  -6.32 |      -3.46 |          5.81 |  19.95 |    44.1  |   24.14 |   23.29 |   49.52 |   48.67 |\n",
       "| O6.5I        |          35895 |          3.44 |  -6.31 |      -3.39 |          5.78 |  20.22 |    41.2  |   24.07 |   23.18 |   49.46 |   48.58 |\n",
       "| O7I          |          34990 |          3.4  |  -6.31 |      -3.31 |          5.75 |  20.49 |    38.44 |   24    |   23.06 |   49.41 |   48.47 |\n",
       "| O7.5I        |          34084 |          3.36 |  -6.3  |      -3.24 |          5.72 |  20.79 |    36    |   23.89 |   22.89 |   49.31 |   48.31 |\n",
       "| O8I          |          33179 |          3.32 |  -6.3  |      -3.16 |          5.68 |  21.1  |    33.72 |   23.81 |   22.7  |   49.25 |   48.14 |\n",
       "| O8.5I        |          32274 |          3.28 |  -6.29 |      -3.08 |          5.65 |  21.41 |    31.54 |   23.74 |   22.56 |   49.19 |   48    |\n",
       "| O9I          |          31368 |          3.23 |  -6.29 |      -2.99 |          5.61 |  21.76 |    29.63 |   23.65 |   22.21 |   49.11 |   47.67 |\n",
       "| O9.5I        |          30463 |          3.19 |  -6.28 |      -2.91 |          5.57 |  22.11 |    27.83 |   23.52 |   21.87 |   49    |   47.35 |\n",
       "| B0I          |          29558 |        nan    | nan    |     nan    |          5.54 | nan    |   nan    |  nan    |  nan    |  nan    |  nan    |\n",
       "| B1I          |          28653 |        nan    | nan    |     nan    |          5.47 | nan    |   nan    |  nan    |  nan    |  nan    |  nan    |\n",
       "| B0III        |          29731 |        nan    | nan    |     nan    |          5.07 | nan    |   nan    |  nan    |  nan    |  nan    |  nan    |\n",
       "| B1III        |          28674 |        nan    | nan    |     nan    |          4.93 | nan    |   nan    |  nan    |  nan    |  nan    |  nan    |\n",
       "| B0V          |          30887 |        nan    | nan    |     nan    |          4.59 | nan    |   nan    |  nan    |  nan    |  nan    |  nan    |\n",
       "| B1V          |          29889 |        nan    | nan    |     nan    |          4.41 | nan    |   nan    |  nan    |  nan    |  nan    |  nan    |"
      ],
      "text/plain": [
       "<IPython.core.display.Markdown object>"
      ]
     },
     "execution_count": 6,
     "metadata": {},
     "output_type": "execute_result"
    }
   ],
   "source": [
    "display_df(df_stellar_params, scientific_notation=False)"
   ]
  }
 ],
 "metadata": {
  "kernelspec": {
   "display_name": "Python 3",
   "language": "python",
   "name": "python3"
  },
  "language_info": {
   "codemirror_mode": {
    "name": "ipython",
    "version": 3
   },
   "file_extension": ".py",
   "mimetype": "text/x-python",
   "name": "python",
   "nbconvert_exporter": "python",
   "pygments_lexer": "ipython3",
   "version": "3.9.18"
  },
  "orig_nbformat": 4
 },
 "nbformat": 4,
 "nbformat_minor": 2
}
