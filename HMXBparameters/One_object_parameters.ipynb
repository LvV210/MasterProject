{
 "cells": [
  {
   "cell_type": "markdown",
   "metadata": {},
   "source": [
    "# All parameters of 1 object"
   ]
  },
  {
   "cell_type": "code",
   "execution_count": 1,
   "metadata": {},
   "outputs": [],
   "source": [
    "import sys\n",
    "sys.path.append('/mnt/c/Users/luukv/Documenten/NatuurSterrkenkundeMasterProject/CodeMP/MasterProject')\n",
    "\n",
    "import pandas as pd\n",
    "from import_data import falenga_table7"
   ]
  },
  {
   "cell_type": "markdown",
   "metadata": {},
   "source": [
    "Import dataframe with all parameters"
   ]
  },
  {
   "cell_type": "code",
   "execution_count": 2,
   "metadata": {},
   "outputs": [],
   "source": [
    "df_AllParams = pd.read_csv(\"../tables/results/ALLPARAMETERS.csv\")"
   ]
  },
  {
   "cell_type": "markdown",
   "metadata": {},
   "source": [
    "Get all parameters of the given object"
   ]
  },
  {
   "cell_type": "code",
   "execution_count": 3,
   "metadata": {},
   "outputs": [],
   "source": [
    "object_name = 'Vela X-1'\n",
    "params = df_AllParams.loc[df_AllParams.id == object_name]"
   ]
  },
  {
   "cell_type": "code",
   "execution_count": 4,
   "metadata": {},
   "outputs": [
    {
     "data": {
      "text/plain": [
       "Index(['Unnamed: 0', 'id', 'ST', 'ST_ref', 'ruwe', 'J', 'H', 'K', 'JHK_ref',\n",
       "       'JHK_err', 'semi_eclipse_angle', 'semi_eclipse_angle _err', 'a',\n",
       "       'a_err', 'i', 'i_err', 'Mopt', 'Mopt_err', 'Ropt', 'Ropt_err',\n",
       "       'P_orbit', 'P_spin', 'RL/a', 'RL/a_err', 'Mx', 'Mx_err', 'source_id',\n",
       "       'ra', 'ra_error', 'dec_error', 'dec', 'r_med_geo', 'r_lo_geo',\n",
       "       'r_hi_geo', 'r_med_photogeo', 'r_lo_photogeo', 'r_hi_photogeo', 'flag',\n",
       "       'L_true', 'L_true_err_low', 'L_true_err_high', 'logL_true/L_sun',\n",
       "       'logL_true/L_sun_err_high', 'logL_true/L_sun_err_low', 'Teff',\n",
       "       'Teff_err', 'logTeff', 'logTeff_err', 'L_ST', 'L_ST_err', 'R_true',\n",
       "       'R_true_err', 'R_expected', 'R_expected_err_high', 'R_expected_err_low',\n",
       "       'R_ST', 'R_ST_err', 'R_expected/R_true', 'R_expected/R_true_err_high',\n",
       "       'R_expected/R_true_err_low', 'M_exp', 'M_HRD', 'M_exp_err',\n",
       "       'M_opt/M_exp', 'M_ST', 'M_ST_err', 'M_opt/M_exp_err', 'Kx', 'Kopt', 'q',\n",
       "       'Ohmega', 'Mns', 'Kx_err', 'Kopt_err', 'q_err', 'Ohmega_err', 'Mns_err',\n",
       "       'RL_fal', 'RL_fal_err', 'RL_q', 'RL_q_err', 'RL_g', 'RL_g_err',\n",
       "       'RL_fal/R_true', 'RL_fal/R_true_err', 'R_true/RL_fal',\n",
       "       'R_true/RL_fal_err', 'RL_q/R_true', 'RL_q/R_true_err', 'RL_g/R_true',\n",
       "       'RL_g/R_true_err', 'X_rayFlux_SWIFTXRT', 'SWIFTXRT_range', 'SWIFT_id',\n",
       "       'L_x'],\n",
       "      dtype='object')"
      ]
     },
     "execution_count": 4,
     "metadata": {},
     "output_type": "execute_result"
    }
   ],
   "source": [
    "params.columns"
   ]
  },
  {
   "cell_type": "markdown",
   "metadata": {},
   "source": [
    "NOTES:\n",
    "- M_opt = Mopt: Both are the masses from falenga"
   ]
  },
  {
   "cell_type": "code",
   "execution_count": 5,
   "metadata": {},
   "outputs": [],
   "source": [
    "def write_to_markdown(filename, content):\n",
    "    \"\"\"\n",
    "    Writes the given string to a markdown file at the given PATH\n",
    "\n",
    "    Args:\n",
    "        filename (_type_): _description_\n",
    "        content (_type_): _description_\n",
    "    \"\"\"\n",
    "    # Open the Markdown file in write mode\n",
    "    with open(filename, 'w') as markdown_file:\n",
    "        # Write Markdown-formatted content to the file\n",
    "        markdown_file.write(content)\n",
    "\n",
    "\n",
    "\n",
    "def object_name_to_save_name(input_string):\n",
    "    # Replace every '-' with '_'\n",
    "    modified_string = input_string.replace('-', '_')\n",
    "    \n",
    "    # Remove space before capital 'X'\n",
    "    modified_string = modified_string.replace(' ', '')\n",
    "\n",
    "    return modified_string\n",
    "\n",
    "def strip(input):\n",
    "    return input.reset_index(drop=True).loc[0]"
   ]
  },
  {
   "cell_type": "code",
   "execution_count": 6,
   "metadata": {},
   "outputs": [],
   "source": [
    "# Define file path\n",
    "object_save_name = object_name_to_save_name(object_name)\n",
    "file_path = f'/mnt/c/Users/luukv/Documenten/NatuurSterrkenkundeMasterProject/CodeMP/MasterProject/HMXBparameters/OneObjectParams/{object_save_name}.md'\n",
    "\n",
    "N = 2\n",
    "\n",
    "pm = r'$\\pm$'\n",
    "Ms = r'$M_{\\odot}$'\n",
    "Ls = r'$L_{\\odot}$'\n",
    "Rs = r'$R_{\\odot}$'\n",
    "delta = r'$\\delta$'\n",
    "_eff = r'$_{eff}$'\n",
    "ergs = r'$erg$ $s^{-1}$'\n",
    "\n",
    "# Distance\n",
    "distance = f\"${strip(params['r_med_photogeo'])}_\"+ '{' + f\"{strip(params['r_lo_photogeo'])}\" + '}^{' + f\"{strip(params['r_hi_photogeo'])}\" + '}$'\n",
    "luminosity = f\"${round(strip(params['L_true']), N)}_\"+ '{' + f\"{round(strip(params['L_true_err_low']), N)}\" + '}^{' + f\"{round(strip(params['L_true_err_high']), N)}\" + '}$'\n",
    "R_eff = f\"${strip(params['R_expected'])}_\"+ '{' + f\"{strip(params['R_expected_err_low'])}\" + '}^{' + f\"{strip(params['R_expected_err_high'])}\" + '}$'\n",
    "markdown_content = f\"\"\"\n",
    "## {object_name} parameters\n",
    "\n",
    "### **Binary System**\n",
    "- Object name:          {object_name}\n",
    "- Distance(kpc):        {distance}  ([[BailerJones2021.pdf]])\n",
    "\n",
    "\n",
    "### **Coordinates**\n",
    "- RA(deg):          {strip(params['ra'])} {pm} {strip(params['ra_error'])}\n",
    "- DE(deg):          {strip(params['dec'])} {pm} {strip(params['dec_error'])}\n",
    "\n",
    "\n",
    "### **Optical counterpart**\n",
    "- GAIA DR3 name:        {strip(params['source_id'])}\n",
    "- Spectral Type:        {strip(params['ST'])}   (Source: {strip(params['ST_ref'])})\n",
    "\n",
    "- J(mag):           {strip(params['J'])}\n",
    "- H(mag):           {strip(params['H'])}\n",
    "- K(mag):           {strip(params['K'])}\n",
    "- JHKerr(mag):      {strip(params['JHK_err'])}\n",
    "- JHKref:           [[2MASS]]\n",
    "\n",
    "- Teff(K):          {strip(params['Teff'])} {pm} {strip(params['Teff_err'])} [[Martins2005a.pdf]]\n",
    "- Teff(K):          TODO [[Model Fitting]]\n",
    "\n",
    "- Mass({Ms}):               {strip(params['Mopt'])} {pm} {strip(params['Mopt_err'])} [[Falenga2015.pdf]]\n",
    "- Mass BONNSAI({Ms}):       {strip(params['M_exp'])} {pm} {strip(params['M_exp_err'])} [[BONNSAI models]]\n",
    "- Mass HRD({Ms})            {strip(params['M_HRD'])}\n",
    "\n",
    "- Luminosity({Ls}):         {luminosity} [[Luminosity]]\n",
    "- L X-ray({ergs}):          {strip(params['L_x'])}\n",
    "\n",
    "- Radius({Rs}):                 {strip(params['Ropt'])} [[Falenga2015.pdf]]\n",
    "- Radius{_eff}({Rs}):           {R_eff} [[Radius]]\n",
    "- Roche-lobe Radius({Rs})       {strip(params['RL_fal'])} {pm} {strip(params['RL_fal_err'])} [[Falenga2015.pdf]] [[Radius]]\n",
    "\n",
    "\n",
    "### **Compact object**\n",
    "- Radius({Rs}):             TODO\n",
    "- Mass ({Ms}):              {strip(params['Mns'])} {pm} {strip(params['Mns_err'])} [[Falenga2015.pdf]]\n",
    "- Orbital period[d]:        {strip(params['P_orbit'])}\n",
    "- Spin period[s]            {strip(params['P_spin'])}\n",
    "\"\"\"\n",
    "write_to_markdown(file_path, markdown_content)"
   ]
  }
 ],
 "metadata": {
  "kernelspec": {
   "display_name": "astronomy",
   "language": "python",
   "name": "astronomy"
  },
  "language_info": {
   "codemirror_mode": {
    "name": "ipython",
    "version": 3
   },
   "file_extension": ".py",
   "mimetype": "text/x-python",
   "name": "python",
   "nbconvert_exporter": "python",
   "pygments_lexer": "ipython3",
   "version": "3.9.18"
  }
 },
 "nbformat": 4,
 "nbformat_minor": 2
}
