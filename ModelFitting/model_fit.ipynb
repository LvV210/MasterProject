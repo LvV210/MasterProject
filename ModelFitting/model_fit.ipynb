{
 "cells": [
  {
   "cell_type": "markdown",
   "metadata": {},
   "source": [
    "# Model fitting. Determine Teff and log(g)."
   ]
  },
  {
   "cell_type": "code",
   "execution_count": 17,
   "metadata": {},
   "outputs": [],
   "source": [
    "%matplotlib qt"
   ]
  },
  {
   "cell_type": "code",
   "execution_count": 2,
   "metadata": {},
   "outputs": [],
   "source": [
    "import sys\n",
    "sys.path.append('/mnt/c/Users/luukv/Documenten/NatuurSterrkenkundeMasterProject/CodeMP/MasterProject')\n",
    "\n",
    "import numpy as np\n",
    "import matplotlib.pyplot as plt\n",
    "import os\n",
    "import re\n",
    "from scipy.interpolate import CubicSpline\n",
    "from PyAstronomy import pyasl\n",
    "\n",
    "from import_data import BailerJones\n",
    "from model_functions import *\n",
    "from functions import import_spectra, extract_spectrum_within_range"
   ]
  },
  {
   "cell_type": "markdown",
   "metadata": {},
   "source": [
    "Import models and spectrum (~21 seconds)"
   ]
  },
  {
   "cell_type": "code",
   "execution_count": 3,
   "metadata": {},
   "outputs": [],
   "source": [
    "# Import models for given galaxy\n",
    "models = import_models('Milkyway')\n",
    "# Import spectrum of given object\n",
    "spectra = import_spectra('4U1538_52')\n",
    "\n",
    "# Name of object\n",
    "object_name = '4U1538-52'\n",
    "# Distance to object\n",
    "distance = BailerJones().loc[BailerJones().id == object_name]['r_med_photogeo'].reset_index(drop=True).at[0]"
   ]
  },
  {
   "cell_type": "code",
   "execution_count": 4,
   "metadata": {},
   "outputs": [],
   "source": [
    "filtered_models = models_in_interval(models, 30000, 35000, 3.0, 3.2)"
   ]
  },
  {
   "cell_type": "markdown",
   "metadata": {},
   "source": [
    "### Perform $\\chi^{2}$ fit for the $H\\gamma$ (4340.26 $\\AA$) for 4U1538-52\n",
    "Crop the $H\\gamma$ line"
   ]
  },
  {
   "cell_type": "code",
   "execution_count": 5,
   "metadata": {},
   "outputs": [],
   "source": [
    "# Central wavelength of the line\n",
    "line_wav = 4340.26 # Angstrom\n",
    "# Range around the line\n",
    "delta = 10\n",
    "# Define a doppler shift\n",
    "doppler = 2.3"
   ]
  },
  {
   "cell_type": "markdown",
   "metadata": {},
   "source": [
    "Define the continuum and the spectral line"
   ]
  },
  {
   "cell_type": "code",
   "execution_count": 6,
   "metadata": {},
   "outputs": [],
   "source": [
    "# Define the spectral line wavelenght range.\n",
    "line_left = 4335 + doppler\n",
    "line_right = 4341 + doppler\n",
    "\n",
    "def extract_continuum(wavelengths: np.array, flux: np.array, start: float, end: float, line_left: float, line_right: float)->tuple:\n",
    "    \"\"\"\n",
    "    Extract continuum from spectrum\n",
    "\n",
    "    Args:\n",
    "        wavelengths (np.array): List with wavelength\n",
    "        flux (np.array): List with flux\n",
    "        start (float): Start of spectrum\n",
    "        end (float): End of spectrum\n",
    "        line_left (float): Start spectral line\n",
    "        line_right (float): End spectral line\n",
    "\n",
    "    Returns:\n",
    "        tuple: (Wavelength, Flux)\n",
    "    \"\"\"\n",
    "    # Find indices corresponding to the specified wavelength range\n",
    "    indices_left = np.where((wavelengths >= start) & (wavelengths <= line_left))[0]\n",
    "    indices_right = np.where((wavelengths >= line_right) & (wavelengths <= end))[0]\n",
    "    indices = np.concatenate((indices_left, indices_right))\n",
    "\n",
    "    # Extract wavelength and flux values within the range\n",
    "    extracted_wavelengths = wavelengths[indices]\n",
    "    extracted_flux = flux[indices]\n",
    "\n",
    "    return extracted_wavelengths, extracted_flux\n",
    "\n",
    "# Get the spectrum (ADD A DOPPLERSHIFT)\n",
    "wav = spectra[0][0] + doppler\n",
    "flux = spectra[0][1]\n",
    "\n",
    "# Get the continuum around the line\n",
    "wav_cont, flux_cont = extract_continuum(wav, flux, line_wav-delta, line_wav+delta, line_left, line_right)\n",
    "# Get the line\n",
    "wav_line, flux_line = extract_spectrum_within_range(wav, flux, line_left, line_right)\n",
    "# Get the whole range\n",
    "wav_all, flux_all = extract_spectrum_within_range(wav, flux, line_wav-delta, line_wav+delta)\n",
    "\n",
    "# Linear fit to continuum\n",
    "p1 = np.poly1d(np.polyfit(wav_cont, flux_cont, 1))\n",
    "\n",
    "# Plot\n",
    "plt.plot(wav_all, flux_all)\n",
    "for model in filtered_models.values():\n",
    "    wav, flux = extract_spectrum_within_range(np.array(model['WAVELENGTH']), np.array(model['FLUX']), line_wav-delta, line_wav+delta)\n",
    "    plt.plot(wav,flux)\n",
    "\n",
    "plt.plot(wav_all, flux_all)\n",
    "plt.plot(wav_cont, flux_cont)\n",
    "plt.plot(wav_all, p1(wav_all), color='orange')\n",
    "plt.show()"
   ]
  },
  {
   "cell_type": "markdown",
   "metadata": {},
   "source": [
    "Normalize line with linear fit."
   ]
  },
  {
   "cell_type": "code",
   "execution_count": 7,
   "metadata": {},
   "outputs": [],
   "source": [
    "# Normalize line\n",
    "flux_line_norm = flux_line / p1(wav_line)\n",
    "plt.plot(wav_line, flux_line_norm)\n",
    "for model in filtered_models.values():\n",
    "    wav, flux = extract_spectrum_within_range(np.array(model['WAVELENGTH']), np.array(model['FLUX']), line_wav-delta, line_wav+delta)\n",
    "    plt.plot(wav,flux)\n",
    "plt.show()"
   ]
  },
  {
   "cell_type": "markdown",
   "metadata": {},
   "source": [
    "Perform $\\chi^{2}$ fit for all models."
   ]
  },
  {
   "cell_type": "code",
   "execution_count": 8,
   "metadata": {},
   "outputs": [
    {
     "data": {
      "text/plain": [
       "0.9844657956096715"
      ]
     },
     "execution_count": 8,
     "metadata": {},
     "output_type": "execute_result"
    }
   ],
   "source": [
    "# Signal to noise ratio\n",
    "SNR = 9\n",
    "\n",
    "def chi_squared(wav_model, flux_model, wav_line, flux_line, SNR):\n",
    "\n",
    "    # Get the flux for every wavelenght of the data.\n",
    "    # Create a CubicSpline object\n",
    "    cubic_spline = CubicSpline(wav_model, flux_model)\n",
    "\n",
    "    # Interpolate intensity at the desired wavelengths\n",
    "    flux_model_inter = cubic_spline(wav_line)\n",
    "\n",
    "    # Calculate chi-squared\n",
    "    chi2 = 0\n",
    "    for i in range(len(flux_line)):\n",
    "        chi2 += ( (flux_model_inter[i] - flux_line[i]) / (1 / SNR) ) ** 2\n",
    "    chi2 /= len(wav_line)\n",
    "\n",
    "    return chi2\n",
    "\n",
    "chi_squared(wav, flux, wav_line, flux_line_norm, SNR)"
   ]
  },
  {
   "cell_type": "code",
   "execution_count": 9,
   "metadata": {},
   "outputs": [],
   "source": [
    "chi2 = {}\n",
    "for key, model in models.items():\n",
    "    # Extract the line from the model\n",
    "    wav, flux = extract_spectrum_within_range(np.array(model['WAVELENGTH']), np.array(model['FLUX']), line_wav-delta, line_wav+delta)\n",
    "\n",
    "    # Calculate chi-squared for model\n",
    "    chi2[key] = chi_squared(wav, flux, wav_line, flux_line_norm, SNR)"
   ]
  },
  {
   "cell_type": "code",
   "execution_count": 10,
   "metadata": {},
   "outputs": [
    {
     "name": "stdout",
     "output_type": "stream",
     "text": [
      "The minimum chi-squared: 0.7211039654629444\n",
      "This is for model: T38000logg3.6\n"
     ]
    }
   ],
   "source": [
    "print(f\"The minimum chi-squared: {chi2[min(chi2, key=chi2.get)]}\")\n",
    "print(f\"This is for model: {min(chi2, key=chi2.get)}\")"
   ]
  },
  {
   "cell_type": "code",
   "execution_count": 11,
   "metadata": {},
   "outputs": [],
   "source": [
    "plt.plot(chi2.values())\n",
    "plt.ylabel(r'$\\chi^{2}$', size=20)\n",
    "plt.show()"
   ]
  },
  {
   "cell_type": "code",
   "execution_count": 23,
   "metadata": {},
   "outputs": [],
   "source": [
    "wav, flux = extract_spectrum_within_range(np.array(models['T38000logg3.6']['WAVELENGTH']), np.array(models['T38000logg3.6']['FLUX']), line_wav-delta, line_wav+delta)\n",
    "plt.scatter(wav, flux, color='orange')\n",
    "plt.plot(wav_line, flux_line_norm)\n",
    "plt.show()"
   ]
  },
  {
   "cell_type": "markdown",
   "metadata": {},
   "source": [
    "Apply dopplerbroadening"
   ]
  },
  {
   "cell_type": "code",
   "execution_count": 13,
   "metadata": {},
   "outputs": [],
   "source": [
    "# PyAstronomy requires equal spacings between the wavelength intervals\n",
    "# PyAstronomy provides a packege for this.\n",
    "w2, f2 = pyasl.equidistantInterpolation(wav, flux, 0.01)\n",
    "\n",
    "# Obtain the broadened spectrum using\n",
    "# vsini = 13.3 km/s and no limb-darkening\n",
    "rflux = pyasl.rotBroad(w2, f2, 0.0, 200)\n",
    "\n",
    "plt.plot(w2, rflux, label='Broadened')\n",
    "plt.plot(wav, flux, label='original')\n",
    "plt.plot(w2, f2, label='interpolated')\n",
    "plt.legend()\n",
    "plt.show()"
   ]
  },
  {
   "cell_type": "markdown",
   "metadata": {},
   "source": [
    "Calculate $\\chi^{2}$ with doppler broadening applied."
   ]
  },
  {
   "cell_type": "code",
   "execution_count": 25,
   "metadata": {},
   "outputs": [],
   "source": [
    "chi2 = {}\n",
    "for key, model in models.items():\n",
    "    # Extract the line from the model\n",
    "    wav, flux = extract_spectrum_within_range(np.array(model['WAVELENGTH']), np.array(model['FLUX']), line_wav-delta, line_wav+delta)\n",
    "\n",
    "    # Apply doppler broadening\n",
    "    w2, f2 = pyasl.equidistantInterpolation(wav, flux, \"2x\")\n",
    "\n",
    "    # Obtain the broadened spectrum using\n",
    "    rflux = pyasl.rotBroad(w2, f2, 0.0, 180)\n",
    "\n",
    "    # Calculate chi-squared for model\n",
    "    chi2[key] = chi_squared(w2, rflux, wav_line, flux_line_norm, SNR)"
   ]
  },
  {
   "cell_type": "code",
   "execution_count": 28,
   "metadata": {},
   "outputs": [
    {
     "name": "stdout",
     "output_type": "stream",
     "text": [
      "The minimum chi-squared: 0.4834778307644931\n",
      "This is for model: T26000logg2.8\n"
     ]
    }
   ],
   "source": [
    "print(f\"The minimum chi-squared: {chi2[min(chi2, key=chi2.get)]}\")\n",
    "print(f\"This is for model: {min(chi2, key=chi2.get)}\")\n",
    "\n",
    "plt.plot(chi2.values())\n",
    "plt.ylabel(r'$\\chi^{2}$', size=20)\n",
    "plt.show()"
   ]
  },
  {
   "cell_type": "code",
   "execution_count": 27,
   "metadata": {},
   "outputs": [],
   "source": [
    "wav, flux = extract_spectrum_within_range(np.array(models['T26000logg2.8']['WAVELENGTH']), np.array(models['T26000logg2.8']['FLUX']), line_wav-delta, line_wav+delta)\n",
    "\n",
    "# Apply doppler broadening\n",
    "w2, f2 = pyasl.equidistantInterpolation(wav, flux, \"2x\")\n",
    "\n",
    "# Obtain the broadened spectrum using\n",
    "rflux = pyasl.rotBroad(w2, f2, 0.0, 180)\n",
    "\n",
    "plt.plot(wav_line, flux_line_norm, color='blue')\n",
    "plt.plot(w2, rflux, color='orange')\n",
    "plt.show()"
   ]
  }
 ],
 "metadata": {
  "kernelspec": {
   "display_name": "astronomy",
   "language": "python",
   "name": "astronomy"
  },
  "language_info": {
   "codemirror_mode": {
    "name": "ipython",
    "version": 3
   },
   "file_extension": ".py",
   "mimetype": "text/x-python",
   "name": "python",
   "nbconvert_exporter": "python",
   "pygments_lexer": "ipython3",
   "version": "3.9.18"
  }
 },
 "nbformat": 4,
 "nbformat_minor": 2
}
