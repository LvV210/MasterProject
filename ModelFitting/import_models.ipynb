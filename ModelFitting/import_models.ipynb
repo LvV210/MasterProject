{
 "cells": [
  {
   "cell_type": "markdown",
   "metadata": {},
   "source": [
    "# Import and plot models"
   ]
  },
  {
   "cell_type": "code",
   "execution_count": 28,
   "metadata": {},
   "outputs": [],
   "source": [
    "%matplotlib qt"
   ]
  },
  {
   "cell_type": "code",
   "execution_count": 1,
   "metadata": {},
   "outputs": [],
   "source": [
    "import sys\n",
    "sys.path.append('/mnt/c/Users/luukv/Documenten/NatuurSterrkenkundeMasterProject/CodeMP/MasterProject')\n",
    "\n",
    "import numpy as np\n",
    "import matplotlib.pyplot as plt\n",
    "import os\n",
    "import re\n",
    "\n",
    "from import_data import BailerJones\n",
    "from model_functions import *\n",
    "from functions import import_spectra"
   ]
  },
  {
   "cell_type": "markdown",
   "metadata": {},
   "source": [
    "Import models and spectra"
   ]
  },
  {
   "cell_type": "code",
   "execution_count": 3,
   "metadata": {},
   "outputs": [],
   "source": [
    "models = import_models('Milkyway')\n",
    "spectra = import_spectra('4U1538_52')\n",
    "\n",
    "object_name = '4U1538-52'\n",
    "distance = BailerJones().loc[BailerJones().id == object_name]['r_med_photogeo'].reset_index(drop=True).at[0]"
   ]
  },
  {
   "cell_type": "markdown",
   "metadata": {},
   "source": [
    "Get models in given T and log(g) interval"
   ]
  },
  {
   "cell_type": "code",
   "execution_count": 4,
   "metadata": {},
   "outputs": [],
   "source": [
    "filtered_models = models_in_interval(models, T1=30000, T2=40000, log_g1=2.8, log_g2=3.2)"
   ]
  },
  {
   "cell_type": "markdown",
   "metadata": {},
   "source": [
    "Plot models and spectrum"
   ]
  },
  {
   "cell_type": "code",
   "execution_count": 7,
   "metadata": {},
   "outputs": [],
   "source": [
    "plot_models_and_spectrum(filtered_models, spectra, object_name, distance)"
   ]
  },
  {
   "cell_type": "code",
   "execution_count": 6,
   "metadata": {},
   "outputs": [],
   "source": [
    "# Open the text file for reading\n",
    "with open('/mnt/c/Users/luukv/Documenten/NatuurSterrkenkundeMasterProject/CodeMP/MasterProject/ModelFitting/Models/ob-i_25-38_line.txt/ob-i_25-38_line.txt', 'r') as file:\n",
    "    # Read all lines from the file\n",
    "    lines = file.readlines()\n",
    "\n",
    "spectrum = {'WAVELENGTH': [], 'FLUX': []}\n",
    "# Process the lines as needed\n",
    "for line in lines:\n",
    "    # Perform operations on each line\n",
    "    # For example, you might split the line into values if it's a space-separated list of numbers\n",
    "    values = line.split()\n",
    "    # Process the values accordingly\n",
    "    spectrum['WAVELENGTH'].append(float(values[0]))\n",
    "    spectrum['FLUX'].append((float(values[1])))\n",
    "\n",
    "plt.plot(spectrum['WAVELENGTH'], spectrum['FLUX'])\n",
    "plt.show()\n"
   ]
  },
  {
   "cell_type": "markdown",
   "metadata": {},
   "source": [
    "# Sav the models as .json file for quicker load in times."
   ]
  },
  {
   "cell_type": "code",
   "execution_count": 4,
   "metadata": {},
   "outputs": [],
   "source": [
    "folder_name = '/mnt/c/Users/luukv/Documenten/NatuurSterrkenkundeMasterProject/CodeMP/MasterProject/ModelFitting/Models/smc-ob-i_sed_all'\n",
    "\n",
    "# Get the list of all filenames in the folder\n",
    "file_names = [f for f in os.listdir(folder_name) if os.path.isfile(os.path.join(folder_name, f)) and f != 'modelparameters.txt']\n",
    "\n",
    "# Define a regex pattern to match the two numbers for T and log(g) from file name\n",
    "pattern = re.compile(r'(\\d+)-(\\d+)')\n",
    "\n",
    "# Import all spectra and add them to a dictionary\n",
    "models = {}\n",
    "for file in file_names:\n",
    "    # Extract temperature and log(g) from file name\n",
    "    T, log_g = map(int, pattern.findall(file)[0])\n",
    "    # Get spectrum\n",
    "    spectrum = import_model(folder_name + '/' + file)\n",
    "    # Save spectrum\n",
    "    model = {}\n",
    "    model['Name'] = f'T{T * 1000}logg{log_g / 10}'\n",
    "    model['WAVELENGTH'] = spectrum['WAVELENGTH']\n",
    "    model['FLUX'] = spectrum['FLUX']\n",
    "    model['Teff'] = T * 1000\n",
    "    model['log(g)'] = log_g / 10\n",
    "\n",
    "    models[f'T{T * 1000}logg{log_g / 10}'] = model\n",
    "\n",
    "# Save the models as json file\n",
    "with open(folder_name + '_save.json', 'w') as json_file:\n",
    "    json.dump(models, json_file)"
   ]
  },
  {
   "cell_type": "code",
   "execution_count": 6,
   "metadata": {},
   "outputs": [],
   "source": [
    "def import_SED_models_quickload(galaxy:str)->dict:\n",
    "    \"\"\"\n",
    "    Imports all SED models for a given galaxy\n",
    "\n",
    "    Args:\n",
    "        galaxy (str): Galaxy to import the models for (Milkyway, SMC, LMC)\n",
    "\n",
    "    Returns:\n",
    "        models (dict): Dictionary with SED models. Name: T{Teff}logg{log(g)}\n",
    "    \"\"\"\n",
    "    \n",
    "    # Path to the models\n",
    "    model_path = '/mnt/c/Users/luukv/Documenten/NatuurSterrkenkundeMasterProject/CodeMP/MasterProject/ModelFitting/Models/'\n",
    "\n",
    "    # Assign folder name corresponding to the galaxy\n",
    "    if galaxy == 'Milkyway':\n",
    "        folder_name = model_path + 'gal-ob-i_sed_all'\n",
    "    elif galaxy == 'SMC':\n",
    "        folder_name = model_path + 'smc-ob-i_sed_all'\n",
    "    elif galaxy == 'LMC':\n",
    "        folder_name = model_path + 'lmc-ob-i_sed_all'\n",
    "\n",
    "    # Load the JSON file with the models\n",
    "    with open(folder_name + '_save.json', 'r') as json_file:\n",
    "        models = json.load(json_file)\n",
    "\n",
    "    return models"
   ]
  },
  {
   "cell_type": "code",
   "execution_count": 7,
   "metadata": {},
   "outputs": [],
   "source": [
    "models = import_SED_models_quickload('Milkyway')"
   ]
  },
  {
   "cell_type": "code",
   "execution_count": 33,
   "metadata": {},
   "outputs": [],
   "source": [
    "wav = np.array(models['T15000logg3.0']['WAVELENGTH'])\n",
    "flux = np.array(models['T15000logg3.0']['FLUX'])\n",
    "\n",
    "plt.plot(10**wav, 10**flux)\n",
    "plt.xlabel(r'$\\lambda$ ($\\AA$)')\n",
    "plt.ylabel(r'log F$_{\\lambda}$ (erg cm$^{-2}$ s$^{-1}$ $\\AA^{-1})$ in $d=10kpc$')\n",
    "# plt.xlim(left=np.log10(3100), right=np.log10(10000))\n",
    "plt.xlim(0, 10000)\n",
    "plt.show()"
   ]
  }
 ],
 "metadata": {
  "kernelspec": {
   "display_name": "astronomy",
   "language": "python",
   "name": "astronomy"
  },
  "language_info": {
   "codemirror_mode": {
    "name": "ipython",
    "version": 3
   },
   "file_extension": ".py",
   "mimetype": "text/x-python",
   "name": "python",
   "nbconvert_exporter": "python",
   "pygments_lexer": "ipython3",
   "version": "3.9.18"
  }
 },
 "nbformat": 4,
 "nbformat_minor": 2
}
