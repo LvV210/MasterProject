{
 "cells": [
  {
   "cell_type": "markdown",
   "metadata": {},
   "source": [
    "# Determine the radius based on the spectrum\n",
    "1. Get the SED for the model that is the best fit to the spectrum.\n",
    "2. Get the photometric data for the object.\n",
    "    - The models range from 3100 $\\AA$ to 10000 $\\AA$\n",
    "3. Convert the magnitudes to fluxes.\n",
    "4. Compare the fluxes with the model in the same range. Find the factor to get the model fluxes to be the same as the data.\n",
    "5. The luminosity of the model is known, so the get the luminosity of the object you multiply that models luminosity with the factor found in (4).\n",
    "6. Since the Temperature of the best model is known, the radius can be calculated with $L=4\\pi R^{2}\\sigma T_{eff}^{4}$."
   ]
  },
  {
   "cell_type": "code",
   "execution_count": 2,
   "metadata": {},
   "outputs": [],
   "source": [
    "import sys\n",
    "sys.path.append('/mnt/c/Users/luukv/Documenten/NatuurSterrkenkundeMasterProject/CodeMP/MasterProject')\n",
    "from model_functions import import_SED_models_quickload\n",
    "from functions import import_spectra\n",
    "\n",
    "import numpy as np\n",
    "import matplotlib.pyplot as plt"
   ]
  },
  {
   "cell_type": "markdown",
   "metadata": {},
   "source": [
    "### Set parameters"
   ]
  },
  {
   "cell_type": "code",
   "execution_count": null,
   "metadata": {},
   "outputs": [],
   "source": [
    "def object_name_to_save_name(input_string: str)->str:\n",
    "    \"\"\"\n",
    "    Convert the object name to the general save name.\n",
    "\n",
    "    Args:\n",
    "        input_string (str): Object name\n",
    "\n",
    "    Returns:\n",
    "        str: Save name\n",
    "    \"\"\"\n",
    "    # Replace every '-' with '_'\n",
    "    modified_string = input_string.replace('-', '_')\n",
    "    \n",
    "    # Remove space before capital 'X'\n",
    "    modified_string = modified_string.replace(' ', '')\n",
    "\n",
    "    return modified_string\n",
    "\n",
    "object_name = '4U1538-52'\n",
    "object_save = object_name_to_save_name(object_name)\n",
    "\n",
    "galaxy = 'Milkyway'"
   ]
  },
  {
   "cell_type": "markdown",
   "metadata": {},
   "source": [
    "### Import spectra \\& models"
   ]
  },
  {
   "cell_type": "code",
   "execution_count": null,
   "metadata": {},
   "outputs": [],
   "source": [
    "spectra = import_spectra(object_save)\n",
    "SED = import_SED_models_quickload(galaxy)"
   ]
  },
  {
   "cell_type": "markdown",
   "metadata": {},
   "source": []
  },
  {
   "cell_type": "code",
   "execution_count": null,
   "metadata": {},
   "outputs": [],
   "source": []
  }
 ],
 "metadata": {
  "kernelspec": {
   "display_name": "astronomy",
   "language": "python",
   "name": "astronomy"
  },
  "language_info": {
   "codemirror_mode": {
    "name": "ipython",
    "version": 3
   },
   "file_extension": ".py",
   "mimetype": "text/x-python",
   "name": "python",
   "nbconvert_exporter": "python",
   "pygments_lexer": "ipython3",
   "version": "3.9.18"
  }
 },
 "nbformat": 4,
 "nbformat_minor": 2
}
