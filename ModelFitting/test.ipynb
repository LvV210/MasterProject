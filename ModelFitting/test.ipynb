{
 "cells": [
  {
   "cell_type": "code",
   "execution_count": 11,
   "metadata": {},
   "outputs": [
    {
     "name": "stdout",
     "output_type": "stream",
     "text": [
      "Initial EW [A]:  0.10000000000000009\n",
      "After broadening without LD:  0.09999999691179529\n",
      "After broadening with LD:  0.09999999934634562\n"
     ]
    }
   ],
   "source": [
    "%matplotlib qt\n",
    "from __future__ import print_function, division\n",
    "import numpy as np\n",
    "import matplotlib.pylab as plt\n",
    "from PyAstronomy import funcFit as fuf\n",
    "from PyAstronomy import pyasl\n",
    "import scipy.integrate as sci\n",
    "\n",
    "# Create a spectrum with a single Gaussian\n",
    "# line using funcFit's GaussFit1d object.\n",
    "# Note that this object is not used for\n",
    "# fitting here, but only a calculate a\n",
    "# Gaussian.\n",
    "g = fuf.GaussFit1d()\n",
    "g[\"mu\"] = 5005.\n",
    "g[\"A\"] = -0.1\n",
    "g[\"sig\"] = 0.1\n",
    "g[\"off\"] = 1.0\n",
    "\n",
    "# Evaluate the spectrum with 0.01 A bin size\n",
    "wvl = np.linspace(5003., 5007., 400)\n",
    "flux = g.evaluate(wvl)\n",
    "\n",
    "# Obtain the broadened spectrum using\n",
    "# vsini = 13.3 km/s and no limb-darkening\n",
    "rflux = pyasl.rotBroad(wvl, flux, 0.0, 13.3)\n",
    "\n",
    "# Obtain the broadened spectrum using\n",
    "# vsini = 13.3 km/s and strong limb-darkening\n",
    "lflux = pyasl.rotBroad(wvl, flux, 0.9, 13.3)\n",
    "\n",
    "# Check that the area of the line did not change\n",
    "# in response to the broadening\n",
    "print(\"Initial EW [A]: \", 4. - sci.trapezoid(flux, wvl))\n",
    "print(\"After broadening without LD: \", 4. - sci.trapezoid(rflux, wvl))\n",
    "print(\"After broadening with LD: \", 4. - sci.trapezoid(lflux, wvl))\n",
    "\n",
    "# Plot the results\n",
    "plt.title(\"Rotational broadening\")\n",
    "plt.xlabel(\"Wavelength [A]\")\n",
    "plt.ylabel(\"Normalized flux\")\n",
    "plt.plot(wvl, flux, 'b-', label='Original')\n",
    "plt.plot(wvl, rflux, 'r-', label='No Limdarkening')\n",
    "plt.plot(wvl, lflux, 'g-', label='Limbdarkeing')\n",
    "plt.legend()\n",
    "plt.show()"
   ]
  },
  {
   "cell_type": "code",
   "execution_count": 12,
   "metadata": {},
   "outputs": [],
   "source": [
    "x = np.array([0.1, 0.2, 0.5,0.87,1.5,2])\n",
    "y = np.array([1,2,3,1,4,1.1])\n",
    "\n",
    "w1, f1 = pyasl.equidistantInterpolation(x, y, \"2x\")\n",
    "w2, f2 = pyasl.equidistantInterpolation(x, y, \"mean\")\n",
    "w3, f3 = pyasl.equidistantInterpolation(x, y, 0.05)\n",
    "w4, f4 = pyasl.equidistantInterpolation(x, y, 1.0)\n",
    "\n",
    "plt.plot(x,y,'bo', label=\"Data\")\n",
    "plt.plot(w1, f1, 'r.-', label=\"2x\")\n",
    "plt.plot(w2, f2, 'g.-', label=\"mean\")\n",
    "plt.plot(w3, f3, 'm.-', label=\"0.02\")\n",
    "plt.plot(w4, f4, 'b.-', label='1')\n",
    "plt.legend()\n",
    "plt.show()"
   ]
  },
  {
   "cell_type": "code",
   "execution_count": 13,
   "metadata": {},
   "outputs": [],
   "source": [
    "# Create a \"spectrum\" with 0.01 A binning ...\n",
    "wvl = np.linspace(6000., 6100., 1000)\n",
    "# ... and a Gaussian absorption line\n",
    "flux = 1 - 0.7 * np.exp(-(wvl-6050.)**2/(2.*1.5**2))\n",
    "# Add some noise\n",
    "err = np.ones_like(flux) * 0.05\n",
    "# Some points with unusually large error\n",
    "err[500] = 0.3\n",
    "err[[351, 497, 766, 787]] = 0.3\n",
    "flux += np.random.normal(0, err, len(flux))\n",
    "\n",
    "# Shift that spectrum to the blue by 17 km/s including errors\n",
    "nflux1, wlprime1, nerr1 = pyasl.dopplerShift(wvl, flux, -17., edgeHandling=\"firstlast\", err=err)\n",
    "\n",
    "plt.errorbar(wvl, flux, yerr=err, fmt='b+', label=\"Original\")\n",
    "plt.errorbar(wvl, nflux1, yerr=nerr1, fmt='r+', label=\"Shifted\")\n",
    "plt.legend()\n",
    "plt.show()"
   ]
  }
 ],
 "metadata": {
  "kernelspec": {
   "display_name": "astronomy",
   "language": "python",
   "name": "astronomy"
  },
  "language_info": {
   "codemirror_mode": {
    "name": "ipython",
    "version": 3
   },
   "file_extension": ".py",
   "mimetype": "text/x-python",
   "name": "python",
   "nbconvert_exporter": "python",
   "pygments_lexer": "ipython3",
   "version": "3.9.18"
  }
 },
 "nbformat": 4,
 "nbformat_minor": 2
}
