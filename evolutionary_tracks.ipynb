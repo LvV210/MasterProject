{
 "cells": [
  {
   "cell_type": "code",
   "execution_count": 1,
   "metadata": {},
   "outputs": [],
   "source": [
    "import tarfile\n",
    "import pandas as pd\n",
    "import matplotlib.pyplot as plt\n",
    "import os\n",
    "import numpy as np"
   ]
  },
  {
   "cell_type": "code",
   "execution_count": 5,
   "metadata": {},
   "outputs": [],
   "source": [
    "def evolutionary_track(Z: float, Y: float, M: str, plot_all: bool = False, plot_single: bool = False):\n",
    "    \"\"\"\n",
    "    \"\"\"\n",
    "    \n",
    "    # Folder path to the data extracted from .gz.tar file\n",
    "    folder_path = f'evolutionary_tracks/extract/Z{Z}Y{Y}/'\n",
    "    # Specify the path to your tar.gz file\n",
    "    file_path = f'evolutionary_tracks/Z{Z}Y{Y}.tar.gz'\n",
    "\n",
    "    if os.path.exists(folder_path) and os.path.isdir(folder_path):\n",
    "        print(f\"Folder |{folder_path}| already exists.\")\n",
    "    else:\n",
    "        print(f\"Extracting files from {folder_path}...\")\n",
    "        # Open the tar.gz file for reading\n",
    "        with tarfile.open(file_path, 'r:gz') as tar:\n",
    "            # Extract all contents to a specific directory (optional)\n",
    "            tar.extractall(path='evolutionary_tracks/extract')\n",
    "\n",
    "            # List the contents of the tar.gz file\n",
    "            file_names = tar.getnames()\n",
    "            print(f\"LOADED contents of {file_path}.\")\n",
    "\n",
    "\n",
    "    # List all files in the folder\n",
    "    file_names = [f for f in os.listdir(folder_path) if os.path.isfile(os.path.join(folder_path, f)) and 'ADD' not in f and '.HB' not in f]\n",
    "\n",
    "    # Plot evolutionary track of all stars\n",
    "    if plot_all:\n",
    "        plt.figure()\n",
    "        for file_name in file_names:\n",
    "            df_evolutionary_track = pd.read_csv(f'evolutionary_tracks/extract/Z{Z}Y{Y}/{file_name}', delim_whitespace=True)\n",
    "\n",
    "            logL = df_evolutionary_track[\"LOG_L\"].tolist()\n",
    "            logT = df_evolutionary_track[\"LOG_TE\"].tolist()\n",
    "\n",
    "            logL = [float(x) for x in logL]\n",
    "            logT = [float(x) for x in logT]\n",
    "\n",
    "            plt.plot(logT, logL)\n",
    "\n",
    "        plt.grid(True)\n",
    "        plt.title(f\"All evolutionary tracks for Z={Z}, Y={Y}, M={float(M)}\"+ r\"$M_{\\odot}$\")\n",
    "        plt.gca().invert_xaxis()\n",
    "        plt.show()\n",
    "\n",
    "    # Evolutionary track of a single star of mass M\n",
    "    df_evolutionary_track = pd.read_csv(f'evolutionary_tracks/extract/Z{Z}Y{Y}/Z{Z}Y{Y}OUTA1.74_F7_M{M}.DAT', delim_whitespace=True)\n",
    "    if plot_single:\n",
    "\n",
    "        logL = df_evolutionary_track[\"LOG_L\"].tolist()\n",
    "        logT = df_evolutionary_track[\"LOG_TE\"].tolist()\n",
    "\n",
    "        logL = [float(x) for x in logL]\n",
    "        logT = [float(x) for x in logT]\n",
    "\n",
    "        plt.figure()\n",
    "        plt.title(f\"Evolutionary tracks for Z={Z}, Y={Y}, M={float(M)}\"+ r\"$M_{\\odot}$\")\n",
    "        plt.xlabel(r\"$log(T_{eff})$\")\n",
    "        plt.ylabel(r\"$log(\\frac{L}{L_{\\odot}})$\")\n",
    "        plt.plot(logT, logL)\n",
    "        plt.grid(True)\n",
    "        plt.gca().invert_xaxis()\n",
    "        plt.show()\n",
    "    \n",
    "    return df_evolutionary_track"
   ]
  },
  {
   "cell_type": "code",
   "execution_count": 9,
   "metadata": {},
   "outputs": [
    {
     "name": "stdout",
     "output_type": "stream",
     "text": [
      "Folder |evolutionary_tracks/extract/Z0.02Y0.284/| already exists.\n"
     ]
    },
    {
     "data": {
      "image/png": "[encoded data removed]",
      "text/plain": [
       "<Figure size 640x480 with 1 Axes>"
      ]
     },
     "metadata": {},
     "output_type": "display_data"
    }
   ],
   "source": [
    "# Cen X-3\n",
    "L = 6.878254\n",
    "T = np.log10(31368.0)\n",
    "\n",
    "df = evolutionary_track(Z=0.02, Y=0.284, M='120.000', plot_all=False, plot_single=False)\n",
    "\n",
    "logL = df[\"LOG_L\"].tolist()\n",
    "logT = df[\"LOG_TE\"].tolist()\n",
    "\n",
    "logL = [float(x) for x in logL]\n",
    "logT = [float(x) for x in logT]\n",
    "\n",
    "plt.plot(logT, logL)\n",
    "plt.scatter([T], [L])\n",
    "plt.grid(True)\n",
    "plt.gca().invert_xaxis()\n",
    "plt.show()"
   ]
  },
  {
   "cell_type": "markdown",
   "metadata": {},
   "source": [
    "Effect of metallicity on evolutionary track"
   ]
  },
  {
   "cell_type": "code",
   "execution_count": null,
   "metadata": {},
   "outputs": [],
   "source": [
    "ZY_values = [(0.001, 0.25), (0.0001, 0.249), (0.01, 0.267), (0.0002, 0.249), (0.002, 0.252), (0.02,0.284), (0.03, 0.302), (0.004, 0.256), (0.04, 0.321), (0.0005, 0.249), (0.006, 0.259), (0.008, 0.263), (0.014, 0.273), (0.017, 0.279)]\n",
    "\n",
    "for ZY in ZY_values:\n",
    "    df = evolutionary_track(Z=ZY[0], Y=ZY[1], M='120.000')\n"
   ]
  }
 ],
 "metadata": {
  "kernelspec": {
   "display_name": "Python 3",
   "language": "python",
   "name": "python3"
  },
  "language_info": {
   "codemirror_mode": {
    "name": "ipython",
    "version": 3
   },
   "file_extension": ".py",
   "mimetype": "text/x-python",
   "name": "python",
   "nbconvert_exporter": "python",
   "pygments_lexer": "ipython3",
   "version": "3.9.18"
  }
 },
 "nbformat": 4,
 "nbformat_minor": 2
}
